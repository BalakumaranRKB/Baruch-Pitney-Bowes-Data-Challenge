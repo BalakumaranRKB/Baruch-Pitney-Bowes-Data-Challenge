{
 "cells": [
  {
   "cell_type": "code",
   "execution_count": 1,
   "id": "08d0180b",
   "metadata": {},
   "outputs": [],
   "source": [
    "import pandas as pd"
   ]
  },
  {
   "cell_type": "code",
   "execution_count": 2,
   "id": "71b81900",
   "metadata": {},
   "outputs": [],
   "source": [
    "import numpy as np"
   ]
  },
  {
   "cell_type": "code",
   "execution_count": 3,
   "id": "c08c47c4",
   "metadata": {},
   "outputs": [],
   "source": [
    "df_train = pd.read_csv(\"cleaned_dataset_version2.csv\")"
   ]
  },
  {
   "cell_type": "code",
   "execution_count": 4,
   "id": "479f54e0",
   "metadata": {},
   "outputs": [
    {
     "data": {
      "text/html": [
       "<div>\n",
       "<style scoped>\n",
       "    .dataframe tbody tr th:only-of-type {\n",
       "        vertical-align: middle;\n",
       "    }\n",
       "\n",
       "    .dataframe tbody tr th {\n",
       "        vertical-align: top;\n",
       "    }\n",
       "\n",
       "    .dataframe thead th {\n",
       "        text-align: right;\n",
       "    }\n",
       "</style>\n",
       "<table border=\"1\" class=\"dataframe\">\n",
       "  <thead>\n",
       "    <tr style=\"text-align: right;\">\n",
       "      <th></th>\n",
       "      <th>Unnamed: 0</th>\n",
       "      <th>deviceid</th>\n",
       "      <th>avg_time_charging_lag1</th>\n",
       "      <th>avg_time_charging_lag2</th>\n",
       "      <th>avg_time_charging_lag3</th>\n",
       "      <th>charging_rate_lag3</th>\n",
       "      <th>avg_time_discharging_lag1</th>\n",
       "      <th>avg_time_discharging_lag2</th>\n",
       "      <th>avg_time_discharging_lag3</th>\n",
       "      <th>discharging_rate_lag3</th>\n",
       "      <th>...</th>\n",
       "      <th>avg_time_discharging_lag11_median</th>\n",
       "      <th>avg_time_discharging_lag6_median</th>\n",
       "      <th>discharging_rate_lag6_median</th>\n",
       "      <th>discharging_rate_lag8_median</th>\n",
       "      <th>avg_time_charging_lag12_random</th>\n",
       "      <th>avg_time_discharging_lag12_random</th>\n",
       "      <th>avg_time_charging_lag13_random</th>\n",
       "      <th>avg_time_discharging_lag13_random</th>\n",
       "      <th>avg_time_charging_lag14_random</th>\n",
       "      <th>avg_time_discharging_lag14_random</th>\n",
       "    </tr>\n",
       "  </thead>\n",
       "  <tbody>\n",
       "    <tr>\n",
       "      <th>0</th>\n",
       "      <td>0</td>\n",
       "      <td>28647</td>\n",
       "      <td>5.12</td>\n",
       "      <td>41.11</td>\n",
       "      <td>6.56</td>\n",
       "      <td>0.086667</td>\n",
       "      <td>4.37</td>\n",
       "      <td>91.70</td>\n",
       "      <td>15.70</td>\n",
       "      <td>-1.163333</td>\n",
       "      <td>...</td>\n",
       "      <td>6.07</td>\n",
       "      <td>79.33</td>\n",
       "      <td>0.816667</td>\n",
       "      <td>-0.173333</td>\n",
       "      <td>5.01</td>\n",
       "      <td>4.70</td>\n",
       "      <td>4.93</td>\n",
       "      <td>3.10</td>\n",
       "      <td>5.03</td>\n",
       "      <td>4.91</td>\n",
       "    </tr>\n",
       "    <tr>\n",
       "      <th>1</th>\n",
       "      <td>1</td>\n",
       "      <td>36175</td>\n",
       "      <td>36.60</td>\n",
       "      <td>5.16</td>\n",
       "      <td>6.23</td>\n",
       "      <td>0.136667</td>\n",
       "      <td>62.67</td>\n",
       "      <td>6.53</td>\n",
       "      <td>6.16</td>\n",
       "      <td>-0.066667</td>\n",
       "      <td>...</td>\n",
       "      <td>49.02</td>\n",
       "      <td>24.33</td>\n",
       "      <td>-3.063333</td>\n",
       "      <td>-0.103333</td>\n",
       "      <td>10.89</td>\n",
       "      <td>18.93</td>\n",
       "      <td>21.39</td>\n",
       "      <td>35.90</td>\n",
       "      <td>5.23</td>\n",
       "      <td>7.31</td>\n",
       "    </tr>\n",
       "    <tr>\n",
       "      <th>2</th>\n",
       "      <td>2</td>\n",
       "      <td>16107</td>\n",
       "      <td>5.51</td>\n",
       "      <td>5.04</td>\n",
       "      <td>4.52</td>\n",
       "      <td>-0.460000</td>\n",
       "      <td>5.13</td>\n",
       "      <td>5.65</td>\n",
       "      <td>4.14</td>\n",
       "      <td>-2.643333</td>\n",
       "      <td>...</td>\n",
       "      <td>6.23</td>\n",
       "      <td>5.73</td>\n",
       "      <td>0.000000</td>\n",
       "      <td>0.216667</td>\n",
       "      <td>5.13</td>\n",
       "      <td>4.37</td>\n",
       "      <td>4.73</td>\n",
       "      <td>3.50</td>\n",
       "      <td>26.79</td>\n",
       "      <td>41.29</td>\n",
       "    </tr>\n",
       "    <tr>\n",
       "      <th>3</th>\n",
       "      <td>3</td>\n",
       "      <td>27362</td>\n",
       "      <td>4.66</td>\n",
       "      <td>39.85</td>\n",
       "      <td>35.76</td>\n",
       "      <td>0.076667</td>\n",
       "      <td>3.93</td>\n",
       "      <td>76.37</td>\n",
       "      <td>60.86</td>\n",
       "      <td>-0.166667</td>\n",
       "      <td>...</td>\n",
       "      <td>4.15</td>\n",
       "      <td>52.99</td>\n",
       "      <td>-0.293333</td>\n",
       "      <td>-0.046667</td>\n",
       "      <td>4.71</td>\n",
       "      <td>3.82</td>\n",
       "      <td>13.27</td>\n",
       "      <td>18.62</td>\n",
       "      <td>4.97</td>\n",
       "      <td>4.16</td>\n",
       "    </tr>\n",
       "    <tr>\n",
       "      <th>4</th>\n",
       "      <td>4</td>\n",
       "      <td>19463</td>\n",
       "      <td>5.10</td>\n",
       "      <td>43.24</td>\n",
       "      <td>4.63</td>\n",
       "      <td>0.040000</td>\n",
       "      <td>4.69</td>\n",
       "      <td>71.44</td>\n",
       "      <td>3.80</td>\n",
       "      <td>0.066667</td>\n",
       "      <td>...</td>\n",
       "      <td>4.64</td>\n",
       "      <td>76.42</td>\n",
       "      <td>-0.006667</td>\n",
       "      <td>-1.790000</td>\n",
       "      <td>5.28</td>\n",
       "      <td>5.16</td>\n",
       "      <td>25.10</td>\n",
       "      <td>47.76</td>\n",
       "      <td>21.62</td>\n",
       "      <td>37.29</td>\n",
       "    </tr>\n",
       "    <tr>\n",
       "      <th>...</th>\n",
       "      <td>...</td>\n",
       "      <td>...</td>\n",
       "      <td>...</td>\n",
       "      <td>...</td>\n",
       "      <td>...</td>\n",
       "      <td>...</td>\n",
       "      <td>...</td>\n",
       "      <td>...</td>\n",
       "      <td>...</td>\n",
       "      <td>...</td>\n",
       "      <td>...</td>\n",
       "      <td>...</td>\n",
       "      <td>...</td>\n",
       "      <td>...</td>\n",
       "      <td>...</td>\n",
       "      <td>...</td>\n",
       "      <td>...</td>\n",
       "      <td>...</td>\n",
       "      <td>...</td>\n",
       "      <td>...</td>\n",
       "      <td>...</td>\n",
       "    </tr>\n",
       "    <tr>\n",
       "      <th>40495</th>\n",
       "      <td>40495</td>\n",
       "      <td>16284</td>\n",
       "      <td>4.97</td>\n",
       "      <td>5.81</td>\n",
       "      <td>5.01</td>\n",
       "      <td>-0.083333</td>\n",
       "      <td>7.13</td>\n",
       "      <td>5.41</td>\n",
       "      <td>5.60</td>\n",
       "      <td>-0.160000</td>\n",
       "      <td>...</td>\n",
       "      <td>5.91</td>\n",
       "      <td>20.12</td>\n",
       "      <td>-0.026667</td>\n",
       "      <td>0.060000</td>\n",
       "      <td>33.39</td>\n",
       "      <td>74.08</td>\n",
       "      <td>34.80</td>\n",
       "      <td>53.14</td>\n",
       "      <td>4.58</td>\n",
       "      <td>4.01</td>\n",
       "    </tr>\n",
       "    <tr>\n",
       "      <th>40496</th>\n",
       "      <td>40496</td>\n",
       "      <td>49732</td>\n",
       "      <td>4.81</td>\n",
       "      <td>4.53</td>\n",
       "      <td>31.68</td>\n",
       "      <td>0.016667</td>\n",
       "      <td>4.71</td>\n",
       "      <td>3.99</td>\n",
       "      <td>49.68</td>\n",
       "      <td>0.533333</td>\n",
       "      <td>...</td>\n",
       "      <td>5.20</td>\n",
       "      <td>39.07</td>\n",
       "      <td>-0.540000</td>\n",
       "      <td>0.450000</td>\n",
       "      <td>27.65</td>\n",
       "      <td>42.56</td>\n",
       "      <td>26.34</td>\n",
       "      <td>36.82</td>\n",
       "      <td>33.77</td>\n",
       "      <td>65.97</td>\n",
       "    </tr>\n",
       "    <tr>\n",
       "      <th>40497</th>\n",
       "      <td>40497</td>\n",
       "      <td>43158</td>\n",
       "      <td>4.73</td>\n",
       "      <td>4.77</td>\n",
       "      <td>5.71</td>\n",
       "      <td>-0.020000</td>\n",
       "      <td>3.83</td>\n",
       "      <td>3.48</td>\n",
       "      <td>4.51</td>\n",
       "      <td>0.006667</td>\n",
       "      <td>...</td>\n",
       "      <td>5.61</td>\n",
       "      <td>72.40</td>\n",
       "      <td>-0.006667</td>\n",
       "      <td>-3.506667</td>\n",
       "      <td>4.39</td>\n",
       "      <td>4.15</td>\n",
       "      <td>4.49</td>\n",
       "      <td>4.18</td>\n",
       "      <td>23.74</td>\n",
       "      <td>37.50</td>\n",
       "    </tr>\n",
       "    <tr>\n",
       "      <th>40498</th>\n",
       "      <td>40498</td>\n",
       "      <td>5860</td>\n",
       "      <td>4.93</td>\n",
       "      <td>5.01</td>\n",
       "      <td>4.85</td>\n",
       "      <td>-0.103333</td>\n",
       "      <td>3.35</td>\n",
       "      <td>4.30</td>\n",
       "      <td>4.12</td>\n",
       "      <td>0.036667</td>\n",
       "      <td>...</td>\n",
       "      <td>3.49</td>\n",
       "      <td>4.13</td>\n",
       "      <td>0.203333</td>\n",
       "      <td>0.040000</td>\n",
       "      <td>5.19</td>\n",
       "      <td>5.06</td>\n",
       "      <td>18.13</td>\n",
       "      <td>28.20</td>\n",
       "      <td>48.68</td>\n",
       "      <td>89.30</td>\n",
       "    </tr>\n",
       "    <tr>\n",
       "      <th>40499</th>\n",
       "      <td>40499</td>\n",
       "      <td>20795</td>\n",
       "      <td>30.83</td>\n",
       "      <td>5.18</td>\n",
       "      <td>33.17</td>\n",
       "      <td>0.033333</td>\n",
       "      <td>43.72</td>\n",
       "      <td>5.59</td>\n",
       "      <td>61.54</td>\n",
       "      <td>-0.026667</td>\n",
       "      <td>...</td>\n",
       "      <td>4.05</td>\n",
       "      <td>58.46</td>\n",
       "      <td>-0.283333</td>\n",
       "      <td>-0.216667</td>\n",
       "      <td>52.31</td>\n",
       "      <td>97.32</td>\n",
       "      <td>20.55</td>\n",
       "      <td>32.40</td>\n",
       "      <td>4.92</td>\n",
       "      <td>3.39</td>\n",
       "    </tr>\n",
       "  </tbody>\n",
       "</table>\n",
       "<p>40500 rows × 55 columns</p>\n",
       "</div>"
      ],
      "text/plain": [
       "       Unnamed: 0  deviceid  avg_time_charging_lag1  avg_time_charging_lag2  \\\n",
       "0               0     28647                    5.12                   41.11   \n",
       "1               1     36175                   36.60                    5.16   \n",
       "2               2     16107                    5.51                    5.04   \n",
       "3               3     27362                    4.66                   39.85   \n",
       "4               4     19463                    5.10                   43.24   \n",
       "...           ...       ...                     ...                     ...   \n",
       "40495       40495     16284                    4.97                    5.81   \n",
       "40496       40496     49732                    4.81                    4.53   \n",
       "40497       40497     43158                    4.73                    4.77   \n",
       "40498       40498      5860                    4.93                    5.01   \n",
       "40499       40499     20795                   30.83                    5.18   \n",
       "\n",
       "       avg_time_charging_lag3  charging_rate_lag3  avg_time_discharging_lag1  \\\n",
       "0                        6.56            0.086667                       4.37   \n",
       "1                        6.23            0.136667                      62.67   \n",
       "2                        4.52           -0.460000                       5.13   \n",
       "3                       35.76            0.076667                       3.93   \n",
       "4                        4.63            0.040000                       4.69   \n",
       "...                       ...                 ...                        ...   \n",
       "40495                    5.01           -0.083333                       7.13   \n",
       "40496                   31.68            0.016667                       4.71   \n",
       "40497                    5.71           -0.020000                       3.83   \n",
       "40498                    4.85           -0.103333                       3.35   \n",
       "40499                   33.17            0.033333                      43.72   \n",
       "\n",
       "       avg_time_discharging_lag2  avg_time_discharging_lag3  \\\n",
       "0                          91.70                      15.70   \n",
       "1                           6.53                       6.16   \n",
       "2                           5.65                       4.14   \n",
       "3                          76.37                      60.86   \n",
       "4                          71.44                       3.80   \n",
       "...                          ...                        ...   \n",
       "40495                       5.41                       5.60   \n",
       "40496                       3.99                      49.68   \n",
       "40497                       3.48                       4.51   \n",
       "40498                       4.30                       4.12   \n",
       "40499                       5.59                      61.54   \n",
       "\n",
       "       discharging_rate_lag3  ...  avg_time_discharging_lag11_median  \\\n",
       "0                  -1.163333  ...                               6.07   \n",
       "1                  -0.066667  ...                              49.02   \n",
       "2                  -2.643333  ...                               6.23   \n",
       "3                  -0.166667  ...                               4.15   \n",
       "4                   0.066667  ...                               4.64   \n",
       "...                      ...  ...                                ...   \n",
       "40495              -0.160000  ...                               5.91   \n",
       "40496               0.533333  ...                               5.20   \n",
       "40497               0.006667  ...                               5.61   \n",
       "40498               0.036667  ...                               3.49   \n",
       "40499              -0.026667  ...                               4.05   \n",
       "\n",
       "       avg_time_discharging_lag6_median  discharging_rate_lag6_median  \\\n",
       "0                                 79.33                      0.816667   \n",
       "1                                 24.33                     -3.063333   \n",
       "2                                  5.73                      0.000000   \n",
       "3                                 52.99                     -0.293333   \n",
       "4                                 76.42                     -0.006667   \n",
       "...                                 ...                           ...   \n",
       "40495                             20.12                     -0.026667   \n",
       "40496                             39.07                     -0.540000   \n",
       "40497                             72.40                     -0.006667   \n",
       "40498                              4.13                      0.203333   \n",
       "40499                             58.46                     -0.283333   \n",
       "\n",
       "       discharging_rate_lag8_median  avg_time_charging_lag12_random  \\\n",
       "0                         -0.173333                            5.01   \n",
       "1                         -0.103333                           10.89   \n",
       "2                          0.216667                            5.13   \n",
       "3                         -0.046667                            4.71   \n",
       "4                         -1.790000                            5.28   \n",
       "...                             ...                             ...   \n",
       "40495                      0.060000                           33.39   \n",
       "40496                      0.450000                           27.65   \n",
       "40497                     -3.506667                            4.39   \n",
       "40498                      0.040000                            5.19   \n",
       "40499                     -0.216667                           52.31   \n",
       "\n",
       "       avg_time_discharging_lag12_random  avg_time_charging_lag13_random  \\\n",
       "0                                   4.70                            4.93   \n",
       "1                                  18.93                           21.39   \n",
       "2                                   4.37                            4.73   \n",
       "3                                   3.82                           13.27   \n",
       "4                                   5.16                           25.10   \n",
       "...                                  ...                             ...   \n",
       "40495                              74.08                           34.80   \n",
       "40496                              42.56                           26.34   \n",
       "40497                               4.15                            4.49   \n",
       "40498                               5.06                           18.13   \n",
       "40499                              97.32                           20.55   \n",
       "\n",
       "       avg_time_discharging_lag13_random  avg_time_charging_lag14_random  \\\n",
       "0                                   3.10                            5.03   \n",
       "1                                  35.90                            5.23   \n",
       "2                                   3.50                           26.79   \n",
       "3                                  18.62                            4.97   \n",
       "4                                  47.76                           21.62   \n",
       "...                                  ...                             ...   \n",
       "40495                              53.14                            4.58   \n",
       "40496                              36.82                           33.77   \n",
       "40497                               4.18                           23.74   \n",
       "40498                              28.20                           48.68   \n",
       "40499                              32.40                            4.92   \n",
       "\n",
       "       avg_time_discharging_lag14_random  \n",
       "0                                   4.91  \n",
       "1                                   7.31  \n",
       "2                                  41.29  \n",
       "3                                   4.16  \n",
       "4                                  37.29  \n",
       "...                                  ...  \n",
       "40495                               4.01  \n",
       "40496                              65.97  \n",
       "40497                              37.50  \n",
       "40498                              89.30  \n",
       "40499                               3.39  \n",
       "\n",
       "[40500 rows x 55 columns]"
      ]
     },
     "execution_count": 4,
     "metadata": {},
     "output_type": "execute_result"
    }
   ],
   "source": [
    "df_train"
   ]
  },
  {
   "cell_type": "code",
   "execution_count": 5,
   "id": "20929cbb",
   "metadata": {},
   "outputs": [],
   "source": [
    "df_train.drop('Unnamed: 0', axis=1, inplace=True)"
   ]
  },
  {
   "cell_type": "code",
   "execution_count": 24,
   "id": "5c39de56",
   "metadata": {},
   "outputs": [
    {
     "data": {
      "text/plain": [
       "<AxesSubplot:xlabel='deviceid'>"
      ]
     },
     "execution_count": 24,
     "metadata": {},
     "output_type": "execute_result"
    },
    {
     "data": {
      "image/png": "[encoded data removed]",
      "text/plain": [
       "<Figure size 432x288 with 1 Axes>"
      ]
     },
     "metadata": {
      "needs_background": "light"
     },
     "output_type": "display_data"
    }
   ],
   "source": [
    "df_train[filt_1][0:10].plot(x = \"deviceid\", y = \"max_voltage_day\")"
   ]
  },
  {
   "cell_type": "code",
   "execution_count": 7,
   "id": "6b09e927",
   "metadata": {},
   "outputs": [],
   "source": [
    "filt_0 = (df_train[\"fail_7\"] == 0)\n",
    "filt_1 = (df_train[\"fail_7\"] == 1)"
   ]
  },
  {
   "cell_type": "code",
   "execution_count": 8,
   "id": "0ba209ec",
   "metadata": {},
   "outputs": [
    {
     "data": {
      "text/plain": [
       "count    31099.000000\n",
       "mean      4158.610185\n",
       "std         11.285629\n",
       "min       4112.454545\n",
       "25%       4151.058824\n",
       "50%       4158.545455\n",
       "75%       4166.066667\n",
       "max       4206.235294\n",
       "Name: max_voltage_day, dtype: float64"
      ]
     },
     "execution_count": 8,
     "metadata": {},
     "output_type": "execute_result"
    }
   ],
   "source": [
    "df_train[filt_0]['max_voltage_day'].describe()"
   ]
  },
  {
   "cell_type": "code",
   "execution_count": 9,
   "id": "76ff49f3",
   "metadata": {},
   "outputs": [
    {
     "data": {
      "text/plain": [
       "count    9401.000000\n",
       "mean     4161.435878\n",
       "std        11.104256\n",
       "min      4122.315789\n",
       "25%      4153.941176\n",
       "50%      4161.333333\n",
       "75%      4168.863636\n",
       "max      4208.900000\n",
       "Name: max_voltage_day, dtype: float64"
      ]
     },
     "execution_count": 9,
     "metadata": {},
     "output_type": "execute_result"
    }
   ],
   "source": [
    "df_train[filt_1]['max_voltage_day'].describe()"
   ]
  },
  {
   "cell_type": "code",
   "execution_count": 12,
   "id": "5d0251bd",
   "metadata": {},
   "outputs": [
    {
     "data": {
      "text/plain": [
       "count    9401.000000\n",
       "mean       86.623749\n",
       "std        15.122433\n",
       "min        28.454545\n",
       "25%        76.666667\n",
       "50%        86.714286\n",
       "75%        96.764706\n",
       "max       145.388889\n",
       "Name: chargecycles, dtype: float64"
      ]
     },
     "execution_count": 12,
     "metadata": {},
     "output_type": "execute_result"
    }
   ],
   "source": [
    "df_train[filt_1]['chargecycles'].describe()"
   ]
  },
  {
   "cell_type": "code",
   "execution_count": 13,
   "id": "43896b9b",
   "metadata": {},
   "outputs": [
    {
     "data": {
      "text/plain": [
       "count    31099.000000\n",
       "mean        84.481022\n",
       "std         15.535585\n",
       "min         14.666667\n",
       "25%         74.055556\n",
       "50%         84.500000\n",
       "75%         94.842105\n",
       "max        144.000000\n",
       "Name: chargecycles, dtype: float64"
      ]
     },
     "execution_count": 13,
     "metadata": {},
     "output_type": "execute_result"
    }
   ],
   "source": [
    "df_train[filt_0]['chargecycles'].describe()"
   ]
  },
  {
   "cell_type": "code",
   "execution_count": 6,
   "id": "b103dc62",
   "metadata": {},
   "outputs": [],
   "source": [
    "import seaborn as sns"
   ]
  },
  {
   "cell_type": "code",
   "execution_count": 16,
   "id": "42b2af5e",
   "metadata": {},
   "outputs": [
    {
     "name": "stderr",
     "output_type": "stream",
     "text": [
      "C:\\Users\\ADMIN\\anaconda3\\lib\\site-packages\\seaborn\\_decorators.py:36: FutureWarning: Pass the following variable as a keyword arg: x. From version 0.12, the only valid positional argument will be `data`, and passing other arguments without an explicit keyword will result in an error or misinterpretation.\n",
      "  warnings.warn(\n"
     ]
    },
    {
     "data": {
      "text/plain": [
       "<AxesSubplot:xlabel='chargecycles'>"
      ]
     },
     "execution_count": 16,
     "metadata": {},
     "output_type": "execute_result"
    },
    {
     "data": {
      "image/png": "[encoded data removed]",
      "text/plain": [
       "<Figure size 432x288 with 1 Axes>"
      ]
     },
     "metadata": {
      "needs_background": "light"
     },
     "output_type": "display_data"
    }
   ],
   "source": [
    "sns.boxplot('chargecycles',data=df_train[filt_0])"
   ]
  },
  {
   "cell_type": "code",
   "execution_count": 17,
   "id": "b802a700",
   "metadata": {},
   "outputs": [
    {
     "name": "stderr",
     "output_type": "stream",
     "text": [
      "C:\\Users\\ADMIN\\anaconda3\\lib\\site-packages\\seaborn\\_decorators.py:36: FutureWarning: Pass the following variable as a keyword arg: x. From version 0.12, the only valid positional argument will be `data`, and passing other arguments without an explicit keyword will result in an error or misinterpretation.\n",
      "  warnings.warn(\n"
     ]
    },
    {
     "data": {
      "text/plain": [
       "<AxesSubplot:xlabel='chargecycles'>"
      ]
     },
     "execution_count": 17,
     "metadata": {},
     "output_type": "execute_result"
    },
    {
     "data": {
      "image/png": "[encoded data removed]",
      "text/plain": [
       "<Figure size 432x288 with 1 Axes>"
      ]
     },
     "metadata": {
      "needs_background": "light"
     },
     "output_type": "display_data"
    }
   ],
   "source": [
    "sns.boxplot('chargecycles',data=df_train[filt_1])"
   ]
  },
  {
   "cell_type": "code",
   "execution_count": 18,
   "id": "e09f5dae",
   "metadata": {},
   "outputs": [
    {
     "name": "stderr",
     "output_type": "stream",
     "text": [
      "C:\\Users\\ADMIN\\anaconda3\\lib\\site-packages\\seaborn\\_decorators.py:36: FutureWarning: Pass the following variable as a keyword arg: x. From version 0.12, the only valid positional argument will be `data`, and passing other arguments without an explicit keyword will result in an error or misinterpretation.\n",
      "  warnings.warn(\n"
     ]
    },
    {
     "data": {
      "text/plain": [
       "<AxesSubplot:xlabel='dischargecycles'>"
      ]
     },
     "execution_count": 18,
     "metadata": {},
     "output_type": "execute_result"
    },
    {
     "data": {
      "image/png": "[encoded data removed]",
      "text/plain": [
       "<Figure size 432x288 with 1 Axes>"
      ]
     },
     "metadata": {
      "needs_background": "light"
     },
     "output_type": "display_data"
    }
   ],
   "source": [
    "sns.boxplot('dischargecycles',data=df_train[filt_0])"
   ]
  },
  {
   "cell_type": "code",
   "execution_count": 19,
   "id": "da30c154",
   "metadata": {},
   "outputs": [
    {
     "name": "stderr",
     "output_type": "stream",
     "text": [
      "C:\\Users\\ADMIN\\anaconda3\\lib\\site-packages\\seaborn\\_decorators.py:36: FutureWarning: Pass the following variable as a keyword arg: x. From version 0.12, the only valid positional argument will be `data`, and passing other arguments without an explicit keyword will result in an error or misinterpretation.\n",
      "  warnings.warn(\n"
     ]
    },
    {
     "data": {
      "text/plain": [
       "<AxesSubplot:xlabel='dischargecycles'>"
      ]
     },
     "execution_count": 19,
     "metadata": {},
     "output_type": "execute_result"
    },
    {
     "data": {
      "image/png": "[encoded data removed]",
      "text/plain": [
       "<Figure size 432x288 with 1 Axes>"
      ]
     },
     "metadata": {
      "needs_background": "light"
     },
     "output_type": "display_data"
    }
   ],
   "source": [
    "sns.boxplot('dischargecycles',data=df_train[filt_1])"
   ]
  },
  {
   "cell_type": "code",
   "execution_count": 20,
   "id": "aea212f7",
   "metadata": {},
   "outputs": [
    {
     "data": {
      "text/plain": [
       "count    9401.000000\n",
       "mean       86.508315\n",
       "std        15.160126\n",
       "min        28.230769\n",
       "25%        76.526316\n",
       "50%        86.600000\n",
       "75%        96.653846\n",
       "max       145.333333\n",
       "Name: dischargecycles, dtype: float64"
      ]
     },
     "execution_count": 20,
     "metadata": {},
     "output_type": "execute_result"
    }
   ],
   "source": [
    "df_train[filt_1]['dischargecycles'].describe()"
   ]
  },
  {
   "cell_type": "code",
   "execution_count": 21,
   "id": "132203ea",
   "metadata": {},
   "outputs": [
    {
     "data": {
      "text/plain": [
       "count    31099.000000\n",
       "mean        84.360436\n",
       "std         15.576914\n",
       "min         14.416667\n",
       "25%         73.904762\n",
       "50%         84.363636\n",
       "75%         94.737986\n",
       "max        144.111111\n",
       "Name: dischargecycles, dtype: float64"
      ]
     },
     "execution_count": 21,
     "metadata": {},
     "output_type": "execute_result"
    }
   ],
   "source": [
    "df_train[filt_0]['dischargecycles'].describe()"
   ]
  },
  {
   "cell_type": "code",
   "execution_count": 25,
   "id": "65b25312",
   "metadata": {},
   "outputs": [
    {
     "data": {
      "text/plain": [
       "<AxesSubplot:xlabel='deviceid'>"
      ]
     },
     "execution_count": 25,
     "metadata": {},
     "output_type": "execute_result"
    },
    {
     "data": {
      "image/png": "[encoded data removed]",
      "text/plain": [
       "<Figure size 432x288 with 1 Axes>"
      ]
     },
     "metadata": {
      "needs_background": "light"
     },
     "output_type": "display_data"
    }
   ],
   "source": [
    "df_train[filt_1][0:10].plot(x = \"deviceid\", y = \"dischargecycles\")"
   ]
  },
  {
   "cell_type": "code",
   "execution_count": 33,
   "id": "d91c6bbb",
   "metadata": {},
   "outputs": [
    {
     "data": {
      "image/png": "[encoded data removed]",
      "text/plain": [
       "<Figure size 720x504 with 1 Axes>"
      ]
     },
     "metadata": {
      "needs_background": "light"
     },
     "output_type": "display_data"
    }
   ],
   "source": [
    "from matplotlib import pyplot as plt\n",
    " \n",
    "device_id = df_train[filt_1]['deviceid']\n",
    "discharge_cycles = df_train[filt_1]['dischargecycles']\n",
    " \n",
    "# Figure Size\n",
    "fig = plt.figure(figsize =(10, 7))\n",
    " \n",
    "# Horizontal Bar Plot\n",
    "plt.bar(device_id, discharge_cycles)\n",
    " \n",
    "# Show Plot\n",
    "plt.show()"
   ]
  },
  {
   "cell_type": "code",
   "execution_count": 39,
   "id": "089d39fb",
   "metadata": {},
   "outputs": [
    {
     "data": {
      "text/plain": [
       "<AxesSubplot:xlabel='deviceid', ylabel='dischargecycles'>"
      ]
     },
     "execution_count": 39,
     "metadata": {},
     "output_type": "execute_result"
    },
    {
     "data": {
      "image/png": "[encoded data removed]",
      "text/plain": [
       "<Figure size 432x288 with 1 Axes>"
      ]
     },
     "metadata": {
      "needs_background": "light"
     },
     "output_type": "display_data"
    }
   ],
   "source": [
    "import seaborn as sns\n",
    "sns.barplot(data=df_train[0:50], x='deviceid', hue='fail_7', y='dischargecycles')"
   ]
  },
  {
   "cell_type": "code",
   "execution_count": 40,
   "id": "4caa3750",
   "metadata": {},
   "outputs": [
    {
     "data": {
      "text/plain": [
       "<AxesSubplot:xlabel='deviceid', ylabel='dischargecycles'>"
      ]
     },
     "execution_count": 40,
     "metadata": {},
     "output_type": "execute_result"
    },
    {
     "data": {
      "image/png": "[encoded data removed]",
      "text/plain": [
       "<Figure size 432x288 with 1 Axes>"
      ]
     },
     "metadata": {
      "needs_background": "light"
     },
     "output_type": "display_data"
    }
   ],
   "source": [
    "sns.barplot(data=df_train[50:100], x='deviceid', hue='fail_7', y='dischargecycles')"
   ]
  },
  {
   "cell_type": "code",
   "execution_count": 45,
   "id": "aa90279f",
   "metadata": {},
   "outputs": [
    {
     "ename": "NameError",
     "evalue": "name 'sysdate' is not defined",
     "output_type": "error",
     "traceback": [
      "\u001b[1;31m---------------------------------------------------------------------------\u001b[0m",
      "\u001b[1;31mNameError\u001b[0m                                 Traceback (most recent call last)",
      "\u001b[1;32m~\\AppData\\Local\\Temp/ipykernel_16616/2647543629.py\u001b[0m in \u001b[0;36m<module>\u001b[1;34m\u001b[0m\n\u001b[1;32m----> 1\u001b[1;33m \u001b[0msysdate\u001b[0m \u001b[1;33m-\u001b[0m\u001b[0mdf_train\u001b[0m\u001b[1;33m[\u001b[0m\u001b[0mfilt_1\u001b[0m\u001b[1;33m]\u001b[0m\u001b[1;33m[\u001b[0m\u001b[1;34m'Date Deployed'\u001b[0m\u001b[1;33m]\u001b[0m\u001b[1;33m\u001b[0m\u001b[1;33m\u001b[0m\u001b[0m\n\u001b[0m",
      "\u001b[1;31mNameError\u001b[0m: name 'sysdate' is not defined"
     ]
    }
   ],
   "source": [
    "sysdate -df_train[filt_1]['Date Deployed']"
   ]
  },
  {
   "cell_type": "code",
   "execution_count": 44,
   "id": "0b9fa439",
   "metadata": {},
   "outputs": [
    {
     "data": {
      "text/plain": [
       "count       31099\n",
       "unique        160\n",
       "top       9/20/19\n",
       "freq          672\n",
       "Name: Date Deployed, dtype: object"
      ]
     },
     "execution_count": 44,
     "metadata": {},
     "output_type": "execute_result"
    }
   ],
   "source": [
    "df_train[filt_0]['Date Deployed'].describe()"
   ]
  },
  {
   "cell_type": "code",
   "execution_count": 48,
   "id": "3c957fa2",
   "metadata": {},
   "outputs": [
    {
     "data": {
      "text/plain": [
       "count        9401\n",
       "unique        142\n",
       "top       9/19/19\n",
       "freq          213\n",
       "Name: Date Deployed, dtype: object"
      ]
     },
     "execution_count": 48,
     "metadata": {},
     "output_type": "execute_result"
    }
   ],
   "source": [
    "df_train[filt_1]['Date Deployed'].describe()"
   ]
  },
  {
   "cell_type": "code",
   "execution_count": 46,
   "id": "102dd145",
   "metadata": {},
   "outputs": [
    {
     "data": {
      "text/plain": [
       "11          9/15/19\n",
       "18       11-12-2019\n",
       "25         10/13/19\n",
       "26         10/19/19\n",
       "32          9/28/19\n",
       "            ...    \n",
       "40493    09-12-2019\n",
       "40495    09-05-2019\n",
       "40496       9/18/19\n",
       "40497      10/18/19\n",
       "40499       9/16/19\n",
       "Name: Date Deployed, Length: 9401, dtype: object"
      ]
     },
     "execution_count": 46,
     "metadata": {},
     "output_type": "execute_result"
    }
   ],
   "source": [
    "df_train[filt_1]['Date Deployed']"
   ]
  },
  {
   "cell_type": "code",
   "execution_count": 47,
   "id": "9f4943e7",
   "metadata": {},
   "outputs": [
    {
     "data": {
      "text/plain": [
       "0        10-06-2019\n",
       "1          10/27/19\n",
       "2          10/31/19\n",
       "3        10-01-2019\n",
       "4           9/13/19\n",
       "            ...    \n",
       "40495    09-05-2019\n",
       "40496       9/18/19\n",
       "40497      10/18/19\n",
       "40498    10-02-2019\n",
       "40499       9/16/19\n",
       "Name: Date Deployed, Length: 40500, dtype: object"
      ]
     },
     "execution_count": 47,
     "metadata": {},
     "output_type": "execute_result"
    }
   ],
   "source": [
    "df_train['Date Deployed']"
   ]
  },
  {
   "cell_type": "code",
   "execution_count": 7,
   "id": "df499c4d",
   "metadata": {},
   "outputs": [
    {
     "name": "stdout",
     "output_type": "stream",
     "text": [
      "(40500, 53)\n",
      "(40500,)\n"
     ]
    }
   ],
   "source": [
    "columns = df_train.columns.tolist()\n",
    "# Filter the columns to remove data we do not want \n",
    "columns = [c for c in columns if c not in [\"fail_7\"]]\n",
    "# Store the variable we are predicting \n",
    "target = \"fail_7\"\n",
    "# Define a random state \n",
    "state = np.random.RandomState(42)\n",
    "X = df_train[columns]\n",
    "Y = df_train[target]\n",
    "X_outliers = state.uniform(low=0, high=1, size=(X.shape[0], X.shape[1]))\n",
    "# Print the shapes of X & Y\n",
    "print(X.shape)\n",
    "print(Y.shape)"
   ]
  },
  {
   "cell_type": "code",
   "execution_count": 8,
   "id": "ee070181",
   "metadata": {},
   "outputs": [
    {
     "data": {
      "text/plain": [
       "False"
      ]
     },
     "execution_count": 8,
     "metadata": {},
     "output_type": "execute_result"
    }
   ],
   "source": [
    "df_train.isnull().values.any()"
   ]
  },
  {
   "cell_type": "code",
   "execution_count": 9,
   "id": "76b4cf92",
   "metadata": {},
   "outputs": [],
   "source": [
    "LABELS = [0, 1]"
   ]
  },
  {
   "cell_type": "code",
   "execution_count": 10,
   "id": "e30d8dff",
   "metadata": {},
   "outputs": [],
   "source": [
    "import matplotlib.pyplot as plt"
   ]
  },
  {
   "cell_type": "code",
   "execution_count": 11,
   "id": "01d9b965",
   "metadata": {},
   "outputs": [
    {
     "data": {
      "text/plain": [
       "Text(0, 0.5, 'Frequency')"
      ]
     },
     "execution_count": 11,
     "metadata": {},
     "output_type": "execute_result"
    },
    {
     "data": {
      "image/png": "[encoded data removed]",
      "text/plain": [
       "<Figure size 432x288 with 1 Axes>"
      ]
     },
     "metadata": {
      "needs_background": "light"
     },
     "output_type": "display_data"
    }
   ],
   "source": [
    "count_classes = pd.value_counts(df_train['fail_7'], sort = True)\n",
    "\n",
    "count_classes.plot(kind = 'bar', rot=0)\n",
    "\n",
    "plt.title(\"Transaction Class Distribution\")\n",
    "\n",
    "plt.xticks(range(2), LABELS)\n",
    "\n",
    "plt.xlabel(\"Class\")\n",
    "\n",
    "plt.ylabel(\"Frequency\")"
   ]
  },
  {
   "cell_type": "code",
   "execution_count": 12,
   "id": "5e6f0661",
   "metadata": {},
   "outputs": [],
   "source": [
    "import numpy as np\n",
    "import pandas as pd\n",
    "import sklearn\n",
    "import scipy\n",
    "import matplotlib.pyplot as plt\n",
    "import seaborn as sns\n",
    "from sklearn.metrics import classification_report,accuracy_score\n",
    "from sklearn.ensemble import IsolationForest\n",
    "from sklearn.neighbors import LocalOutlierFactor\n",
    "from sklearn.svm import OneClassSVM\n",
    "from pylab import rcParams\n",
    "rcParams['figure.figsize'] = 14, 8\n",
    "RANDOM_SEED = 42\n",
    "LABELS = [\"Normal\", \"Fraud\"]"
   ]
  },
  {
   "cell_type": "code",
   "execution_count": 31,
   "id": "ac1a5c4b",
   "metadata": {},
   "outputs": [
    {
     "name": "stdout",
     "output_type": "stream",
     "text": [
      "Collecting imblearn\n",
      "  Using cached imblearn-0.0-py2.py3-none-any.whl (1.9 kB)\n",
      "Requirement already satisfied: imbalanced-learn in c:\\users\\admin\\anaconda3\\lib\\site-packages (from imblearn) (0.7.0)\n",
      "Requirement already satisfied: joblib>=0.11 in c:\\users\\admin\\anaconda3\\lib\\site-packages (from imbalanced-learn->imblearn) (1.1.0)\n",
      "Requirement already satisfied: scikit-learn>=0.23 in c:\\users\\admin\\anaconda3\\lib\\site-packages (from imbalanced-learn->imblearn) (1.0.2)\n",
      "Requirement already satisfied: scipy>=0.19.1 in c:\\users\\admin\\anaconda3\\lib\\site-packages (from imbalanced-learn->imblearn) (1.7.1)\n",
      "Requirement already satisfied: numpy>=1.13.3 in c:\\users\\admin\\anaconda3\\lib\\site-packages (from imbalanced-learn->imblearn) (1.20.3)\n",
      "Requirement already satisfied: threadpoolctl>=2.0.0 in c:\\users\\admin\\anaconda3\\lib\\site-packages (from scikit-learn>=0.23->imbalanced-learn->imblearn) (2.2.0)\n",
      "Installing collected packages: imblearn\n",
      "Successfully installed imblearn-0.0\n"
     ]
    }
   ],
   "source": [
    "!pip install imblearn"
   ]
  },
  {
   "cell_type": "code",
   "execution_count": 34,
   "id": "981749af",
   "metadata": {},
   "outputs": [
    {
     "name": "stdout",
     "output_type": "stream",
     "text": [
      "Requirement already satisfied: imbalanced-learn in c:\\users\\admin\\anaconda3\\lib\\site-packages (0.7.0)\n",
      "Collecting imbalanced-learn\n",
      "  Using cached imbalanced_learn-0.9.0-py3-none-any.whl (199 kB)\n",
      "Requirement already satisfied: scikit-learn>=1.0.1 in c:\\users\\admin\\anaconda3\\lib\\site-packages (from imbalanced-learn) (1.0.2)\n",
      "Requirement already satisfied: joblib>=0.11 in c:\\users\\admin\\anaconda3\\lib\\site-packages (from imbalanced-learn) (1.1.0)\n",
      "Requirement already satisfied: scipy>=1.1.0 in c:\\users\\admin\\anaconda3\\lib\\site-packages (from imbalanced-learn) (1.7.1)\n",
      "Requirement already satisfied: threadpoolctl>=2.0.0 in c:\\users\\admin\\anaconda3\\lib\\site-packages (from imbalanced-learn) (2.2.0)\n",
      "Requirement already satisfied: numpy>=1.14.6 in c:\\users\\admin\\anaconda3\\lib\\site-packages (from imbalanced-learn) (1.20.3)\n",
      "Installing collected packages: imbalanced-learn\n",
      "  Attempting uninstall: imbalanced-learn\n",
      "    Found existing installation: imbalanced-learn 0.7.0\n",
      "    Uninstalling imbalanced-learn-0.7.0:\n",
      "      Successfully uninstalled imbalanced-learn-0.7.0\n",
      "Successfully installed imbalanced-learn-0.9.0\n",
      "Note: you may need to restart the kernel to use updated packages.\n"
     ]
    }
   ],
   "source": [
    "pip install -U imbalanced-learn"
   ]
  },
  {
   "cell_type": "code",
   "execution_count": 13,
   "id": "bbf18413",
   "metadata": {},
   "outputs": [],
   "source": [
    "#from imblearn import under_sampling, over_sampling\n",
    "from imblearn.under_sampling import NearMiss"
   ]
  },
  {
   "cell_type": "code",
   "execution_count": 14,
   "id": "19c1a18a",
   "metadata": {},
   "outputs": [
    {
     "ename": "AttributeError",
     "evalue": "'NearMiss' object has no attribute 'fit_sample'",
     "output_type": "error",
     "traceback": [
      "\u001b[1;31m---------------------------------------------------------------------------\u001b[0m",
      "\u001b[1;31mAttributeError\u001b[0m                            Traceback (most recent call last)",
      "\u001b[1;32m~\\AppData\\Local\\Temp/ipykernel_20084/2741070780.py\u001b[0m in \u001b[0;36m<module>\u001b[1;34m\u001b[0m\n\u001b[0;32m      1\u001b[0m \u001b[0mnm\u001b[0m \u001b[1;33m=\u001b[0m \u001b[0mNearMiss\u001b[0m\u001b[1;33m(\u001b[0m\u001b[1;33m)\u001b[0m\u001b[1;33m\u001b[0m\u001b[1;33m\u001b[0m\u001b[0m\n\u001b[1;32m----> 2\u001b[1;33m \u001b[0mX_res\u001b[0m\u001b[1;33m,\u001b[0m\u001b[0my_res\u001b[0m\u001b[1;33m=\u001b[0m\u001b[0mnm\u001b[0m\u001b[1;33m.\u001b[0m\u001b[0mfit_sample\u001b[0m\u001b[1;33m(\u001b[0m\u001b[0mX\u001b[0m\u001b[1;33m,\u001b[0m\u001b[0mY\u001b[0m\u001b[1;33m)\u001b[0m\u001b[1;33m\u001b[0m\u001b[1;33m\u001b[0m\u001b[0m\n\u001b[0m",
      "\u001b[1;31mAttributeError\u001b[0m: 'NearMiss' object has no attribute 'fit_sample'"
     ]
    }
   ],
   "source": [
    "nm = NearMiss()\n",
    "X_res,y_res=nm.fit_sample(X,Y)"
   ]
  },
  {
   "cell_type": "code",
   "execution_count": 15,
   "id": "b4ffb506",
   "metadata": {},
   "outputs": [],
   "source": [
    "from imblearn.under_sampling import RandomUnderSampler "
   ]
  },
  {
   "cell_type": "code",
   "execution_count": 31,
   "id": "a123d03f",
   "metadata": {},
   "outputs": [
    {
     "data": {
      "text/plain": [
       "0        0\n",
       "1        0\n",
       "2        0\n",
       "3        0\n",
       "4        0\n",
       "        ..\n",
       "18797    1\n",
       "18798    1\n",
       "18799    1\n",
       "18800    1\n",
       "18801    1\n",
       "Name: fail_7, Length: 18802, dtype: int64"
      ]
     },
     "execution_count": 31,
     "metadata": {},
     "output_type": "execute_result"
    }
   ],
   "source": [
    "y_res"
   ]
  },
  {
   "cell_type": "code",
   "execution_count": 16,
   "id": "e580420f",
   "metadata": {},
   "outputs": [],
   "source": [
    "under_sampler = RandomUnderSampler()\n",
    "X_res, y_res = under_sampler.fit_resample(X, Y)"
   ]
  },
  {
   "cell_type": "code",
   "execution_count": 17,
   "id": "b22f3cf9",
   "metadata": {},
   "outputs": [
    {
     "data": {
      "text/plain": [
       "0    9401\n",
       "1    9401\n",
       "Name: fail_7, dtype: int64"
      ]
     },
     "execution_count": 17,
     "metadata": {},
     "output_type": "execute_result"
    }
   ],
   "source": [
    "y_res.value_counts()"
   ]
  },
  {
   "cell_type": "code",
   "execution_count": 25,
   "id": "871398a6",
   "metadata": {},
   "outputs": [],
   "source": [
    "df_test_under = X_res.append(y_res,)"
   ]
  },
  {
   "cell_type": "code",
   "execution_count": 24,
   "id": "4afb952c",
   "metadata": {},
   "outputs": [
    {
     "data": {
      "text/html": [
       "<div>\n",
       "<style scoped>\n",
       "    .dataframe tbody tr th:only-of-type {\n",
       "        vertical-align: middle;\n",
       "    }\n",
       "\n",
       "    .dataframe tbody tr th {\n",
       "        vertical-align: top;\n",
       "    }\n",
       "\n",
       "    .dataframe thead th {\n",
       "        text-align: right;\n",
       "    }\n",
       "</style>\n",
       "<table border=\"1\" class=\"dataframe\">\n",
       "  <thead>\n",
       "    <tr style=\"text-align: right;\">\n",
       "      <th></th>\n",
       "      <th>deviceid</th>\n",
       "      <th>avg_time_charging_lag1</th>\n",
       "      <th>avg_time_charging_lag2</th>\n",
       "      <th>avg_time_charging_lag3</th>\n",
       "      <th>charging_rate_lag3</th>\n",
       "      <th>avg_time_discharging_lag1</th>\n",
       "      <th>avg_time_discharging_lag2</th>\n",
       "      <th>avg_time_discharging_lag3</th>\n",
       "      <th>discharging_rate_lag3</th>\n",
       "      <th>charge_cycle_time_below_12</th>\n",
       "      <th>...</th>\n",
       "      <th>avg_time_discharging_lag11_median</th>\n",
       "      <th>avg_time_discharging_lag6_median</th>\n",
       "      <th>discharging_rate_lag6_median</th>\n",
       "      <th>discharging_rate_lag8_median</th>\n",
       "      <th>avg_time_charging_lag12_random</th>\n",
       "      <th>avg_time_discharging_lag12_random</th>\n",
       "      <th>avg_time_charging_lag13_random</th>\n",
       "      <th>avg_time_discharging_lag13_random</th>\n",
       "      <th>avg_time_charging_lag14_random</th>\n",
       "      <th>avg_time_discharging_lag14_random</th>\n",
       "    </tr>\n",
       "  </thead>\n",
       "  <tbody>\n",
       "    <tr>\n",
       "      <th>0</th>\n",
       "      <td>35252</td>\n",
       "      <td>4.54</td>\n",
       "      <td>22.42</td>\n",
       "      <td>19.75</td>\n",
       "      <td>-1.000000</td>\n",
       "      <td>3.62</td>\n",
       "      <td>35.26</td>\n",
       "      <td>32.46</td>\n",
       "      <td>-2.803333</td>\n",
       "      <td>False</td>\n",
       "      <td>...</td>\n",
       "      <td>82.43</td>\n",
       "      <td>44.32</td>\n",
       "      <td>-8.113333</td>\n",
       "      <td>-1.736667</td>\n",
       "      <td>4.84</td>\n",
       "      <td>4.28</td>\n",
       "      <td>5.87</td>\n",
       "      <td>4.95</td>\n",
       "      <td>20.98</td>\n",
       "      <td>36.79</td>\n",
       "    </tr>\n",
       "    <tr>\n",
       "      <th>1</th>\n",
       "      <td>40091</td>\n",
       "      <td>4.91</td>\n",
       "      <td>4.59</td>\n",
       "      <td>35.50</td>\n",
       "      <td>-0.043333</td>\n",
       "      <td>3.32</td>\n",
       "      <td>4.18</td>\n",
       "      <td>45.79</td>\n",
       "      <td>0.056667</td>\n",
       "      <td>False</td>\n",
       "      <td>...</td>\n",
       "      <td>34.76</td>\n",
       "      <td>61.70</td>\n",
       "      <td>1.066667</td>\n",
       "      <td>0.723333</td>\n",
       "      <td>7.10</td>\n",
       "      <td>8.55</td>\n",
       "      <td>4.83</td>\n",
       "      <td>3.36</td>\n",
       "      <td>4.58</td>\n",
       "      <td>3.93</td>\n",
       "    </tr>\n",
       "    <tr>\n",
       "      <th>2</th>\n",
       "      <td>23216</td>\n",
       "      <td>5.91</td>\n",
       "      <td>33.27</td>\n",
       "      <td>30.11</td>\n",
       "      <td>-0.500000</td>\n",
       "      <td>5.92</td>\n",
       "      <td>61.74</td>\n",
       "      <td>47.79</td>\n",
       "      <td>-0.020000</td>\n",
       "      <td>False</td>\n",
       "      <td>...</td>\n",
       "      <td>32.65</td>\n",
       "      <td>4.15</td>\n",
       "      <td>-0.280000</td>\n",
       "      <td>-0.036667</td>\n",
       "      <td>35.08</td>\n",
       "      <td>56.89</td>\n",
       "      <td>44.45</td>\n",
       "      <td>74.33</td>\n",
       "      <td>4.61</td>\n",
       "      <td>4.43</td>\n",
       "    </tr>\n",
       "    <tr>\n",
       "      <th>3</th>\n",
       "      <td>29464</td>\n",
       "      <td>4.49</td>\n",
       "      <td>6.20</td>\n",
       "      <td>17.19</td>\n",
       "      <td>0.086667</td>\n",
       "      <td>4.16</td>\n",
       "      <td>5.19</td>\n",
       "      <td>25.15</td>\n",
       "      <td>-0.230000</td>\n",
       "      <td>True</td>\n",
       "      <td>...</td>\n",
       "      <td>4.57</td>\n",
       "      <td>3.89</td>\n",
       "      <td>-0.960000</td>\n",
       "      <td>-3.236667</td>\n",
       "      <td>8.13</td>\n",
       "      <td>10.36</td>\n",
       "      <td>45.91</td>\n",
       "      <td>82.13</td>\n",
       "      <td>17.43</td>\n",
       "      <td>26.34</td>\n",
       "    </tr>\n",
       "    <tr>\n",
       "      <th>4</th>\n",
       "      <td>5024</td>\n",
       "      <td>5.24</td>\n",
       "      <td>22.89</td>\n",
       "      <td>4.45</td>\n",
       "      <td>-0.060000</td>\n",
       "      <td>4.37</td>\n",
       "      <td>35.24</td>\n",
       "      <td>4.19</td>\n",
       "      <td>-0.003333</td>\n",
       "      <td>True</td>\n",
       "      <td>...</td>\n",
       "      <td>72.68</td>\n",
       "      <td>5.04</td>\n",
       "      <td>-0.026667</td>\n",
       "      <td>0.703333</td>\n",
       "      <td>4.50</td>\n",
       "      <td>3.94</td>\n",
       "      <td>4.87</td>\n",
       "      <td>3.70</td>\n",
       "      <td>5.41</td>\n",
       "      <td>5.34</td>\n",
       "    </tr>\n",
       "    <tr>\n",
       "      <th>...</th>\n",
       "      <td>...</td>\n",
       "      <td>...</td>\n",
       "      <td>...</td>\n",
       "      <td>...</td>\n",
       "      <td>...</td>\n",
       "      <td>...</td>\n",
       "      <td>...</td>\n",
       "      <td>...</td>\n",
       "      <td>...</td>\n",
       "      <td>...</td>\n",
       "      <td>...</td>\n",
       "      <td>...</td>\n",
       "      <td>...</td>\n",
       "      <td>...</td>\n",
       "      <td>...</td>\n",
       "      <td>...</td>\n",
       "      <td>...</td>\n",
       "      <td>...</td>\n",
       "      <td>...</td>\n",
       "      <td>...</td>\n",
       "      <td>...</td>\n",
       "    </tr>\n",
       "    <tr>\n",
       "      <th>18797</th>\n",
       "      <td>21850</td>\n",
       "      <td>4.80</td>\n",
       "      <td>47.93</td>\n",
       "      <td>5.33</td>\n",
       "      <td>0.000000</td>\n",
       "      <td>3.58</td>\n",
       "      <td>44.34</td>\n",
       "      <td>5.12</td>\n",
       "      <td>-0.046667</td>\n",
       "      <td>True</td>\n",
       "      <td>...</td>\n",
       "      <td>4.23</td>\n",
       "      <td>4.77</td>\n",
       "      <td>0.226667</td>\n",
       "      <td>-0.216667</td>\n",
       "      <td>46.36</td>\n",
       "      <td>67.75</td>\n",
       "      <td>6.02</td>\n",
       "      <td>6.04</td>\n",
       "      <td>23.26</td>\n",
       "      <td>46.65</td>\n",
       "    </tr>\n",
       "    <tr>\n",
       "      <th>18798</th>\n",
       "      <td>16284</td>\n",
       "      <td>4.97</td>\n",
       "      <td>5.81</td>\n",
       "      <td>5.01</td>\n",
       "      <td>-0.083333</td>\n",
       "      <td>7.13</td>\n",
       "      <td>5.41</td>\n",
       "      <td>5.60</td>\n",
       "      <td>-0.160000</td>\n",
       "      <td>True</td>\n",
       "      <td>...</td>\n",
       "      <td>5.91</td>\n",
       "      <td>20.12</td>\n",
       "      <td>-0.026667</td>\n",
       "      <td>0.060000</td>\n",
       "      <td>33.39</td>\n",
       "      <td>74.08</td>\n",
       "      <td>34.80</td>\n",
       "      <td>53.14</td>\n",
       "      <td>4.58</td>\n",
       "      <td>4.01</td>\n",
       "    </tr>\n",
       "    <tr>\n",
       "      <th>18799</th>\n",
       "      <td>49732</td>\n",
       "      <td>4.81</td>\n",
       "      <td>4.53</td>\n",
       "      <td>31.68</td>\n",
       "      <td>0.016667</td>\n",
       "      <td>4.71</td>\n",
       "      <td>3.99</td>\n",
       "      <td>49.68</td>\n",
       "      <td>0.533333</td>\n",
       "      <td>True</td>\n",
       "      <td>...</td>\n",
       "      <td>5.20</td>\n",
       "      <td>39.07</td>\n",
       "      <td>-0.540000</td>\n",
       "      <td>0.450000</td>\n",
       "      <td>27.65</td>\n",
       "      <td>42.56</td>\n",
       "      <td>26.34</td>\n",
       "      <td>36.82</td>\n",
       "      <td>33.77</td>\n",
       "      <td>65.97</td>\n",
       "    </tr>\n",
       "    <tr>\n",
       "      <th>18800</th>\n",
       "      <td>43158</td>\n",
       "      <td>4.73</td>\n",
       "      <td>4.77</td>\n",
       "      <td>5.71</td>\n",
       "      <td>-0.020000</td>\n",
       "      <td>3.83</td>\n",
       "      <td>3.48</td>\n",
       "      <td>4.51</td>\n",
       "      <td>0.006667</td>\n",
       "      <td>True</td>\n",
       "      <td>...</td>\n",
       "      <td>5.61</td>\n",
       "      <td>72.40</td>\n",
       "      <td>-0.006667</td>\n",
       "      <td>-3.506667</td>\n",
       "      <td>4.39</td>\n",
       "      <td>4.15</td>\n",
       "      <td>4.49</td>\n",
       "      <td>4.18</td>\n",
       "      <td>23.74</td>\n",
       "      <td>37.50</td>\n",
       "    </tr>\n",
       "    <tr>\n",
       "      <th>18801</th>\n",
       "      <td>20795</td>\n",
       "      <td>30.83</td>\n",
       "      <td>5.18</td>\n",
       "      <td>33.17</td>\n",
       "      <td>0.033333</td>\n",
       "      <td>43.72</td>\n",
       "      <td>5.59</td>\n",
       "      <td>61.54</td>\n",
       "      <td>-0.026667</td>\n",
       "      <td>True</td>\n",
       "      <td>...</td>\n",
       "      <td>4.05</td>\n",
       "      <td>58.46</td>\n",
       "      <td>-0.283333</td>\n",
       "      <td>-0.216667</td>\n",
       "      <td>52.31</td>\n",
       "      <td>97.32</td>\n",
       "      <td>20.55</td>\n",
       "      <td>32.40</td>\n",
       "      <td>4.92</td>\n",
       "      <td>3.39</td>\n",
       "    </tr>\n",
       "  </tbody>\n",
       "</table>\n",
       "<p>18802 rows × 53 columns</p>\n",
       "</div>"
      ],
      "text/plain": [
       "       deviceid  avg_time_charging_lag1  avg_time_charging_lag2  \\\n",
       "0         35252                    4.54                   22.42   \n",
       "1         40091                    4.91                    4.59   \n",
       "2         23216                    5.91                   33.27   \n",
       "3         29464                    4.49                    6.20   \n",
       "4          5024                    5.24                   22.89   \n",
       "...         ...                     ...                     ...   \n",
       "18797     21850                    4.80                   47.93   \n",
       "18798     16284                    4.97                    5.81   \n",
       "18799     49732                    4.81                    4.53   \n",
       "18800     43158                    4.73                    4.77   \n",
       "18801     20795                   30.83                    5.18   \n",
       "\n",
       "       avg_time_charging_lag3  charging_rate_lag3  avg_time_discharging_lag1  \\\n",
       "0                       19.75           -1.000000                       3.62   \n",
       "1                       35.50           -0.043333                       3.32   \n",
       "2                       30.11           -0.500000                       5.92   \n",
       "3                       17.19            0.086667                       4.16   \n",
       "4                        4.45           -0.060000                       4.37   \n",
       "...                       ...                 ...                        ...   \n",
       "18797                    5.33            0.000000                       3.58   \n",
       "18798                    5.01           -0.083333                       7.13   \n",
       "18799                   31.68            0.016667                       4.71   \n",
       "18800                    5.71           -0.020000                       3.83   \n",
       "18801                   33.17            0.033333                      43.72   \n",
       "\n",
       "       avg_time_discharging_lag2  avg_time_discharging_lag3  \\\n",
       "0                          35.26                      32.46   \n",
       "1                           4.18                      45.79   \n",
       "2                          61.74                      47.79   \n",
       "3                           5.19                      25.15   \n",
       "4                          35.24                       4.19   \n",
       "...                          ...                        ...   \n",
       "18797                      44.34                       5.12   \n",
       "18798                       5.41                       5.60   \n",
       "18799                       3.99                      49.68   \n",
       "18800                       3.48                       4.51   \n",
       "18801                       5.59                      61.54   \n",
       "\n",
       "       discharging_rate_lag3  charge_cycle_time_below_12  ...  \\\n",
       "0                  -2.803333                       False  ...   \n",
       "1                   0.056667                       False  ...   \n",
       "2                  -0.020000                       False  ...   \n",
       "3                  -0.230000                        True  ...   \n",
       "4                  -0.003333                        True  ...   \n",
       "...                      ...                         ...  ...   \n",
       "18797              -0.046667                        True  ...   \n",
       "18798              -0.160000                        True  ...   \n",
       "18799               0.533333                        True  ...   \n",
       "18800               0.006667                        True  ...   \n",
       "18801              -0.026667                        True  ...   \n",
       "\n",
       "       avg_time_discharging_lag11_median  avg_time_discharging_lag6_median  \\\n",
       "0                                  82.43                             44.32   \n",
       "1                                  34.76                             61.70   \n",
       "2                                  32.65                              4.15   \n",
       "3                                   4.57                              3.89   \n",
       "4                                  72.68                              5.04   \n",
       "...                                  ...                               ...   \n",
       "18797                               4.23                              4.77   \n",
       "18798                               5.91                             20.12   \n",
       "18799                               5.20                             39.07   \n",
       "18800                               5.61                             72.40   \n",
       "18801                               4.05                             58.46   \n",
       "\n",
       "       discharging_rate_lag6_median  discharging_rate_lag8_median  \\\n",
       "0                         -8.113333                     -1.736667   \n",
       "1                          1.066667                      0.723333   \n",
       "2                         -0.280000                     -0.036667   \n",
       "3                         -0.960000                     -3.236667   \n",
       "4                         -0.026667                      0.703333   \n",
       "...                             ...                           ...   \n",
       "18797                      0.226667                     -0.216667   \n",
       "18798                     -0.026667                      0.060000   \n",
       "18799                     -0.540000                      0.450000   \n",
       "18800                     -0.006667                     -3.506667   \n",
       "18801                     -0.283333                     -0.216667   \n",
       "\n",
       "       avg_time_charging_lag12_random  avg_time_discharging_lag12_random  \\\n",
       "0                                4.84                               4.28   \n",
       "1                                7.10                               8.55   \n",
       "2                               35.08                              56.89   \n",
       "3                                8.13                              10.36   \n",
       "4                                4.50                               3.94   \n",
       "...                               ...                                ...   \n",
       "18797                           46.36                              67.75   \n",
       "18798                           33.39                              74.08   \n",
       "18799                           27.65                              42.56   \n",
       "18800                            4.39                               4.15   \n",
       "18801                           52.31                              97.32   \n",
       "\n",
       "       avg_time_charging_lag13_random  avg_time_discharging_lag13_random  \\\n",
       "0                                5.87                               4.95   \n",
       "1                                4.83                               3.36   \n",
       "2                               44.45                              74.33   \n",
       "3                               45.91                              82.13   \n",
       "4                                4.87                               3.70   \n",
       "...                               ...                                ...   \n",
       "18797                            6.02                               6.04   \n",
       "18798                           34.80                              53.14   \n",
       "18799                           26.34                              36.82   \n",
       "18800                            4.49                               4.18   \n",
       "18801                           20.55                              32.40   \n",
       "\n",
       "       avg_time_charging_lag14_random  avg_time_discharging_lag14_random  \n",
       "0                               20.98                              36.79  \n",
       "1                                4.58                               3.93  \n",
       "2                                4.61                               4.43  \n",
       "3                               17.43                              26.34  \n",
       "4                                5.41                               5.34  \n",
       "...                               ...                                ...  \n",
       "18797                           23.26                              46.65  \n",
       "18798                            4.58                               4.01  \n",
       "18799                           33.77                              65.97  \n",
       "18800                           23.74                              37.50  \n",
       "18801                            4.92                               3.39  \n",
       "\n",
       "[18802 rows x 53 columns]"
      ]
     },
     "execution_count": 24,
     "metadata": {},
     "output_type": "execute_result"
    }
   ],
   "source": [
    "X_res"
   ]
  },
  {
   "cell_type": "code",
   "execution_count": 27,
   "id": "cf12ed7b",
   "metadata": {},
   "outputs": [],
   "source": [
    "df_test_under = pd.concat([X_res, y_res], axis=1)"
   ]
  },
  {
   "cell_type": "code",
   "execution_count": 28,
   "id": "a58d2d09",
   "metadata": {},
   "outputs": [
    {
     "data": {
      "text/html": [
       "<div>\n",
       "<style scoped>\n",
       "    .dataframe tbody tr th:only-of-type {\n",
       "        vertical-align: middle;\n",
       "    }\n",
       "\n",
       "    .dataframe tbody tr th {\n",
       "        vertical-align: top;\n",
       "    }\n",
       "\n",
       "    .dataframe thead th {\n",
       "        text-align: right;\n",
       "    }\n",
       "</style>\n",
       "<table border=\"1\" class=\"dataframe\">\n",
       "  <thead>\n",
       "    <tr style=\"text-align: right;\">\n",
       "      <th></th>\n",
       "      <th>deviceid</th>\n",
       "      <th>avg_time_charging_lag1</th>\n",
       "      <th>avg_time_charging_lag2</th>\n",
       "      <th>avg_time_charging_lag3</th>\n",
       "      <th>charging_rate_lag3</th>\n",
       "      <th>avg_time_discharging_lag1</th>\n",
       "      <th>avg_time_discharging_lag2</th>\n",
       "      <th>avg_time_discharging_lag3</th>\n",
       "      <th>discharging_rate_lag3</th>\n",
       "      <th>charge_cycle_time_below_12</th>\n",
       "      <th>...</th>\n",
       "      <th>avg_time_discharging_lag6_median</th>\n",
       "      <th>discharging_rate_lag6_median</th>\n",
       "      <th>discharging_rate_lag8_median</th>\n",
       "      <th>avg_time_charging_lag12_random</th>\n",
       "      <th>avg_time_discharging_lag12_random</th>\n",
       "      <th>avg_time_charging_lag13_random</th>\n",
       "      <th>avg_time_discharging_lag13_random</th>\n",
       "      <th>avg_time_charging_lag14_random</th>\n",
       "      <th>avg_time_discharging_lag14_random</th>\n",
       "      <th>fail_7</th>\n",
       "    </tr>\n",
       "  </thead>\n",
       "  <tbody>\n",
       "    <tr>\n",
       "      <th>0</th>\n",
       "      <td>35252</td>\n",
       "      <td>4.54</td>\n",
       "      <td>22.42</td>\n",
       "      <td>19.75</td>\n",
       "      <td>-1.000000</td>\n",
       "      <td>3.62</td>\n",
       "      <td>35.26</td>\n",
       "      <td>32.46</td>\n",
       "      <td>-2.803333</td>\n",
       "      <td>False</td>\n",
       "      <td>...</td>\n",
       "      <td>44.32</td>\n",
       "      <td>-8.113333</td>\n",
       "      <td>-1.736667</td>\n",
       "      <td>4.84</td>\n",
       "      <td>4.28</td>\n",
       "      <td>5.87</td>\n",
       "      <td>4.95</td>\n",
       "      <td>20.98</td>\n",
       "      <td>36.79</td>\n",
       "      <td>0</td>\n",
       "    </tr>\n",
       "    <tr>\n",
       "      <th>1</th>\n",
       "      <td>40091</td>\n",
       "      <td>4.91</td>\n",
       "      <td>4.59</td>\n",
       "      <td>35.50</td>\n",
       "      <td>-0.043333</td>\n",
       "      <td>3.32</td>\n",
       "      <td>4.18</td>\n",
       "      <td>45.79</td>\n",
       "      <td>0.056667</td>\n",
       "      <td>False</td>\n",
       "      <td>...</td>\n",
       "      <td>61.70</td>\n",
       "      <td>1.066667</td>\n",
       "      <td>0.723333</td>\n",
       "      <td>7.10</td>\n",
       "      <td>8.55</td>\n",
       "      <td>4.83</td>\n",
       "      <td>3.36</td>\n",
       "      <td>4.58</td>\n",
       "      <td>3.93</td>\n",
       "      <td>0</td>\n",
       "    </tr>\n",
       "    <tr>\n",
       "      <th>2</th>\n",
       "      <td>23216</td>\n",
       "      <td>5.91</td>\n",
       "      <td>33.27</td>\n",
       "      <td>30.11</td>\n",
       "      <td>-0.500000</td>\n",
       "      <td>5.92</td>\n",
       "      <td>61.74</td>\n",
       "      <td>47.79</td>\n",
       "      <td>-0.020000</td>\n",
       "      <td>False</td>\n",
       "      <td>...</td>\n",
       "      <td>4.15</td>\n",
       "      <td>-0.280000</td>\n",
       "      <td>-0.036667</td>\n",
       "      <td>35.08</td>\n",
       "      <td>56.89</td>\n",
       "      <td>44.45</td>\n",
       "      <td>74.33</td>\n",
       "      <td>4.61</td>\n",
       "      <td>4.43</td>\n",
       "      <td>0</td>\n",
       "    </tr>\n",
       "    <tr>\n",
       "      <th>3</th>\n",
       "      <td>29464</td>\n",
       "      <td>4.49</td>\n",
       "      <td>6.20</td>\n",
       "      <td>17.19</td>\n",
       "      <td>0.086667</td>\n",
       "      <td>4.16</td>\n",
       "      <td>5.19</td>\n",
       "      <td>25.15</td>\n",
       "      <td>-0.230000</td>\n",
       "      <td>True</td>\n",
       "      <td>...</td>\n",
       "      <td>3.89</td>\n",
       "      <td>-0.960000</td>\n",
       "      <td>-3.236667</td>\n",
       "      <td>8.13</td>\n",
       "      <td>10.36</td>\n",
       "      <td>45.91</td>\n",
       "      <td>82.13</td>\n",
       "      <td>17.43</td>\n",
       "      <td>26.34</td>\n",
       "      <td>0</td>\n",
       "    </tr>\n",
       "    <tr>\n",
       "      <th>4</th>\n",
       "      <td>5024</td>\n",
       "      <td>5.24</td>\n",
       "      <td>22.89</td>\n",
       "      <td>4.45</td>\n",
       "      <td>-0.060000</td>\n",
       "      <td>4.37</td>\n",
       "      <td>35.24</td>\n",
       "      <td>4.19</td>\n",
       "      <td>-0.003333</td>\n",
       "      <td>True</td>\n",
       "      <td>...</td>\n",
       "      <td>5.04</td>\n",
       "      <td>-0.026667</td>\n",
       "      <td>0.703333</td>\n",
       "      <td>4.50</td>\n",
       "      <td>3.94</td>\n",
       "      <td>4.87</td>\n",
       "      <td>3.70</td>\n",
       "      <td>5.41</td>\n",
       "      <td>5.34</td>\n",
       "      <td>0</td>\n",
       "    </tr>\n",
       "    <tr>\n",
       "      <th>...</th>\n",
       "      <td>...</td>\n",
       "      <td>...</td>\n",
       "      <td>...</td>\n",
       "      <td>...</td>\n",
       "      <td>...</td>\n",
       "      <td>...</td>\n",
       "      <td>...</td>\n",
       "      <td>...</td>\n",
       "      <td>...</td>\n",
       "      <td>...</td>\n",
       "      <td>...</td>\n",
       "      <td>...</td>\n",
       "      <td>...</td>\n",
       "      <td>...</td>\n",
       "      <td>...</td>\n",
       "      <td>...</td>\n",
       "      <td>...</td>\n",
       "      <td>...</td>\n",
       "      <td>...</td>\n",
       "      <td>...</td>\n",
       "      <td>...</td>\n",
       "    </tr>\n",
       "    <tr>\n",
       "      <th>18797</th>\n",
       "      <td>21850</td>\n",
       "      <td>4.80</td>\n",
       "      <td>47.93</td>\n",
       "      <td>5.33</td>\n",
       "      <td>0.000000</td>\n",
       "      <td>3.58</td>\n",
       "      <td>44.34</td>\n",
       "      <td>5.12</td>\n",
       "      <td>-0.046667</td>\n",
       "      <td>True</td>\n",
       "      <td>...</td>\n",
       "      <td>4.77</td>\n",
       "      <td>0.226667</td>\n",
       "      <td>-0.216667</td>\n",
       "      <td>46.36</td>\n",
       "      <td>67.75</td>\n",
       "      <td>6.02</td>\n",
       "      <td>6.04</td>\n",
       "      <td>23.26</td>\n",
       "      <td>46.65</td>\n",
       "      <td>1</td>\n",
       "    </tr>\n",
       "    <tr>\n",
       "      <th>18798</th>\n",
       "      <td>16284</td>\n",
       "      <td>4.97</td>\n",
       "      <td>5.81</td>\n",
       "      <td>5.01</td>\n",
       "      <td>-0.083333</td>\n",
       "      <td>7.13</td>\n",
       "      <td>5.41</td>\n",
       "      <td>5.60</td>\n",
       "      <td>-0.160000</td>\n",
       "      <td>True</td>\n",
       "      <td>...</td>\n",
       "      <td>20.12</td>\n",
       "      <td>-0.026667</td>\n",
       "      <td>0.060000</td>\n",
       "      <td>33.39</td>\n",
       "      <td>74.08</td>\n",
       "      <td>34.80</td>\n",
       "      <td>53.14</td>\n",
       "      <td>4.58</td>\n",
       "      <td>4.01</td>\n",
       "      <td>1</td>\n",
       "    </tr>\n",
       "    <tr>\n",
       "      <th>18799</th>\n",
       "      <td>49732</td>\n",
       "      <td>4.81</td>\n",
       "      <td>4.53</td>\n",
       "      <td>31.68</td>\n",
       "      <td>0.016667</td>\n",
       "      <td>4.71</td>\n",
       "      <td>3.99</td>\n",
       "      <td>49.68</td>\n",
       "      <td>0.533333</td>\n",
       "      <td>True</td>\n",
       "      <td>...</td>\n",
       "      <td>39.07</td>\n",
       "      <td>-0.540000</td>\n",
       "      <td>0.450000</td>\n",
       "      <td>27.65</td>\n",
       "      <td>42.56</td>\n",
       "      <td>26.34</td>\n",
       "      <td>36.82</td>\n",
       "      <td>33.77</td>\n",
       "      <td>65.97</td>\n",
       "      <td>1</td>\n",
       "    </tr>\n",
       "    <tr>\n",
       "      <th>18800</th>\n",
       "      <td>43158</td>\n",
       "      <td>4.73</td>\n",
       "      <td>4.77</td>\n",
       "      <td>5.71</td>\n",
       "      <td>-0.020000</td>\n",
       "      <td>3.83</td>\n",
       "      <td>3.48</td>\n",
       "      <td>4.51</td>\n",
       "      <td>0.006667</td>\n",
       "      <td>True</td>\n",
       "      <td>...</td>\n",
       "      <td>72.40</td>\n",
       "      <td>-0.006667</td>\n",
       "      <td>-3.506667</td>\n",
       "      <td>4.39</td>\n",
       "      <td>4.15</td>\n",
       "      <td>4.49</td>\n",
       "      <td>4.18</td>\n",
       "      <td>23.74</td>\n",
       "      <td>37.50</td>\n",
       "      <td>1</td>\n",
       "    </tr>\n",
       "    <tr>\n",
       "      <th>18801</th>\n",
       "      <td>20795</td>\n",
       "      <td>30.83</td>\n",
       "      <td>5.18</td>\n",
       "      <td>33.17</td>\n",
       "      <td>0.033333</td>\n",
       "      <td>43.72</td>\n",
       "      <td>5.59</td>\n",
       "      <td>61.54</td>\n",
       "      <td>-0.026667</td>\n",
       "      <td>True</td>\n",
       "      <td>...</td>\n",
       "      <td>58.46</td>\n",
       "      <td>-0.283333</td>\n",
       "      <td>-0.216667</td>\n",
       "      <td>52.31</td>\n",
       "      <td>97.32</td>\n",
       "      <td>20.55</td>\n",
       "      <td>32.40</td>\n",
       "      <td>4.92</td>\n",
       "      <td>3.39</td>\n",
       "      <td>1</td>\n",
       "    </tr>\n",
       "  </tbody>\n",
       "</table>\n",
       "<p>18802 rows × 54 columns</p>\n",
       "</div>"
      ],
      "text/plain": [
       "       deviceid  avg_time_charging_lag1  avg_time_charging_lag2  \\\n",
       "0         35252                    4.54                   22.42   \n",
       "1         40091                    4.91                    4.59   \n",
       "2         23216                    5.91                   33.27   \n",
       "3         29464                    4.49                    6.20   \n",
       "4          5024                    5.24                   22.89   \n",
       "...         ...                     ...                     ...   \n",
       "18797     21850                    4.80                   47.93   \n",
       "18798     16284                    4.97                    5.81   \n",
       "18799     49732                    4.81                    4.53   \n",
       "18800     43158                    4.73                    4.77   \n",
       "18801     20795                   30.83                    5.18   \n",
       "\n",
       "       avg_time_charging_lag3  charging_rate_lag3  avg_time_discharging_lag1  \\\n",
       "0                       19.75           -1.000000                       3.62   \n",
       "1                       35.50           -0.043333                       3.32   \n",
       "2                       30.11           -0.500000                       5.92   \n",
       "3                       17.19            0.086667                       4.16   \n",
       "4                        4.45           -0.060000                       4.37   \n",
       "...                       ...                 ...                        ...   \n",
       "18797                    5.33            0.000000                       3.58   \n",
       "18798                    5.01           -0.083333                       7.13   \n",
       "18799                   31.68            0.016667                       4.71   \n",
       "18800                    5.71           -0.020000                       3.83   \n",
       "18801                   33.17            0.033333                      43.72   \n",
       "\n",
       "       avg_time_discharging_lag2  avg_time_discharging_lag3  \\\n",
       "0                          35.26                      32.46   \n",
       "1                           4.18                      45.79   \n",
       "2                          61.74                      47.79   \n",
       "3                           5.19                      25.15   \n",
       "4                          35.24                       4.19   \n",
       "...                          ...                        ...   \n",
       "18797                      44.34                       5.12   \n",
       "18798                       5.41                       5.60   \n",
       "18799                       3.99                      49.68   \n",
       "18800                       3.48                       4.51   \n",
       "18801                       5.59                      61.54   \n",
       "\n",
       "       discharging_rate_lag3  charge_cycle_time_below_12  ...  \\\n",
       "0                  -2.803333                       False  ...   \n",
       "1                   0.056667                       False  ...   \n",
       "2                  -0.020000                       False  ...   \n",
       "3                  -0.230000                        True  ...   \n",
       "4                  -0.003333                        True  ...   \n",
       "...                      ...                         ...  ...   \n",
       "18797              -0.046667                        True  ...   \n",
       "18798              -0.160000                        True  ...   \n",
       "18799               0.533333                        True  ...   \n",
       "18800               0.006667                        True  ...   \n",
       "18801              -0.026667                        True  ...   \n",
       "\n",
       "       avg_time_discharging_lag6_median  discharging_rate_lag6_median  \\\n",
       "0                                 44.32                     -8.113333   \n",
       "1                                 61.70                      1.066667   \n",
       "2                                  4.15                     -0.280000   \n",
       "3                                  3.89                     -0.960000   \n",
       "4                                  5.04                     -0.026667   \n",
       "...                                 ...                           ...   \n",
       "18797                              4.77                      0.226667   \n",
       "18798                             20.12                     -0.026667   \n",
       "18799                             39.07                     -0.540000   \n",
       "18800                             72.40                     -0.006667   \n",
       "18801                             58.46                     -0.283333   \n",
       "\n",
       "       discharging_rate_lag8_median  avg_time_charging_lag12_random  \\\n",
       "0                         -1.736667                            4.84   \n",
       "1                          0.723333                            7.10   \n",
       "2                         -0.036667                           35.08   \n",
       "3                         -3.236667                            8.13   \n",
       "4                          0.703333                            4.50   \n",
       "...                             ...                             ...   \n",
       "18797                     -0.216667                           46.36   \n",
       "18798                      0.060000                           33.39   \n",
       "18799                      0.450000                           27.65   \n",
       "18800                     -3.506667                            4.39   \n",
       "18801                     -0.216667                           52.31   \n",
       "\n",
       "       avg_time_discharging_lag12_random  avg_time_charging_lag13_random  \\\n",
       "0                                   4.28                            5.87   \n",
       "1                                   8.55                            4.83   \n",
       "2                                  56.89                           44.45   \n",
       "3                                  10.36                           45.91   \n",
       "4                                   3.94                            4.87   \n",
       "...                                  ...                             ...   \n",
       "18797                              67.75                            6.02   \n",
       "18798                              74.08                           34.80   \n",
       "18799                              42.56                           26.34   \n",
       "18800                               4.15                            4.49   \n",
       "18801                              97.32                           20.55   \n",
       "\n",
       "       avg_time_discharging_lag13_random  avg_time_charging_lag14_random  \\\n",
       "0                                   4.95                           20.98   \n",
       "1                                   3.36                            4.58   \n",
       "2                                  74.33                            4.61   \n",
       "3                                  82.13                           17.43   \n",
       "4                                   3.70                            5.41   \n",
       "...                                  ...                             ...   \n",
       "18797                               6.04                           23.26   \n",
       "18798                              53.14                            4.58   \n",
       "18799                              36.82                           33.77   \n",
       "18800                               4.18                           23.74   \n",
       "18801                              32.40                            4.92   \n",
       "\n",
       "       avg_time_discharging_lag14_random  fail_7  \n",
       "0                                  36.79       0  \n",
       "1                                   3.93       0  \n",
       "2                                   4.43       0  \n",
       "3                                  26.34       0  \n",
       "4                                   5.34       0  \n",
       "...                                  ...     ...  \n",
       "18797                              46.65       1  \n",
       "18798                               4.01       1  \n",
       "18799                              65.97       1  \n",
       "18800                              37.50       1  \n",
       "18801                               3.39       1  \n",
       "\n",
       "[18802 rows x 54 columns]"
      ]
     },
     "execution_count": 28,
     "metadata": {},
     "output_type": "execute_result"
    }
   ],
   "source": [
    "df_test_under"
   ]
  },
  {
   "cell_type": "code",
   "execution_count": 30,
   "id": "5126015f",
   "metadata": {},
   "outputs": [
    {
     "data": {
      "text/plain": [
       "Index(['deviceid', 'avg_time_charging_lag1', 'avg_time_charging_lag2',\n",
       "       'avg_time_charging_lag3', 'charging_rate_lag3',\n",
       "       'avg_time_discharging_lag1', 'avg_time_discharging_lag2',\n",
       "       'avg_time_discharging_lag3', 'discharging_rate_lag3',\n",
       "       'charge_cycle_time_below_12', 'avg_time_charging_lag4',\n",
       "       'avg_time_discharging_lag4', 'discharging_rate_lag4',\n",
       "       'discharging_rate_lag5', 'charging_rate_lag4', 'charging_rate_lag5',\n",
       "       'chargecycles', 'dischargecycles', 'total_off_time',\n",
       "       'number_times_restart', 'avg_volt_change_charging',\n",
       "       'avg_volt_change_discharging', 'avg_time_charging',\n",
       "       'avg_time_discharging', 'max_voltage_day', 'piececount', 'cycle_time',\n",
       "       'LastRecord', 'Date Deployed', 'avg_time_charging_lag7_median',\n",
       "       'charging_rate_lag7_median', 'avg_time_discharging_lag7_median',\n",
       "       'discharging_rate_lag7_median', 'avg_time_charging_lag5_median',\n",
       "       'avg_time_discharging_lag5_median', 'avg_time_charging_lag6_median',\n",
       "       'avg_time_charging_lag8_median', 'avg_time_discharging_lag8_median',\n",
       "       'avg_time_charging_lag9_median', 'avg_time_discharging_lag9_median',\n",
       "       'avg_time_charging_lag10_median', 'avg_time_discharging_lag10_median',\n",
       "       'avg_time_charging_lag11_median', 'avg_time_discharging_lag11_median',\n",
       "       'avg_time_discharging_lag6_median', 'discharging_rate_lag6_median',\n",
       "       'discharging_rate_lag8_median', 'avg_time_charging_lag12_random',\n",
       "       'avg_time_discharging_lag12_random', 'avg_time_charging_lag13_random',\n",
       "       'avg_time_discharging_lag13_random', 'avg_time_charging_lag14_random',\n",
       "       'avg_time_discharging_lag14_random', 'fail_7'],\n",
       "      dtype='object')"
      ]
     },
     "execution_count": 30,
     "metadata": {},
     "output_type": "execute_result"
    }
   ],
   "source": [
    "df_test_under.columns"
   ]
  },
  {
   "cell_type": "code",
   "execution_count": 32,
   "id": "0346ca18",
   "metadata": {},
   "outputs": [
    {
     "data": {
      "text/plain": [
       "0           9/18/19\n",
       "1        09-01-2019\n",
       "2        09-12-2019\n",
       "3           9/24/19\n",
       "4        09-04-2019\n",
       "            ...    \n",
       "18797    09-12-2019\n",
       "18798    09-05-2019\n",
       "18799       9/18/19\n",
       "18800      10/18/19\n",
       "18801       9/16/19\n",
       "Name: Date Deployed, Length: 18802, dtype: object"
      ]
     },
     "execution_count": 32,
     "metadata": {},
     "output_type": "execute_result"
    }
   ],
   "source": [
    "df_test_under['Date Deployed']"
   ]
  },
  {
   "cell_type": "code",
   "execution_count": 36,
   "id": "ece0caea",
   "metadata": {},
   "outputs": [],
   "source": [
    "import datetime"
   ]
  },
  {
   "cell_type": "code",
   "execution_count": 37,
   "id": "9d4969cd",
   "metadata": {},
   "outputs": [],
   "source": [
    "#import date\n",
    "def format(val):\n",
    "    a = pd.to_datetime(val, errors='coerce', cache=False).strftime('%m/%d/%Y')\n",
    "    try:\n",
    "        date_time_obj = datetime.datetime.strptime(a, '%d/%m/%Y')\n",
    "    except:\n",
    "        date_time_obj = datetime.datetime.strptime(a, '%m/%d/%Y')\n",
    "    return date_time_obj.date()"
   ]
  },
  {
   "cell_type": "code",
   "execution_count": 38,
   "id": "a994f5ce",
   "metadata": {},
   "outputs": [],
   "source": [
    "df_test_under['Date Deployed'] = df_test_under['Date Deployed'].apply(lambda x: format(x))"
   ]
  },
  {
   "cell_type": "code",
   "execution_count": 39,
   "id": "617a047a",
   "metadata": {},
   "outputs": [
    {
     "data": {
      "text/plain": [
       "0        2019-09-18\n",
       "1        2019-01-09\n",
       "2        2019-12-09\n",
       "3        2019-09-24\n",
       "4        2019-04-09\n",
       "            ...    \n",
       "18797    2019-12-09\n",
       "18798    2019-05-09\n",
       "18799    2019-09-18\n",
       "18800    2019-10-18\n",
       "18801    2019-09-16\n",
       "Name: Date Deployed, Length: 18802, dtype: object"
      ]
     },
     "execution_count": 39,
     "metadata": {},
     "output_type": "execute_result"
    }
   ],
   "source": [
    "df_test_under['Date Deployed']"
   ]
  },
  {
   "cell_type": "code",
   "execution_count": 40,
   "id": "0c86365c",
   "metadata": {},
   "outputs": [],
   "source": [
    "df_test_under.to_csv('cleaned_dataset_version3.csv')"
   ]
  },
  {
   "cell_type": "code",
   "execution_count": null,
   "id": "f6d182b6",
   "metadata": {},
   "outputs": [],
   "source": []
  }
 ],
 "metadata": {
  "kernelspec": {
   "display_name": "Python 3 (ipykernel)",
   "language": "python",
   "name": "python3"
  },
  "language_info": {
   "codemirror_mode": {
    "name": "ipython",
    "version": 3
   },
   "file_extension": ".py",
   "mimetype": "text/x-python",
   "name": "python",
   "nbconvert_exporter": "python",
   "pygments_lexer": "ipython3",
   "version": "3.9.7"
  }
 },
 "nbformat": 4,
 "nbformat_minor": 5
}
