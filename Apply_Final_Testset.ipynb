{
 "cells": [
  {
   "cell_type": "markdown",
   "metadata": {},
   "source": [
    "# Pitney Bowes Data Challenge_Team 2 \n",
    "## Noyonika, Balakumaran , Eun Hee"
   ]
  },
  {
   "cell_type": "markdown",
   "metadata": {},
   "source": [
    "##### Import Train Data"
   ]
  },
  {
   "cell_type": "code",
   "execution_count": 1,
   "metadata": {},
   "outputs": [],
   "source": [
    "import pandas as pd\n",
    "import numpy as np\n",
    "from sklearn.model_selection import train_test_split\n",
    "from sklearn.metrics import (precision_score, f1_score, recall_score, accuracy_score, \n",
    "average_precision_score ,auc,roc_auc_score)\n",
    "from sklearn.ensemble import RandomForestClassifier\n",
    "from matplotlib import pyplot as plt\n",
    "from sklearn import metrics\n",
    "from xgboost import XGBClassifier"
   ]
  },
  {
   "cell_type": "code",
   "execution_count": 2,
   "metadata": {},
   "outputs": [
    {
     "name": "stdout",
     "output_type": "stream",
     "text": [
      "<class 'pandas.core.frame.DataFrame'>\n",
      "RangeIndex: 62198 entries, 0 to 62197\n",
      "Data columns (total 17 columns):\n",
      " #   Column                             Non-Null Count  Dtype  \n",
      "---  ------                             --------------  -----  \n",
      " 0   Unnamed: 0                         62198 non-null  int64  \n",
      " 1   charge_cycle_time_below_12         62198 non-null  int64  \n",
      " 2   chargecycles                       62198 non-null  float64\n",
      " 3   dischargecycles                    62198 non-null  float64\n",
      " 4   total_off_time                     62198 non-null  float64\n",
      " 5   number_times_restart               62198 non-null  float64\n",
      " 6   avg_volt_change_charging           62198 non-null  float64\n",
      " 7   avg_volt_change_discharging        62198 non-null  float64\n",
      " 8   max_voltage_day                    62198 non-null  float64\n",
      " 9   piececount                         62198 non-null  float64\n",
      " 10  cycle_time                         62198 non-null  float64\n",
      " 11  avg_charging_rate_for_all_lags     62198 non-null  float64\n",
      " 12  avg_discharge_time_for_all_lags    62198 non-null  float64\n",
      " 13  avg_discharging_rate_for_all_lags  62198 non-null  float64\n",
      " 14  avg_charge_time_for_all_lags       62198 non-null  float64\n",
      " 15  Days                               62198 non-null  int64  \n",
      " 16  fail_7                             62198 non-null  int64  \n",
      "dtypes: float64(13), int64(4)\n",
      "memory usage: 8.1 MB\n"
     ]
    }
   ],
   "source": [
    "# Import SMOTE dataset\n",
    "df = pd.read_csv(\"SMOTE_train_data.csv\")\n",
    "df.info()"
   ]
  },
  {
   "cell_type": "code",
   "execution_count": 3,
   "metadata": {},
   "outputs": [],
   "source": [
    "# Remove non-related variables\n",
    "df = df.drop(['Unnamed: 0'], axis = 1)"
   ]
  },
  {
   "cell_type": "code",
   "execution_count": 4,
   "metadata": {},
   "outputs": [
    {
     "name": "stdout",
     "output_type": "stream",
     "text": [
      "(49758, 10) (12440, 10) (49758,) (12440,)\n"
     ]
    }
   ],
   "source": [
    "# split train and test sets (8:2)\n",
    "target = df[\"fail_7\"]\n",
    "features = df[[\"charge_cycle_time_below_12\", \n",
    "                \"avg_volt_change_charging\", \n",
    "                \"number_times_restart\",\n",
    "                \"Days\",\n",
    "                \"cycle_time\",\n",
    "                \"max_voltage_day\",\n",
    "                \"piececount\",\n",
    "                \"total_off_time\",\n",
    "                \"avg_discharging_rate_for_all_lags\",\n",
    "                \"avg_volt_change_discharging\"]]\n",
    "train_x, test_x, train_y, test_y = train_test_split = train_test_split(features, target, test_size=0.2)\n",
    "print(train_x.shape, test_x.shape, train_y.shape, test_y.shape) "
   ]
  },
  {
   "cell_type": "code",
   "execution_count": 5,
   "metadata": {},
   "outputs": [
    {
     "name": "stdout",
     "output_type": "stream",
     "text": [
      "The accuracy of the Random Forests model is :\t 0.7479903536977492\n"
     ]
    }
   ],
   "source": [
    "model_rf = RandomForestClassifier(n_estimators=800, max_depth=30, min_samples_leaf=1, min_samples_split=10)\n",
    "model_rf.fit(train_x, train_y)\n",
    "model_rf_preds = model_rf.predict(test_x)\n",
    "\n",
    "print('The accuracy of the Random Forests model is :\\t',metrics.accuracy_score(test_y, model_rf_preds>0.5))"
   ]
  },
  {
   "cell_type": "markdown",
   "metadata": {},
   "source": [
    "##### Import Test Data"
   ]
  },
  {
   "cell_type": "code",
   "execution_count": 7,
   "metadata": {},
   "outputs": [
    {
     "name": "stdout",
     "output_type": "stream",
     "text": [
      "<class 'pandas.core.frame.DataFrame'>\n",
      "RangeIndex: 4500 entries, 0 to 4499\n",
      "Data columns (total 16 columns):\n",
      " #   Column                             Non-Null Count  Dtype  \n",
      "---  ------                             --------------  -----  \n",
      " 0   deviceid                           4500 non-null   int64  \n",
      " 1   charge_cycle_time_below_12         4500 non-null   int8   \n",
      " 2   chargecycles                       4500 non-null   float64\n",
      " 3   dischargecycles                    4500 non-null   float64\n",
      " 4   total_off_time                     4500 non-null   float64\n",
      " 5   number_times_restart               4500 non-null   float64\n",
      " 6   avg_volt_change_charging           4500 non-null   float64\n",
      " 7   avg_volt_change_discharging        4500 non-null   float64\n",
      " 8   max_voltage_day                    4500 non-null   float64\n",
      " 9   piececount                         4500 non-null   float64\n",
      " 10  cycle_time                         4500 non-null   float64\n",
      " 11  avg_charging_rate_for_all_lags     4500 non-null   float64\n",
      " 12  avg_discharge_time_for_all_lags    4500 non-null   float64\n",
      " 13  avg_discharging_rate_for_all_lags  4500 non-null   float64\n",
      " 14  avg_charge_time_for_all_lags       4500 non-null   float64\n",
      " 15  Days                               4500 non-null   int64  \n",
      "dtypes: float64(13), int64(2), int8(1)\n",
      "memory usage: 531.9 KB\n"
     ]
    }
   ],
   "source": [
    "# Import and clean test dataset\n",
    "df_test = pd.read_csv(\"test_for_submission_cleaned.csv\")\n",
    "df_test = df_test.drop(['Unnamed: 0'], axis = 1)\n",
    "df_test['charge_cycle_time_below_12']=df_test['charge_cycle_time_below_12'].astype('category').cat.codes\n",
    "df_test.info()"
   ]
  },
  {
   "cell_type": "code",
   "execution_count": 8,
   "metadata": {},
   "outputs": [],
   "source": [
    "x=df_test[[\"charge_cycle_time_below_12\", \n",
    "                \"avg_volt_change_charging\", \n",
    "                \"number_times_restart\",\n",
    "                \"Days\",\n",
    "                \"cycle_time\",\n",
    "                \"max_voltage_day\",\n",
    "                \"piececount\",\n",
    "                \"total_off_time\",\n",
    "                \"avg_discharging_rate_for_all_lags\",\n",
    "                \"avg_volt_change_discharging\"]]"
   ]
  },
  {
   "cell_type": "code",
   "execution_count": 9,
   "metadata": {},
   "outputs": [],
   "source": [
    "df_test['fail_7'] = model_rf.predict(x)"
   ]
  },
  {
   "cell_type": "code",
   "execution_count": 10,
   "metadata": {},
   "outputs": [],
   "source": [
    "# Save the result to csv file\n",
    "df_test_result = df_test[['deviceid', 'fail_7']]\n",
    "df_test_result.to_csv('test_for_submission.csv', index=False)"
   ]
  },
  {
   "cell_type": "code",
   "execution_count": 12,
   "metadata": {},
   "outputs": [
    {
     "data": {
      "text/plain": [
       "0    2898\n",
       "1    1602\n",
       "Name: fail_7, dtype: int64"
      ]
     },
     "execution_count": 12,
     "metadata": {},
     "output_type": "execute_result"
    }
   ],
   "source": [
    "# Check the prediction data is imputted\n",
    "df_test_result['fail_7'].value_counts()"
   ]
  }
 ],
 "metadata": {
  "kernelspec": {
   "display_name": "Python 3",
   "language": "python",
   "name": "python3"
  },
  "language_info": {
   "codemirror_mode": {
    "name": "ipython",
    "version": 3
   },
   "file_extension": ".py",
   "mimetype": "text/x-python",
   "name": "python",
   "nbconvert_exporter": "python",
   "pygments_lexer": "ipython3",
   "version": "3.8.3"
  }
 },
 "nbformat": 4,
 "nbformat_minor": 4
}
