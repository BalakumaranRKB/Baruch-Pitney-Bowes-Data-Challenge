{
 "cells": [
  {
   "cell_type": "code",
   "execution_count": 25,
   "id": "c0027c49",
   "metadata": {},
   "outputs": [],
   "source": [
    "import pandas as pd\n",
    "import numpy as np"
   ]
  },
  {
   "cell_type": "code",
   "execution_count": 26,
   "id": "6a12cefc",
   "metadata": {},
   "outputs": [],
   "source": [
    "train_df = pd.read_csv(\"train_updated_04132022.csv\")"
   ]
  },
  {
   "cell_type": "code",
   "execution_count": 27,
   "id": "327d35c4",
   "metadata": {},
   "outputs": [
    {
     "data": {
      "text/html": [
       "<div>\n",
       "<style scoped>\n",
       "    .dataframe tbody tr th:only-of-type {\n",
       "        vertical-align: middle;\n",
       "    }\n",
       "\n",
       "    .dataframe tbody tr th {\n",
       "        vertical-align: top;\n",
       "    }\n",
       "\n",
       "    .dataframe thead th {\n",
       "        text-align: right;\n",
       "    }\n",
       "</style>\n",
       "<table border=\"1\" class=\"dataframe\">\n",
       "  <thead>\n",
       "    <tr style=\"text-align: right;\">\n",
       "      <th></th>\n",
       "      <th>deviceid</th>\n",
       "      <th>avg_time_charging_lag1</th>\n",
       "      <th>avg_time_charging_lag2</th>\n",
       "      <th>avg_time_charging_lag3</th>\n",
       "      <th>avg_time_charging_lag7</th>\n",
       "      <th>charging_rate_lag3</th>\n",
       "      <th>charging_rate_lag7</th>\n",
       "      <th>avg_time_discharging_lag1</th>\n",
       "      <th>avg_time_discharging_lag2</th>\n",
       "      <th>avg_time_discharging_lag3</th>\n",
       "      <th>...</th>\n",
       "      <th>number_times_restart</th>\n",
       "      <th>avg_volt_change_charging</th>\n",
       "      <th>avg_volt_change_discharging</th>\n",
       "      <th>avg_time_charging</th>\n",
       "      <th>avg_time_discharging</th>\n",
       "      <th>max_voltage_day</th>\n",
       "      <th>piececount</th>\n",
       "      <th>cycle_time</th>\n",
       "      <th>LastRecord</th>\n",
       "      <th>Date Deployed</th>\n",
       "    </tr>\n",
       "  </thead>\n",
       "  <tbody>\n",
       "    <tr>\n",
       "      <th>0</th>\n",
       "      <td>28647</td>\n",
       "      <td>5.12</td>\n",
       "      <td>41.11</td>\n",
       "      <td>6.56</td>\n",
       "      <td>25.39</td>\n",
       "      <td>0.086667</td>\n",
       "      <td>-0.006667</td>\n",
       "      <td>4.37</td>\n",
       "      <td>91.70</td>\n",
       "      <td>15.70</td>\n",
       "      <td>...</td>\n",
       "      <td>2.375000</td>\n",
       "      <td>377.080000</td>\n",
       "      <td>367.428750</td>\n",
       "      <td>21.696250</td>\n",
       "      <td>39.005000</td>\n",
       "      <td>4174.875000</td>\n",
       "      <td>14.200000</td>\n",
       "      <td>60.701250</td>\n",
       "      <td>04-01-2021</td>\n",
       "      <td>10-06-2019</td>\n",
       "    </tr>\n",
       "    <tr>\n",
       "      <th>1</th>\n",
       "      <td>36175</td>\n",
       "      <td>36.60</td>\n",
       "      <td>5.16</td>\n",
       "      <td>6.23</td>\n",
       "      <td>6.96</td>\n",
       "      <td>0.136667</td>\n",
       "      <td>-1.296667</td>\n",
       "      <td>62.67</td>\n",
       "      <td>6.53</td>\n",
       "      <td>6.16</td>\n",
       "      <td>...</td>\n",
       "      <td>1.000000</td>\n",
       "      <td>350.517857</td>\n",
       "      <td>350.309286</td>\n",
       "      <td>19.883571</td>\n",
       "      <td>32.213571</td>\n",
       "      <td>4161.000000</td>\n",
       "      <td>19.777778</td>\n",
       "      <td>52.097143</td>\n",
       "      <td>04-01-2021</td>\n",
       "      <td>10/27/19</td>\n",
       "    </tr>\n",
       "    <tr>\n",
       "      <th>2</th>\n",
       "      <td>16107</td>\n",
       "      <td>5.51</td>\n",
       "      <td>5.04</td>\n",
       "      <td>4.52</td>\n",
       "      <td>5.96</td>\n",
       "      <td>-0.460000</td>\n",
       "      <td>-0.083333</td>\n",
       "      <td>5.13</td>\n",
       "      <td>5.65</td>\n",
       "      <td>4.14</td>\n",
       "      <td>...</td>\n",
       "      <td>4.095238</td>\n",
       "      <td>346.113333</td>\n",
       "      <td>343.409524</td>\n",
       "      <td>13.675238</td>\n",
       "      <td>20.471429</td>\n",
       "      <td>4152.238095</td>\n",
       "      <td>19.200000</td>\n",
       "      <td>34.146667</td>\n",
       "      <td>04-01-2021</td>\n",
       "      <td>10/31/19</td>\n",
       "    </tr>\n",
       "    <tr>\n",
       "      <th>3</th>\n",
       "      <td>27362</td>\n",
       "      <td>4.66</td>\n",
       "      <td>39.85</td>\n",
       "      <td>35.76</td>\n",
       "      <td>40.69</td>\n",
       "      <td>0.076667</td>\n",
       "      <td>-0.006667</td>\n",
       "      <td>3.93</td>\n",
       "      <td>76.37</td>\n",
       "      <td>60.86</td>\n",
       "      <td>...</td>\n",
       "      <td>0.736842</td>\n",
       "      <td>356.184211</td>\n",
       "      <td>349.844737</td>\n",
       "      <td>16.306842</td>\n",
       "      <td>26.189474</td>\n",
       "      <td>4164.631579</td>\n",
       "      <td>23.625000</td>\n",
       "      <td>42.496316</td>\n",
       "      <td>04-01-2021</td>\n",
       "      <td>10-01-2019</td>\n",
       "    </tr>\n",
       "    <tr>\n",
       "      <th>4</th>\n",
       "      <td>19463</td>\n",
       "      <td>5.10</td>\n",
       "      <td>43.24</td>\n",
       "      <td>4.63</td>\n",
       "      <td>5.26</td>\n",
       "      <td>0.040000</td>\n",
       "      <td>-0.153333</td>\n",
       "      <td>4.69</td>\n",
       "      <td>71.44</td>\n",
       "      <td>3.80</td>\n",
       "      <td>...</td>\n",
       "      <td>1.133333</td>\n",
       "      <td>370.904000</td>\n",
       "      <td>367.730000</td>\n",
       "      <td>18.797333</td>\n",
       "      <td>30.812000</td>\n",
       "      <td>4169.800000</td>\n",
       "      <td>12.666667</td>\n",
       "      <td>49.609333</td>\n",
       "      <td>04-01-2021</td>\n",
       "      <td>9/13/19</td>\n",
       "    </tr>\n",
       "    <tr>\n",
       "      <th>...</th>\n",
       "      <td>...</td>\n",
       "      <td>...</td>\n",
       "      <td>...</td>\n",
       "      <td>...</td>\n",
       "      <td>...</td>\n",
       "      <td>...</td>\n",
       "      <td>...</td>\n",
       "      <td>...</td>\n",
       "      <td>...</td>\n",
       "      <td>...</td>\n",
       "      <td>...</td>\n",
       "      <td>...</td>\n",
       "      <td>...</td>\n",
       "      <td>...</td>\n",
       "      <td>...</td>\n",
       "      <td>...</td>\n",
       "      <td>...</td>\n",
       "      <td>...</td>\n",
       "      <td>...</td>\n",
       "      <td>...</td>\n",
       "      <td>...</td>\n",
       "    </tr>\n",
       "    <tr>\n",
       "      <th>40495</th>\n",
       "      <td>16284</td>\n",
       "      <td>4.97</td>\n",
       "      <td>5.81</td>\n",
       "      <td>5.01</td>\n",
       "      <td>29.44</td>\n",
       "      <td>-0.083333</td>\n",
       "      <td>-0.033333</td>\n",
       "      <td>7.13</td>\n",
       "      <td>5.41</td>\n",
       "      <td>5.60</td>\n",
       "      <td>...</td>\n",
       "      <td>2.782609</td>\n",
       "      <td>365.399130</td>\n",
       "      <td>354.915217</td>\n",
       "      <td>13.880435</td>\n",
       "      <td>23.077391</td>\n",
       "      <td>4162.913043</td>\n",
       "      <td>70.181818</td>\n",
       "      <td>36.957826</td>\n",
       "      <td>04-01-2021</td>\n",
       "      <td>09-05-2019</td>\n",
       "    </tr>\n",
       "    <tr>\n",
       "      <th>40496</th>\n",
       "      <td>49732</td>\n",
       "      <td>4.81</td>\n",
       "      <td>4.53</td>\n",
       "      <td>31.68</td>\n",
       "      <td>4.88</td>\n",
       "      <td>0.016667</td>\n",
       "      <td>-0.900000</td>\n",
       "      <td>4.71</td>\n",
       "      <td>3.99</td>\n",
       "      <td>49.68</td>\n",
       "      <td>...</td>\n",
       "      <td>1.066667</td>\n",
       "      <td>378.554667</td>\n",
       "      <td>374.952667</td>\n",
       "      <td>17.673333</td>\n",
       "      <td>28.495333</td>\n",
       "      <td>4181.600000</td>\n",
       "      <td>11.888889</td>\n",
       "      <td>46.168667</td>\n",
       "      <td>04-01-2021</td>\n",
       "      <td>9/18/19</td>\n",
       "    </tr>\n",
       "    <tr>\n",
       "      <th>40497</th>\n",
       "      <td>43158</td>\n",
       "      <td>4.73</td>\n",
       "      <td>4.77</td>\n",
       "      <td>5.71</td>\n",
       "      <td>4.67</td>\n",
       "      <td>-0.020000</td>\n",
       "      <td>1.706667</td>\n",
       "      <td>3.83</td>\n",
       "      <td>3.48</td>\n",
       "      <td>4.51</td>\n",
       "      <td>...</td>\n",
       "      <td>2.227273</td>\n",
       "      <td>345.429091</td>\n",
       "      <td>342.216818</td>\n",
       "      <td>17.871818</td>\n",
       "      <td>29.766364</td>\n",
       "      <td>4157.045455</td>\n",
       "      <td>26.400000</td>\n",
       "      <td>47.638182</td>\n",
       "      <td>04-01-2021</td>\n",
       "      <td>10/18/19</td>\n",
       "    </tr>\n",
       "    <tr>\n",
       "      <th>40498</th>\n",
       "      <td>5860</td>\n",
       "      <td>4.93</td>\n",
       "      <td>5.01</td>\n",
       "      <td>4.85</td>\n",
       "      <td>20.92</td>\n",
       "      <td>-0.103333</td>\n",
       "      <td>0.526667</td>\n",
       "      <td>3.35</td>\n",
       "      <td>4.30</td>\n",
       "      <td>4.12</td>\n",
       "      <td>...</td>\n",
       "      <td>6.750000</td>\n",
       "      <td>364.964000</td>\n",
       "      <td>362.155500</td>\n",
       "      <td>14.557000</td>\n",
       "      <td>22.894000</td>\n",
       "      <td>4171.650000</td>\n",
       "      <td>17.714286</td>\n",
       "      <td>37.451000</td>\n",
       "      <td>04-01-2021</td>\n",
       "      <td>10-02-2019</td>\n",
       "    </tr>\n",
       "    <tr>\n",
       "      <th>40499</th>\n",
       "      <td>20795</td>\n",
       "      <td>30.83</td>\n",
       "      <td>5.18</td>\n",
       "      <td>33.17</td>\n",
       "      <td>32.65</td>\n",
       "      <td>0.033333</td>\n",
       "      <td>0.060000</td>\n",
       "      <td>43.72</td>\n",
       "      <td>5.59</td>\n",
       "      <td>61.54</td>\n",
       "      <td>...</td>\n",
       "      <td>6.045455</td>\n",
       "      <td>345.897727</td>\n",
       "      <td>337.337727</td>\n",
       "      <td>21.834091</td>\n",
       "      <td>34.135000</td>\n",
       "      <td>4155.045455</td>\n",
       "      <td>30.857143</td>\n",
       "      <td>55.969091</td>\n",
       "      <td>04-01-2021</td>\n",
       "      <td>9/16/19</td>\n",
       "    </tr>\n",
       "  </tbody>\n",
       "</table>\n",
       "<p>40500 rows × 55 columns</p>\n",
       "</div>"
      ],
      "text/plain": [
       "       deviceid  avg_time_charging_lag1  avg_time_charging_lag2  \\\n",
       "0         28647                    5.12                   41.11   \n",
       "1         36175                   36.60                    5.16   \n",
       "2         16107                    5.51                    5.04   \n",
       "3         27362                    4.66                   39.85   \n",
       "4         19463                    5.10                   43.24   \n",
       "...         ...                     ...                     ...   \n",
       "40495     16284                    4.97                    5.81   \n",
       "40496     49732                    4.81                    4.53   \n",
       "40497     43158                    4.73                    4.77   \n",
       "40498      5860                    4.93                    5.01   \n",
       "40499     20795                   30.83                    5.18   \n",
       "\n",
       "       avg_time_charging_lag3  avg_time_charging_lag7  charging_rate_lag3  \\\n",
       "0                        6.56                   25.39            0.086667   \n",
       "1                        6.23                    6.96            0.136667   \n",
       "2                        4.52                    5.96           -0.460000   \n",
       "3                       35.76                   40.69            0.076667   \n",
       "4                        4.63                    5.26            0.040000   \n",
       "...                       ...                     ...                 ...   \n",
       "40495                    5.01                   29.44           -0.083333   \n",
       "40496                   31.68                    4.88            0.016667   \n",
       "40497                    5.71                    4.67           -0.020000   \n",
       "40498                    4.85                   20.92           -0.103333   \n",
       "40499                   33.17                   32.65            0.033333   \n",
       "\n",
       "       charging_rate_lag7  avg_time_discharging_lag1  \\\n",
       "0               -0.006667                       4.37   \n",
       "1               -1.296667                      62.67   \n",
       "2               -0.083333                       5.13   \n",
       "3               -0.006667                       3.93   \n",
       "4               -0.153333                       4.69   \n",
       "...                   ...                        ...   \n",
       "40495           -0.033333                       7.13   \n",
       "40496           -0.900000                       4.71   \n",
       "40497            1.706667                       3.83   \n",
       "40498            0.526667                       3.35   \n",
       "40499            0.060000                      43.72   \n",
       "\n",
       "       avg_time_discharging_lag2  avg_time_discharging_lag3  ...  \\\n",
       "0                          91.70                      15.70  ...   \n",
       "1                           6.53                       6.16  ...   \n",
       "2                           5.65                       4.14  ...   \n",
       "3                          76.37                      60.86  ...   \n",
       "4                          71.44                       3.80  ...   \n",
       "...                          ...                        ...  ...   \n",
       "40495                       5.41                       5.60  ...   \n",
       "40496                       3.99                      49.68  ...   \n",
       "40497                       3.48                       4.51  ...   \n",
       "40498                       4.30                       4.12  ...   \n",
       "40499                       5.59                      61.54  ...   \n",
       "\n",
       "       number_times_restart  avg_volt_change_charging  \\\n",
       "0                  2.375000                377.080000   \n",
       "1                  1.000000                350.517857   \n",
       "2                  4.095238                346.113333   \n",
       "3                  0.736842                356.184211   \n",
       "4                  1.133333                370.904000   \n",
       "...                     ...                       ...   \n",
       "40495              2.782609                365.399130   \n",
       "40496              1.066667                378.554667   \n",
       "40497              2.227273                345.429091   \n",
       "40498              6.750000                364.964000   \n",
       "40499              6.045455                345.897727   \n",
       "\n",
       "       avg_volt_change_discharging  avg_time_charging  avg_time_discharging  \\\n",
       "0                       367.428750          21.696250             39.005000   \n",
       "1                       350.309286          19.883571             32.213571   \n",
       "2                       343.409524          13.675238             20.471429   \n",
       "3                       349.844737          16.306842             26.189474   \n",
       "4                       367.730000          18.797333             30.812000   \n",
       "...                            ...                ...                   ...   \n",
       "40495                   354.915217          13.880435             23.077391   \n",
       "40496                   374.952667          17.673333             28.495333   \n",
       "40497                   342.216818          17.871818             29.766364   \n",
       "40498                   362.155500          14.557000             22.894000   \n",
       "40499                   337.337727          21.834091             34.135000   \n",
       "\n",
       "       max_voltage_day  piececount  cycle_time  LastRecord  Date Deployed  \n",
       "0          4174.875000   14.200000   60.701250  04-01-2021     10-06-2019  \n",
       "1          4161.000000   19.777778   52.097143  04-01-2021       10/27/19  \n",
       "2          4152.238095   19.200000   34.146667  04-01-2021       10/31/19  \n",
       "3          4164.631579   23.625000   42.496316  04-01-2021     10-01-2019  \n",
       "4          4169.800000   12.666667   49.609333  04-01-2021        9/13/19  \n",
       "...                ...         ...         ...         ...            ...  \n",
       "40495      4162.913043   70.181818   36.957826  04-01-2021     09-05-2019  \n",
       "40496      4181.600000   11.888889   46.168667  04-01-2021        9/18/19  \n",
       "40497      4157.045455   26.400000   47.638182  04-01-2021       10/18/19  \n",
       "40498      4171.650000   17.714286   37.451000  04-01-2021     10-02-2019  \n",
       "40499      4155.045455   30.857143   55.969091  04-01-2021        9/16/19  \n",
       "\n",
       "[40500 rows x 55 columns]"
      ]
     },
     "execution_count": 27,
     "metadata": {},
     "output_type": "execute_result"
    }
   ],
   "source": [
    "train_df"
   ]
  },
  {
   "cell_type": "code",
   "execution_count": 28,
   "id": "bfc40765",
   "metadata": {},
   "outputs": [
    {
     "name": "stdout",
     "output_type": "stream",
     "text": [
      "<class 'pandas.core.frame.DataFrame'>\n",
      "RangeIndex: 40500 entries, 0 to 40499\n",
      "Data columns (total 55 columns):\n",
      " #   Column                       Non-Null Count  Dtype  \n",
      "---  ------                       --------------  -----  \n",
      " 0   deviceid                     40500 non-null  int64  \n",
      " 1   avg_time_charging_lag1       40500 non-null  float64\n",
      " 2   avg_time_charging_lag2       40500 non-null  float64\n",
      " 3   avg_time_charging_lag3       40500 non-null  float64\n",
      " 4   avg_time_charging_lag7       40434 non-null  float64\n",
      " 5   charging_rate_lag3           40500 non-null  float64\n",
      " 6   charging_rate_lag7           40488 non-null  float64\n",
      " 7   avg_time_discharging_lag1    40500 non-null  float64\n",
      " 8   avg_time_discharging_lag2    40500 non-null  float64\n",
      " 9   avg_time_discharging_lag3    40500 non-null  float64\n",
      " 10  avg_time_discharging_lag7    40434 non-null  float64\n",
      " 11  discharging_rate_lag3        40500 non-null  float64\n",
      " 12  discharging_rate_lag7        40488 non-null  float64\n",
      " 13  fail_7                       40500 non-null  int64  \n",
      " 14  charge_cycle_time_below_12   40500 non-null  bool   \n",
      " 15  avg_time_charging_lag4       40500 non-null  float64\n",
      " 16  avg_time_discharging_lag4    40500 non-null  float64\n",
      " 17  avg_time_charging_lag5       40493 non-null  float64\n",
      " 18  avg_time_discharging_lag5    40493 non-null  float64\n",
      " 19  avg_time_charging_lag6       40472 non-null  float64\n",
      " 20  avg_time_discharging_lag6    40472 non-null  float64\n",
      " 21  avg_time_charging_lag8       40338 non-null  float64\n",
      " 22  avg_time_discharging_lag8    40338 non-null  float64\n",
      " 23  avg_time_charging_lag9       40126 non-null  float64\n",
      " 24  avg_time_discharging_lag9    40126 non-null  float64\n",
      " 25  avg_time_charging_lag10      39703 non-null  float64\n",
      " 26  avg_time_discharging_lag10   39703 non-null  float64\n",
      " 27  avg_time_charging_lag11      38914 non-null  float64\n",
      " 28  avg_time_discharging_lag11   38914 non-null  float64\n",
      " 29  avg_time_charging_lag12      37743 non-null  float64\n",
      " 30  avg_time_discharging_lag12   37743 non-null  float64\n",
      " 31  avg_time_charging_lag13      36118 non-null  float64\n",
      " 32  avg_time_discharging_lag13   36118 non-null  float64\n",
      " 33  avg_time_charging_lag14      33832 non-null  float64\n",
      " 34  avg_time_discharging_lag14   33832 non-null  float64\n",
      " 35  discharging_rate_lag4        40500 non-null  float64\n",
      " 36  discharging_rate_lag5        40500 non-null  float64\n",
      " 37  discharging_rate_lag6        40498 non-null  float64\n",
      " 38  discharging_rate_lag8        40469 non-null  float64\n",
      " 39  charging_rate_lag4           40500 non-null  float64\n",
      " 40  charging_rate_lag5           40500 non-null  float64\n",
      " 41  charging_rate_lag6           40498 non-null  float64\n",
      " 42  chargecycles                 40500 non-null  float64\n",
      " 43  dischargecycles              40500 non-null  float64\n",
      " 44  total_off_time               40500 non-null  float64\n",
      " 45  number_times_restart         40500 non-null  float64\n",
      " 46  avg_volt_change_charging     40500 non-null  float64\n",
      " 47  avg_volt_change_discharging  40500 non-null  float64\n",
      " 48  avg_time_charging            40500 non-null  float64\n",
      " 49  avg_time_discharging         40500 non-null  float64\n",
      " 50  max_voltage_day              40500 non-null  float64\n",
      " 51  piececount                   40500 non-null  float64\n",
      " 52  cycle_time                   40500 non-null  float64\n",
      " 53  LastRecord                   40500 non-null  object \n",
      " 54  Date Deployed                40500 non-null  object \n",
      "dtypes: bool(1), float64(50), int64(2), object(2)\n",
      "memory usage: 16.7+ MB\n"
     ]
    }
   ],
   "source": [
    "train_df.info()"
   ]
  },
  {
   "cell_type": "code",
   "execution_count": 29,
   "id": "20198caf",
   "metadata": {},
   "outputs": [
    {
     "data": {
      "text/plain": [
       "'\\navg_time_charging_lag7, \\ncharging_rate_lag7, \\navg_time_discharging_lag7,\\ndischarging_rate_lag7,\\navg_time_charging_lag5,\\navg_time_discharging_lag5\\navg_time_charging_lag6,\\navg_time_charging_lag8\\navg_time_discharging_lag8       \\navg_time_charging_lag9          \\navg_time_discharging_lag9       \\navg_time_charging_lag10         \\navg_time_discharging_lag10      \\navg_time_charging_lag11        \\navg_time_discharging_lag11 \\n'"
      ]
     },
     "execution_count": 29,
     "metadata": {},
     "output_type": "execute_result"
    }
   ],
   "source": [
    "# The NAN values of these columns will be handled via Mean/Median/Mode Imputation\n",
    "'''\n",
    "avg_time_charging_lag7, \n",
    "charging_rate_lag7, \n",
    "avg_time_discharging_lag7,\n",
    "discharging_rate_lag7,\n",
    "avg_time_charging_lag5,\n",
    "avg_time_discharging_lag5\n",
    "avg_time_charging_lag6,\n",
    "avg_time_charging_lag8\n",
    "avg_time_discharging_lag8       \n",
    "avg_time_charging_lag9          \n",
    "avg_time_discharging_lag9       \n",
    "avg_time_charging_lag10         \n",
    "avg_time_discharging_lag10      \n",
    "avg_time_charging_lag11        \n",
    "avg_time_discharging_lag11 \n",
    "'''"
   ]
  },
  {
   "cell_type": "code",
   "execution_count": 30,
   "id": "02a78304",
   "metadata": {},
   "outputs": [],
   "source": [
    "lists_via_MMM_imputation = [\"avg_time_charging_lag7\", \n",
    "\"charging_rate_lag7\", \n",
    "\"avg_time_discharging_lag7\",\n",
    "\"discharging_rate_lag7\",\n",
    "\"avg_time_charging_lag5\",\n",
    "\"avg_time_discharging_lag5\",\n",
    "\"avg_time_charging_lag6\",\n",
    "\"avg_time_charging_lag8\",\n",
    "\"avg_time_discharging_lag8\",       \n",
    "\"avg_time_charging_lag9\",          \n",
    "\"avg_time_discharging_lag9\",       \n",
    "\"avg_time_charging_lag10\",         \n",
    "\"avg_time_discharging_lag10\",      \n",
    "\"avg_time_charging_lag11\",        \n",
    "\"avg_time_discharging_lag11\",\n",
    "\"avg_time_discharging_lag6\",\n",
    "\"discharging_rate_lag6\",\n",
    "\"discharging_rate_lag8\"]"
   ]
  },
  {
   "cell_type": "code",
   "execution_count": 31,
   "id": "b4d3c456",
   "metadata": {},
   "outputs": [
    {
     "data": {
      "text/plain": [
       "deviceid                          0\n",
       "avg_time_charging_lag1            0\n",
       "avg_time_charging_lag2            0\n",
       "avg_time_charging_lag3            0\n",
       "avg_time_charging_lag7           66\n",
       "charging_rate_lag3                0\n",
       "charging_rate_lag7               12\n",
       "avg_time_discharging_lag1         0\n",
       "avg_time_discharging_lag2         0\n",
       "avg_time_discharging_lag3         0\n",
       "avg_time_discharging_lag7        66\n",
       "discharging_rate_lag3             0\n",
       "discharging_rate_lag7            12\n",
       "fail_7                            0\n",
       "charge_cycle_time_below_12        0\n",
       "avg_time_charging_lag4            0\n",
       "avg_time_discharging_lag4         0\n",
       "avg_time_charging_lag5            7\n",
       "avg_time_discharging_lag5         7\n",
       "avg_time_charging_lag6           28\n",
       "avg_time_discharging_lag6        28\n",
       "avg_time_charging_lag8          162\n",
       "avg_time_discharging_lag8       162\n",
       "avg_time_charging_lag9          374\n",
       "avg_time_discharging_lag9       374\n",
       "avg_time_charging_lag10         797\n",
       "avg_time_discharging_lag10      797\n",
       "avg_time_charging_lag11        1586\n",
       "avg_time_discharging_lag11     1586\n",
       "avg_time_charging_lag12        2757\n",
       "avg_time_discharging_lag12     2757\n",
       "avg_time_charging_lag13        4382\n",
       "avg_time_discharging_lag13     4382\n",
       "avg_time_charging_lag14        6668\n",
       "avg_time_discharging_lag14     6668\n",
       "discharging_rate_lag4             0\n",
       "discharging_rate_lag5             0\n",
       "discharging_rate_lag6             2\n",
       "discharging_rate_lag8            31\n",
       "charging_rate_lag4                0\n",
       "charging_rate_lag5                0\n",
       "charging_rate_lag6                2\n",
       "chargecycles                      0\n",
       "dischargecycles                   0\n",
       "total_off_time                    0\n",
       "number_times_restart              0\n",
       "avg_volt_change_charging          0\n",
       "avg_volt_change_discharging       0\n",
       "avg_time_charging                 0\n",
       "avg_time_discharging              0\n",
       "max_voltage_day                   0\n",
       "piececount                        0\n",
       "cycle_time                        0\n",
       "LastRecord                        0\n",
       "Date Deployed                     0\n",
       "dtype: int64"
      ]
     },
     "execution_count": 31,
     "metadata": {},
     "output_type": "execute_result"
    }
   ],
   "source": [
    "train_df.isna().sum()"
   ]
  },
  {
   "cell_type": "code",
   "execution_count": 32,
   "id": "5e2bd7b7",
   "metadata": {},
   "outputs": [
    {
     "data": {
      "text/plain": [
       "(40500, 55)"
      ]
     },
     "execution_count": 32,
     "metadata": {},
     "output_type": "execute_result"
    }
   ],
   "source": [
    "train_df.shape"
   ]
  },
  {
   "cell_type": "markdown",
   "id": "e6d24584",
   "metadata": {},
   "source": [
    "#### Performing Mean, Median, Mode Imputation"
   ]
  },
  {
   "cell_type": "code",
   "execution_count": 33,
   "id": "57d41204",
   "metadata": {},
   "outputs": [],
   "source": [
    "def impute_nan(df,variable,median):\n",
    "    df[variable+\"_median\"]=df[variable].fillna(median)"
   ]
  },
  {
   "cell_type": "code",
   "execution_count": 34,
   "id": "5ff7ee89",
   "metadata": {},
   "outputs": [
    {
     "data": {
      "text/html": [
       "<div>\n",
       "<style scoped>\n",
       "    .dataframe tbody tr th:only-of-type {\n",
       "        vertical-align: middle;\n",
       "    }\n",
       "\n",
       "    .dataframe tbody tr th {\n",
       "        vertical-align: top;\n",
       "    }\n",
       "\n",
       "    .dataframe thead th {\n",
       "        text-align: right;\n",
       "    }\n",
       "</style>\n",
       "<table border=\"1\" class=\"dataframe\">\n",
       "  <thead>\n",
       "    <tr style=\"text-align: right;\">\n",
       "      <th></th>\n",
       "      <th>deviceid</th>\n",
       "      <th>Date Deployed</th>\n",
       "    </tr>\n",
       "  </thead>\n",
       "  <tbody>\n",
       "    <tr>\n",
       "      <th>0</th>\n",
       "      <td>28647</td>\n",
       "      <td>10-06-2019</td>\n",
       "    </tr>\n",
       "    <tr>\n",
       "      <th>1</th>\n",
       "      <td>36175</td>\n",
       "      <td>10/27/19</td>\n",
       "    </tr>\n",
       "    <tr>\n",
       "      <th>2</th>\n",
       "      <td>16107</td>\n",
       "      <td>10/31/19</td>\n",
       "    </tr>\n",
       "    <tr>\n",
       "      <th>3</th>\n",
       "      <td>27362</td>\n",
       "      <td>10-01-2019</td>\n",
       "    </tr>\n",
       "    <tr>\n",
       "      <th>4</th>\n",
       "      <td>19463</td>\n",
       "      <td>9/13/19</td>\n",
       "    </tr>\n",
       "    <tr>\n",
       "      <th>...</th>\n",
       "      <td>...</td>\n",
       "      <td>...</td>\n",
       "    </tr>\n",
       "    <tr>\n",
       "      <th>40495</th>\n",
       "      <td>16284</td>\n",
       "      <td>09-05-2019</td>\n",
       "    </tr>\n",
       "    <tr>\n",
       "      <th>40496</th>\n",
       "      <td>49732</td>\n",
       "      <td>9/18/19</td>\n",
       "    </tr>\n",
       "    <tr>\n",
       "      <th>40497</th>\n",
       "      <td>43158</td>\n",
       "      <td>10/18/19</td>\n",
       "    </tr>\n",
       "    <tr>\n",
       "      <th>40498</th>\n",
       "      <td>5860</td>\n",
       "      <td>10-02-2019</td>\n",
       "    </tr>\n",
       "    <tr>\n",
       "      <th>40499</th>\n",
       "      <td>20795</td>\n",
       "      <td>9/16/19</td>\n",
       "    </tr>\n",
       "  </tbody>\n",
       "</table>\n",
       "<p>40500 rows × 2 columns</p>\n",
       "</div>"
      ],
      "text/plain": [
       "       deviceid Date Deployed\n",
       "0         28647    10-06-2019\n",
       "1         36175      10/27/19\n",
       "2         16107      10/31/19\n",
       "3         27362    10-01-2019\n",
       "4         19463       9/13/19\n",
       "...         ...           ...\n",
       "40495     16284    09-05-2019\n",
       "40496     49732       9/18/19\n",
       "40497     43158      10/18/19\n",
       "40498      5860    10-02-2019\n",
       "40499     20795       9/16/19\n",
       "\n",
       "[40500 rows x 2 columns]"
      ]
     },
     "execution_count": 34,
     "metadata": {},
     "output_type": "execute_result"
    }
   ],
   "source": [
    "train_df[['deviceid','Date Deployed']]"
   ]
  },
  {
   "cell_type": "code",
   "execution_count": 35,
   "id": "8326f88a",
   "metadata": {},
   "outputs": [],
   "source": [
    "df_train2 = train_df.copy()"
   ]
  },
  {
   "cell_type": "code",
   "execution_count": 36,
   "id": "1246ddc5",
   "metadata": {},
   "outputs": [
    {
     "data": {
      "text/html": [
       "<div>\n",
       "<style scoped>\n",
       "    .dataframe tbody tr th:only-of-type {\n",
       "        vertical-align: middle;\n",
       "    }\n",
       "\n",
       "    .dataframe tbody tr th {\n",
       "        vertical-align: top;\n",
       "    }\n",
       "\n",
       "    .dataframe thead th {\n",
       "        text-align: right;\n",
       "    }\n",
       "</style>\n",
       "<table border=\"1\" class=\"dataframe\">\n",
       "  <thead>\n",
       "    <tr style=\"text-align: right;\">\n",
       "      <th></th>\n",
       "      <th>deviceid</th>\n",
       "      <th>avg_time_charging_lag1</th>\n",
       "      <th>avg_time_charging_lag2</th>\n",
       "      <th>avg_time_charging_lag3</th>\n",
       "      <th>avg_time_charging_lag7</th>\n",
       "      <th>charging_rate_lag3</th>\n",
       "      <th>charging_rate_lag7</th>\n",
       "      <th>avg_time_discharging_lag1</th>\n",
       "      <th>avg_time_discharging_lag2</th>\n",
       "      <th>avg_time_discharging_lag3</th>\n",
       "      <th>...</th>\n",
       "      <th>number_times_restart</th>\n",
       "      <th>avg_volt_change_charging</th>\n",
       "      <th>avg_volt_change_discharging</th>\n",
       "      <th>avg_time_charging</th>\n",
       "      <th>avg_time_discharging</th>\n",
       "      <th>max_voltage_day</th>\n",
       "      <th>piececount</th>\n",
       "      <th>cycle_time</th>\n",
       "      <th>LastRecord</th>\n",
       "      <th>Date Deployed</th>\n",
       "    </tr>\n",
       "  </thead>\n",
       "  <tbody>\n",
       "    <tr>\n",
       "      <th>0</th>\n",
       "      <td>28647</td>\n",
       "      <td>5.12</td>\n",
       "      <td>41.11</td>\n",
       "      <td>6.56</td>\n",
       "      <td>25.39</td>\n",
       "      <td>0.086667</td>\n",
       "      <td>-0.006667</td>\n",
       "      <td>4.37</td>\n",
       "      <td>91.70</td>\n",
       "      <td>15.70</td>\n",
       "      <td>...</td>\n",
       "      <td>2.375000</td>\n",
       "      <td>377.080000</td>\n",
       "      <td>367.428750</td>\n",
       "      <td>21.696250</td>\n",
       "      <td>39.005000</td>\n",
       "      <td>4174.875000</td>\n",
       "      <td>14.200000</td>\n",
       "      <td>60.701250</td>\n",
       "      <td>04-01-2021</td>\n",
       "      <td>10-06-2019</td>\n",
       "    </tr>\n",
       "    <tr>\n",
       "      <th>1</th>\n",
       "      <td>36175</td>\n",
       "      <td>36.60</td>\n",
       "      <td>5.16</td>\n",
       "      <td>6.23</td>\n",
       "      <td>6.96</td>\n",
       "      <td>0.136667</td>\n",
       "      <td>-1.296667</td>\n",
       "      <td>62.67</td>\n",
       "      <td>6.53</td>\n",
       "      <td>6.16</td>\n",
       "      <td>...</td>\n",
       "      <td>1.000000</td>\n",
       "      <td>350.517857</td>\n",
       "      <td>350.309286</td>\n",
       "      <td>19.883571</td>\n",
       "      <td>32.213571</td>\n",
       "      <td>4161.000000</td>\n",
       "      <td>19.777778</td>\n",
       "      <td>52.097143</td>\n",
       "      <td>04-01-2021</td>\n",
       "      <td>10/27/19</td>\n",
       "    </tr>\n",
       "    <tr>\n",
       "      <th>2</th>\n",
       "      <td>16107</td>\n",
       "      <td>5.51</td>\n",
       "      <td>5.04</td>\n",
       "      <td>4.52</td>\n",
       "      <td>5.96</td>\n",
       "      <td>-0.460000</td>\n",
       "      <td>-0.083333</td>\n",
       "      <td>5.13</td>\n",
       "      <td>5.65</td>\n",
       "      <td>4.14</td>\n",
       "      <td>...</td>\n",
       "      <td>4.095238</td>\n",
       "      <td>346.113333</td>\n",
       "      <td>343.409524</td>\n",
       "      <td>13.675238</td>\n",
       "      <td>20.471429</td>\n",
       "      <td>4152.238095</td>\n",
       "      <td>19.200000</td>\n",
       "      <td>34.146667</td>\n",
       "      <td>04-01-2021</td>\n",
       "      <td>10/31/19</td>\n",
       "    </tr>\n",
       "    <tr>\n",
       "      <th>3</th>\n",
       "      <td>27362</td>\n",
       "      <td>4.66</td>\n",
       "      <td>39.85</td>\n",
       "      <td>35.76</td>\n",
       "      <td>40.69</td>\n",
       "      <td>0.076667</td>\n",
       "      <td>-0.006667</td>\n",
       "      <td>3.93</td>\n",
       "      <td>76.37</td>\n",
       "      <td>60.86</td>\n",
       "      <td>...</td>\n",
       "      <td>0.736842</td>\n",
       "      <td>356.184211</td>\n",
       "      <td>349.844737</td>\n",
       "      <td>16.306842</td>\n",
       "      <td>26.189474</td>\n",
       "      <td>4164.631579</td>\n",
       "      <td>23.625000</td>\n",
       "      <td>42.496316</td>\n",
       "      <td>04-01-2021</td>\n",
       "      <td>10-01-2019</td>\n",
       "    </tr>\n",
       "    <tr>\n",
       "      <th>4</th>\n",
       "      <td>19463</td>\n",
       "      <td>5.10</td>\n",
       "      <td>43.24</td>\n",
       "      <td>4.63</td>\n",
       "      <td>5.26</td>\n",
       "      <td>0.040000</td>\n",
       "      <td>-0.153333</td>\n",
       "      <td>4.69</td>\n",
       "      <td>71.44</td>\n",
       "      <td>3.80</td>\n",
       "      <td>...</td>\n",
       "      <td>1.133333</td>\n",
       "      <td>370.904000</td>\n",
       "      <td>367.730000</td>\n",
       "      <td>18.797333</td>\n",
       "      <td>30.812000</td>\n",
       "      <td>4169.800000</td>\n",
       "      <td>12.666667</td>\n",
       "      <td>49.609333</td>\n",
       "      <td>04-01-2021</td>\n",
       "      <td>9/13/19</td>\n",
       "    </tr>\n",
       "    <tr>\n",
       "      <th>...</th>\n",
       "      <td>...</td>\n",
       "      <td>...</td>\n",
       "      <td>...</td>\n",
       "      <td>...</td>\n",
       "      <td>...</td>\n",
       "      <td>...</td>\n",
       "      <td>...</td>\n",
       "      <td>...</td>\n",
       "      <td>...</td>\n",
       "      <td>...</td>\n",
       "      <td>...</td>\n",
       "      <td>...</td>\n",
       "      <td>...</td>\n",
       "      <td>...</td>\n",
       "      <td>...</td>\n",
       "      <td>...</td>\n",
       "      <td>...</td>\n",
       "      <td>...</td>\n",
       "      <td>...</td>\n",
       "      <td>...</td>\n",
       "      <td>...</td>\n",
       "    </tr>\n",
       "    <tr>\n",
       "      <th>40495</th>\n",
       "      <td>16284</td>\n",
       "      <td>4.97</td>\n",
       "      <td>5.81</td>\n",
       "      <td>5.01</td>\n",
       "      <td>29.44</td>\n",
       "      <td>-0.083333</td>\n",
       "      <td>-0.033333</td>\n",
       "      <td>7.13</td>\n",
       "      <td>5.41</td>\n",
       "      <td>5.60</td>\n",
       "      <td>...</td>\n",
       "      <td>2.782609</td>\n",
       "      <td>365.399130</td>\n",
       "      <td>354.915217</td>\n",
       "      <td>13.880435</td>\n",
       "      <td>23.077391</td>\n",
       "      <td>4162.913043</td>\n",
       "      <td>70.181818</td>\n",
       "      <td>36.957826</td>\n",
       "      <td>04-01-2021</td>\n",
       "      <td>09-05-2019</td>\n",
       "    </tr>\n",
       "    <tr>\n",
       "      <th>40496</th>\n",
       "      <td>49732</td>\n",
       "      <td>4.81</td>\n",
       "      <td>4.53</td>\n",
       "      <td>31.68</td>\n",
       "      <td>4.88</td>\n",
       "      <td>0.016667</td>\n",
       "      <td>-0.900000</td>\n",
       "      <td>4.71</td>\n",
       "      <td>3.99</td>\n",
       "      <td>49.68</td>\n",
       "      <td>...</td>\n",
       "      <td>1.066667</td>\n",
       "      <td>378.554667</td>\n",
       "      <td>374.952667</td>\n",
       "      <td>17.673333</td>\n",
       "      <td>28.495333</td>\n",
       "      <td>4181.600000</td>\n",
       "      <td>11.888889</td>\n",
       "      <td>46.168667</td>\n",
       "      <td>04-01-2021</td>\n",
       "      <td>9/18/19</td>\n",
       "    </tr>\n",
       "    <tr>\n",
       "      <th>40497</th>\n",
       "      <td>43158</td>\n",
       "      <td>4.73</td>\n",
       "      <td>4.77</td>\n",
       "      <td>5.71</td>\n",
       "      <td>4.67</td>\n",
       "      <td>-0.020000</td>\n",
       "      <td>1.706667</td>\n",
       "      <td>3.83</td>\n",
       "      <td>3.48</td>\n",
       "      <td>4.51</td>\n",
       "      <td>...</td>\n",
       "      <td>2.227273</td>\n",
       "      <td>345.429091</td>\n",
       "      <td>342.216818</td>\n",
       "      <td>17.871818</td>\n",
       "      <td>29.766364</td>\n",
       "      <td>4157.045455</td>\n",
       "      <td>26.400000</td>\n",
       "      <td>47.638182</td>\n",
       "      <td>04-01-2021</td>\n",
       "      <td>10/18/19</td>\n",
       "    </tr>\n",
       "    <tr>\n",
       "      <th>40498</th>\n",
       "      <td>5860</td>\n",
       "      <td>4.93</td>\n",
       "      <td>5.01</td>\n",
       "      <td>4.85</td>\n",
       "      <td>20.92</td>\n",
       "      <td>-0.103333</td>\n",
       "      <td>0.526667</td>\n",
       "      <td>3.35</td>\n",
       "      <td>4.30</td>\n",
       "      <td>4.12</td>\n",
       "      <td>...</td>\n",
       "      <td>6.750000</td>\n",
       "      <td>364.964000</td>\n",
       "      <td>362.155500</td>\n",
       "      <td>14.557000</td>\n",
       "      <td>22.894000</td>\n",
       "      <td>4171.650000</td>\n",
       "      <td>17.714286</td>\n",
       "      <td>37.451000</td>\n",
       "      <td>04-01-2021</td>\n",
       "      <td>10-02-2019</td>\n",
       "    </tr>\n",
       "    <tr>\n",
       "      <th>40499</th>\n",
       "      <td>20795</td>\n",
       "      <td>30.83</td>\n",
       "      <td>5.18</td>\n",
       "      <td>33.17</td>\n",
       "      <td>32.65</td>\n",
       "      <td>0.033333</td>\n",
       "      <td>0.060000</td>\n",
       "      <td>43.72</td>\n",
       "      <td>5.59</td>\n",
       "      <td>61.54</td>\n",
       "      <td>...</td>\n",
       "      <td>6.045455</td>\n",
       "      <td>345.897727</td>\n",
       "      <td>337.337727</td>\n",
       "      <td>21.834091</td>\n",
       "      <td>34.135000</td>\n",
       "      <td>4155.045455</td>\n",
       "      <td>30.857143</td>\n",
       "      <td>55.969091</td>\n",
       "      <td>04-01-2021</td>\n",
       "      <td>9/16/19</td>\n",
       "    </tr>\n",
       "  </tbody>\n",
       "</table>\n",
       "<p>40500 rows × 55 columns</p>\n",
       "</div>"
      ],
      "text/plain": [
       "       deviceid  avg_time_charging_lag1  avg_time_charging_lag2  \\\n",
       "0         28647                    5.12                   41.11   \n",
       "1         36175                   36.60                    5.16   \n",
       "2         16107                    5.51                    5.04   \n",
       "3         27362                    4.66                   39.85   \n",
       "4         19463                    5.10                   43.24   \n",
       "...         ...                     ...                     ...   \n",
       "40495     16284                    4.97                    5.81   \n",
       "40496     49732                    4.81                    4.53   \n",
       "40497     43158                    4.73                    4.77   \n",
       "40498      5860                    4.93                    5.01   \n",
       "40499     20795                   30.83                    5.18   \n",
       "\n",
       "       avg_time_charging_lag3  avg_time_charging_lag7  charging_rate_lag3  \\\n",
       "0                        6.56                   25.39            0.086667   \n",
       "1                        6.23                    6.96            0.136667   \n",
       "2                        4.52                    5.96           -0.460000   \n",
       "3                       35.76                   40.69            0.076667   \n",
       "4                        4.63                    5.26            0.040000   \n",
       "...                       ...                     ...                 ...   \n",
       "40495                    5.01                   29.44           -0.083333   \n",
       "40496                   31.68                    4.88            0.016667   \n",
       "40497                    5.71                    4.67           -0.020000   \n",
       "40498                    4.85                   20.92           -0.103333   \n",
       "40499                   33.17                   32.65            0.033333   \n",
       "\n",
       "       charging_rate_lag7  avg_time_discharging_lag1  \\\n",
       "0               -0.006667                       4.37   \n",
       "1               -1.296667                      62.67   \n",
       "2               -0.083333                       5.13   \n",
       "3               -0.006667                       3.93   \n",
       "4               -0.153333                       4.69   \n",
       "...                   ...                        ...   \n",
       "40495           -0.033333                       7.13   \n",
       "40496           -0.900000                       4.71   \n",
       "40497            1.706667                       3.83   \n",
       "40498            0.526667                       3.35   \n",
       "40499            0.060000                      43.72   \n",
       "\n",
       "       avg_time_discharging_lag2  avg_time_discharging_lag3  ...  \\\n",
       "0                          91.70                      15.70  ...   \n",
       "1                           6.53                       6.16  ...   \n",
       "2                           5.65                       4.14  ...   \n",
       "3                          76.37                      60.86  ...   \n",
       "4                          71.44                       3.80  ...   \n",
       "...                          ...                        ...  ...   \n",
       "40495                       5.41                       5.60  ...   \n",
       "40496                       3.99                      49.68  ...   \n",
       "40497                       3.48                       4.51  ...   \n",
       "40498                       4.30                       4.12  ...   \n",
       "40499                       5.59                      61.54  ...   \n",
       "\n",
       "       number_times_restart  avg_volt_change_charging  \\\n",
       "0                  2.375000                377.080000   \n",
       "1                  1.000000                350.517857   \n",
       "2                  4.095238                346.113333   \n",
       "3                  0.736842                356.184211   \n",
       "4                  1.133333                370.904000   \n",
       "...                     ...                       ...   \n",
       "40495              2.782609                365.399130   \n",
       "40496              1.066667                378.554667   \n",
       "40497              2.227273                345.429091   \n",
       "40498              6.750000                364.964000   \n",
       "40499              6.045455                345.897727   \n",
       "\n",
       "       avg_volt_change_discharging  avg_time_charging  avg_time_discharging  \\\n",
       "0                       367.428750          21.696250             39.005000   \n",
       "1                       350.309286          19.883571             32.213571   \n",
       "2                       343.409524          13.675238             20.471429   \n",
       "3                       349.844737          16.306842             26.189474   \n",
       "4                       367.730000          18.797333             30.812000   \n",
       "...                            ...                ...                   ...   \n",
       "40495                   354.915217          13.880435             23.077391   \n",
       "40496                   374.952667          17.673333             28.495333   \n",
       "40497                   342.216818          17.871818             29.766364   \n",
       "40498                   362.155500          14.557000             22.894000   \n",
       "40499                   337.337727          21.834091             34.135000   \n",
       "\n",
       "       max_voltage_day  piececount  cycle_time  LastRecord  Date Deployed  \n",
       "0          4174.875000   14.200000   60.701250  04-01-2021     10-06-2019  \n",
       "1          4161.000000   19.777778   52.097143  04-01-2021       10/27/19  \n",
       "2          4152.238095   19.200000   34.146667  04-01-2021       10/31/19  \n",
       "3          4164.631579   23.625000   42.496316  04-01-2021     10-01-2019  \n",
       "4          4169.800000   12.666667   49.609333  04-01-2021        9/13/19  \n",
       "...                ...         ...         ...         ...            ...  \n",
       "40495      4162.913043   70.181818   36.957826  04-01-2021     09-05-2019  \n",
       "40496      4181.600000   11.888889   46.168667  04-01-2021        9/18/19  \n",
       "40497      4157.045455   26.400000   47.638182  04-01-2021       10/18/19  \n",
       "40498      4171.650000   17.714286   37.451000  04-01-2021     10-02-2019  \n",
       "40499      4155.045455   30.857143   55.969091  04-01-2021        9/16/19  \n",
       "\n",
       "[40500 rows x 55 columns]"
      ]
     },
     "execution_count": 36,
     "metadata": {},
     "output_type": "execute_result"
    }
   ],
   "source": [
    "df_train2"
   ]
  },
  {
   "cell_type": "code",
   "execution_count": 37,
   "id": "c547fe24",
   "metadata": {},
   "outputs": [],
   "source": [
    "def impute_nan(df1,df2,variable):\n",
    "    median = df1[variable].median()\n",
    "    df2[variable+\"_median\"]=df2[variable].fillna(median)"
   ]
  },
  {
   "cell_type": "code",
   "execution_count": 38,
   "id": "fd49b3dc",
   "metadata": {},
   "outputs": [
    {
     "data": {
      "text/plain": [
       "5.78"
      ]
     },
     "execution_count": 38,
     "metadata": {},
     "output_type": "execute_result"
    }
   ],
   "source": [
    "train_df['avg_time_charging_lag5'].median()"
   ]
  },
  {
   "cell_type": "code",
   "execution_count": 39,
   "id": "fc27b847",
   "metadata": {},
   "outputs": [],
   "source": [
    "for i in lists_via_MMM_imputation:\n",
    "    impute_nan(train_df,df_train2,i)"
   ]
  },
  {
   "cell_type": "code",
   "execution_count": 40,
   "id": "c09e9971",
   "metadata": {},
   "outputs": [
    {
     "data": {
      "text/plain": [
       "deviceid                              0\n",
       "avg_time_charging_lag1                0\n",
       "avg_time_charging_lag2                0\n",
       "avg_time_charging_lag3                0\n",
       "avg_time_charging_lag7               66\n",
       "                                     ..\n",
       "avg_time_charging_lag11_median        0\n",
       "avg_time_discharging_lag11_median     0\n",
       "avg_time_discharging_lag6_median      0\n",
       "discharging_rate_lag6_median          0\n",
       "discharging_rate_lag8_median          0\n",
       "Length: 73, dtype: int64"
      ]
     },
     "execution_count": 40,
     "metadata": {},
     "output_type": "execute_result"
    }
   ],
   "source": [
    "df_train2.isna().sum()"
   ]
  },
  {
   "cell_type": "code",
   "execution_count": 41,
   "id": "6350f582",
   "metadata": {},
   "outputs": [],
   "source": [
    "df_train2 = df_train2.drop(columns = [\"avg_time_charging_lag7\", \n",
    "\"charging_rate_lag7\", \n",
    "\"avg_time_discharging_lag7\",\n",
    "\"discharging_rate_lag7\",\n",
    "\"avg_time_charging_lag5\",\n",
    "\"avg_time_discharging_lag5\",\n",
    "\"avg_time_charging_lag6\",\n",
    "\"avg_time_charging_lag8\",\n",
    "\"avg_time_discharging_lag8\",       \n",
    "\"avg_time_charging_lag9\",          \n",
    "\"avg_time_discharging_lag9\",       \n",
    "\"avg_time_charging_lag10\",         \n",
    "\"avg_time_discharging_lag10\",      \n",
    "\"avg_time_charging_lag11\",        \n",
    "\"avg_time_discharging_lag11\",\"avg_time_discharging_lag6\",\n",
    "\"discharging_rate_lag6\",\n",
    "\"discharging_rate_lag8\",\n",
    "\"charging_rate_lag6\"])"
   ]
  },
  {
   "cell_type": "code",
   "execution_count": 42,
   "id": "22ccb6e8",
   "metadata": {},
   "outputs": [
    {
     "data": {
      "text/plain": [
       "deviceid                                0\n",
       "avg_time_charging_lag1                  0\n",
       "avg_time_charging_lag2                  0\n",
       "avg_time_charging_lag3                  0\n",
       "charging_rate_lag3                      0\n",
       "avg_time_discharging_lag1               0\n",
       "avg_time_discharging_lag2               0\n",
       "avg_time_discharging_lag3               0\n",
       "discharging_rate_lag3                   0\n",
       "fail_7                                  0\n",
       "charge_cycle_time_below_12              0\n",
       "avg_time_charging_lag4                  0\n",
       "avg_time_discharging_lag4               0\n",
       "avg_time_charging_lag12              2757\n",
       "avg_time_discharging_lag12           2757\n",
       "avg_time_charging_lag13              4382\n",
       "avg_time_discharging_lag13           4382\n",
       "avg_time_charging_lag14              6668\n",
       "avg_time_discharging_lag14           6668\n",
       "discharging_rate_lag4                   0\n",
       "discharging_rate_lag5                   0\n",
       "charging_rate_lag4                      0\n",
       "charging_rate_lag5                      0\n",
       "chargecycles                            0\n",
       "dischargecycles                         0\n",
       "total_off_time                          0\n",
       "number_times_restart                    0\n",
       "avg_volt_change_charging                0\n",
       "avg_volt_change_discharging             0\n",
       "avg_time_charging                       0\n",
       "avg_time_discharging                    0\n",
       "max_voltage_day                         0\n",
       "piececount                              0\n",
       "cycle_time                              0\n",
       "LastRecord                              0\n",
       "Date Deployed                           0\n",
       "avg_time_charging_lag7_median           0\n",
       "charging_rate_lag7_median               0\n",
       "avg_time_discharging_lag7_median        0\n",
       "discharging_rate_lag7_median            0\n",
       "avg_time_charging_lag5_median           0\n",
       "avg_time_discharging_lag5_median        0\n",
       "avg_time_charging_lag6_median           0\n",
       "avg_time_charging_lag8_median           0\n",
       "avg_time_discharging_lag8_median        0\n",
       "avg_time_charging_lag9_median           0\n",
       "avg_time_discharging_lag9_median        0\n",
       "avg_time_charging_lag10_median          0\n",
       "avg_time_discharging_lag10_median       0\n",
       "avg_time_charging_lag11_median          0\n",
       "avg_time_discharging_lag11_median       0\n",
       "avg_time_discharging_lag6_median        0\n",
       "discharging_rate_lag6_median            0\n",
       "discharging_rate_lag8_median            0\n",
       "dtype: int64"
      ]
     },
     "execution_count": 42,
     "metadata": {},
     "output_type": "execute_result"
    }
   ],
   "source": [
    "df_train2.isna().sum()"
   ]
  },
  {
   "cell_type": "code",
   "execution_count": 43,
   "id": "c50d571a",
   "metadata": {},
   "outputs": [],
   "source": [
    "import matplotlib.pyplot as plt\n",
    "%matplotlib inline"
   ]
  },
  {
   "cell_type": "code",
   "execution_count": 44,
   "id": "b9f07511",
   "metadata": {},
   "outputs": [
    {
     "data": {
      "text/plain": [
       "<matplotlib.legend.Legend at 0x1b07629ef10>"
      ]
     },
     "execution_count": 44,
     "metadata": {},
     "output_type": "execute_result"
    },
    {
     "data": {
      "image/png": "[encoded data removed]",
      "text/plain": [
       "<Figure size 432x288 with 1 Axes>"
      ]
     },
     "metadata": {
      "needs_background": "light"
     },
     "output_type": "display_data"
    }
   ],
   "source": [
    "fig = plt.figure()\n",
    "ax = fig.add_subplot(111)\n",
    "train_df['avg_time_charging_lag11'].plot(kind='kde', ax=ax)\n",
    "#df_train2.avg_time_charging_lag5_median.plot(kind='kde', ax=ax, color='red')\n",
    "lines, labels = ax.get_legend_handles_labels()\n",
    "ax.legend(lines, labels, loc='best')"
   ]
  },
  {
   "cell_type": "code",
   "execution_count": 45,
   "id": "c29bf34d",
   "metadata": {},
   "outputs": [
    {
     "data": {
      "text/plain": [
       "<matplotlib.legend.Legend at 0x1b076355400>"
      ]
     },
     "execution_count": 45,
     "metadata": {},
     "output_type": "execute_result"
    },
    {
     "data": {
      "image/png": "[encoded data removed]",
      "text/plain": [
       "<Figure size 432x288 with 1 Axes>"
      ]
     },
     "metadata": {
      "needs_background": "light"
     },
     "output_type": "display_data"
    }
   ],
   "source": [
    "fig = plt.figure()\n",
    "ax = fig.add_subplot(111)\n",
    "#train_df['avg_time_charging_lag5'].plot(kind='kde', ax=ax)\n",
    "df_train2.avg_time_charging_lag11_median.plot(kind='kde', ax=ax, color='red')\n",
    "lines, labels = ax.get_legend_handles_labels()\n",
    "ax.legend(lines, labels, loc='best')"
   ]
  },
  {
   "cell_type": "code",
   "execution_count": 46,
   "id": "66ad301b",
   "metadata": {},
   "outputs": [],
   "source": [
    "#avg_time_charging_lag11"
   ]
  },
  {
   "cell_type": "code",
   "execution_count": 49,
   "id": "bcaf0196",
   "metadata": {},
   "outputs": [],
   "source": [
    "import seaborn as sns"
   ]
  },
  {
   "cell_type": "code",
   "execution_count": 50,
   "id": "0a40eec5",
   "metadata": {},
   "outputs": [
    {
     "name": "stderr",
     "output_type": "stream",
     "text": [
      "C:\\Users\\ADMIN\\anaconda3\\lib\\site-packages\\seaborn\\_decorators.py:36: FutureWarning: Pass the following variable as a keyword arg: x. From version 0.12, the only valid positional argument will be `data`, and passing other arguments without an explicit keyword will result in an error or misinterpretation.\n",
      "  warnings.warn(\n"
     ]
    },
    {
     "data": {
      "text/plain": [
       "<AxesSubplot:xlabel='avg_time_charging_lag11'>"
      ]
     },
     "execution_count": 50,
     "metadata": {},
     "output_type": "execute_result"
    },
    {
     "data": {
      "image/png": "[encoded data removed]",
      "text/plain": [
       "<Figure size 432x288 with 1 Axes>"
      ]
     },
     "metadata": {
      "needs_background": "light"
     },
     "output_type": "display_data"
    }
   ],
   "source": [
    "sns.boxplot('avg_time_charging_lag11',data=train_df)"
   ]
  },
  {
   "cell_type": "code",
   "execution_count": 51,
   "id": "27bd1998",
   "metadata": {},
   "outputs": [
    {
     "name": "stderr",
     "output_type": "stream",
     "text": [
      "C:\\Users\\ADMIN\\anaconda3\\lib\\site-packages\\seaborn\\_decorators.py:36: FutureWarning: Pass the following variable as a keyword arg: x. From version 0.12, the only valid positional argument will be `data`, and passing other arguments without an explicit keyword will result in an error or misinterpretation.\n",
      "  warnings.warn(\n"
     ]
    },
    {
     "data": {
      "text/plain": [
       "<AxesSubplot:xlabel='avg_time_charging_lag11_median'>"
      ]
     },
     "execution_count": 51,
     "metadata": {},
     "output_type": "execute_result"
    },
    {
     "data": {
      "image/png": "[encoded data removed]",
      "text/plain": [
       "<Figure size 432x288 with 1 Axes>"
      ]
     },
     "metadata": {
      "needs_background": "light"
     },
     "output_type": "display_data"
    }
   ],
   "source": [
    "sns.boxplot('avg_time_charging_lag11_median',data=df_train2)"
   ]
  },
  {
   "cell_type": "markdown",
   "id": "22b1ba50",
   "metadata": {},
   "source": [
    "#### Imputation via Random Sample Method for missing values  > 2025( in number)"
   ]
  },
  {
   "cell_type": "code",
   "execution_count": 52,
   "id": "309165a6",
   "metadata": {},
   "outputs": [],
   "source": [
    "impute_nan_via_Random_Sample =  [\"avg_time_charging_lag12\",\n",
    "'avg_time_discharging_lag12',           \n",
    "\"avg_time_charging_lag13\",           \n",
    "\"avg_time_discharging_lag13\",          \n",
    "\"avg_time_charging_lag14\",         \n",
    "\"avg_time_discharging_lag14\"]"
   ]
  },
  {
   "cell_type": "code",
   "execution_count": 53,
   "id": "851c22c6",
   "metadata": {},
   "outputs": [],
   "source": [
    "def impute_nan_2(df,variable):\n",
    "    #df[variable+\"_median\"]=df[variable].fillna(median)\n",
    "    df[variable+\"_random\"]=df[variable]\n",
    "    ##It will have the random sample to fill the na\n",
    "    random_sample=df[variable].dropna().sample(df[variable].isnull().sum(),random_state=0)\n",
    "    ##pandas need to have same index in order to merge the dataset\n",
    "    random_sample.index=df[df[variable].isnull()].index\n",
    "    df.loc[df[variable].isnull(),variable+'_random']=random_sample"
   ]
  },
  {
   "cell_type": "code",
   "execution_count": 54,
   "id": "19b09ef9",
   "metadata": {},
   "outputs": [],
   "source": [
    "for i in impute_nan_via_Random_Sample:\n",
    "    impute_nan_2(df_train2,i)"
   ]
  },
  {
   "cell_type": "code",
   "execution_count": 55,
   "id": "5dc1e4b2",
   "metadata": {},
   "outputs": [
    {
     "data": {
      "text/plain": [
       "deviceid                                0\n",
       "avg_time_charging_lag1                  0\n",
       "avg_time_charging_lag2                  0\n",
       "avg_time_charging_lag3                  0\n",
       "charging_rate_lag3                      0\n",
       "avg_time_discharging_lag1               0\n",
       "avg_time_discharging_lag2               0\n",
       "avg_time_discharging_lag3               0\n",
       "discharging_rate_lag3                   0\n",
       "fail_7                                  0\n",
       "charge_cycle_time_below_12              0\n",
       "avg_time_charging_lag4                  0\n",
       "avg_time_discharging_lag4               0\n",
       "avg_time_charging_lag12              2757\n",
       "avg_time_discharging_lag12           2757\n",
       "avg_time_charging_lag13              4382\n",
       "avg_time_discharging_lag13           4382\n",
       "avg_time_charging_lag14              6668\n",
       "avg_time_discharging_lag14           6668\n",
       "discharging_rate_lag4                   0\n",
       "discharging_rate_lag5                   0\n",
       "charging_rate_lag4                      0\n",
       "charging_rate_lag5                      0\n",
       "chargecycles                            0\n",
       "dischargecycles                         0\n",
       "total_off_time                          0\n",
       "number_times_restart                    0\n",
       "avg_volt_change_charging                0\n",
       "avg_volt_change_discharging             0\n",
       "avg_time_charging                       0\n",
       "avg_time_discharging                    0\n",
       "max_voltage_day                         0\n",
       "piececount                              0\n",
       "cycle_time                              0\n",
       "LastRecord                              0\n",
       "Date Deployed                           0\n",
       "avg_time_charging_lag7_median           0\n",
       "charging_rate_lag7_median               0\n",
       "avg_time_discharging_lag7_median        0\n",
       "discharging_rate_lag7_median            0\n",
       "avg_time_charging_lag5_median           0\n",
       "avg_time_discharging_lag5_median        0\n",
       "avg_time_charging_lag6_median           0\n",
       "avg_time_charging_lag8_median           0\n",
       "avg_time_discharging_lag8_median        0\n",
       "avg_time_charging_lag9_median           0\n",
       "avg_time_discharging_lag9_median        0\n",
       "avg_time_charging_lag10_median          0\n",
       "avg_time_discharging_lag10_median       0\n",
       "avg_time_charging_lag11_median          0\n",
       "avg_time_discharging_lag11_median       0\n",
       "avg_time_discharging_lag6_median        0\n",
       "discharging_rate_lag6_median            0\n",
       "discharging_rate_lag8_median            0\n",
       "avg_time_charging_lag12_random          0\n",
       "avg_time_discharging_lag12_random       0\n",
       "avg_time_charging_lag13_random          0\n",
       "avg_time_discharging_lag13_random       0\n",
       "avg_time_charging_lag14_random          0\n",
       "avg_time_discharging_lag14_random       0\n",
       "dtype: int64"
      ]
     },
     "execution_count": 55,
     "metadata": {},
     "output_type": "execute_result"
    }
   ],
   "source": [
    "df_train2.isna().sum()"
   ]
  },
  {
   "cell_type": "code",
   "execution_count": 56,
   "id": "d93a6e3d",
   "metadata": {},
   "outputs": [],
   "source": [
    "#pd.set_option('display.max_rows', None)"
   ]
  },
  {
   "cell_type": "code",
   "execution_count": 57,
   "id": "70c8c5f5",
   "metadata": {},
   "outputs": [],
   "source": [
    "df_train2 = df_train2.drop(columns = [\"avg_time_charging_lag12\",\n",
    "'avg_time_discharging_lag12',           \n",
    "\"avg_time_charging_lag13\",           \n",
    "\"avg_time_discharging_lag13\",          \n",
    "\"avg_time_charging_lag14\",         \n",
    "\"avg_time_discharging_lag14\"])"
   ]
  },
  {
   "cell_type": "code",
   "execution_count": 58,
   "id": "ae2ae469",
   "metadata": {},
   "outputs": [
    {
     "data": {
      "text/plain": [
       "deviceid                             0\n",
       "avg_time_charging_lag1               0\n",
       "avg_time_charging_lag2               0\n",
       "avg_time_charging_lag3               0\n",
       "charging_rate_lag3                   0\n",
       "avg_time_discharging_lag1            0\n",
       "avg_time_discharging_lag2            0\n",
       "avg_time_discharging_lag3            0\n",
       "discharging_rate_lag3                0\n",
       "fail_7                               0\n",
       "charge_cycle_time_below_12           0\n",
       "avg_time_charging_lag4               0\n",
       "avg_time_discharging_lag4            0\n",
       "discharging_rate_lag4                0\n",
       "discharging_rate_lag5                0\n",
       "charging_rate_lag4                   0\n",
       "charging_rate_lag5                   0\n",
       "chargecycles                         0\n",
       "dischargecycles                      0\n",
       "total_off_time                       0\n",
       "number_times_restart                 0\n",
       "avg_volt_change_charging             0\n",
       "avg_volt_change_discharging          0\n",
       "avg_time_charging                    0\n",
       "avg_time_discharging                 0\n",
       "max_voltage_day                      0\n",
       "piececount                           0\n",
       "cycle_time                           0\n",
       "LastRecord                           0\n",
       "Date Deployed                        0\n",
       "avg_time_charging_lag7_median        0\n",
       "charging_rate_lag7_median            0\n",
       "avg_time_discharging_lag7_median     0\n",
       "discharging_rate_lag7_median         0\n",
       "avg_time_charging_lag5_median        0\n",
       "avg_time_discharging_lag5_median     0\n",
       "avg_time_charging_lag6_median        0\n",
       "avg_time_charging_lag8_median        0\n",
       "avg_time_discharging_lag8_median     0\n",
       "avg_time_charging_lag9_median        0\n",
       "avg_time_discharging_lag9_median     0\n",
       "avg_time_charging_lag10_median       0\n",
       "avg_time_discharging_lag10_median    0\n",
       "avg_time_charging_lag11_median       0\n",
       "avg_time_discharging_lag11_median    0\n",
       "avg_time_discharging_lag6_median     0\n",
       "discharging_rate_lag6_median         0\n",
       "discharging_rate_lag8_median         0\n",
       "avg_time_charging_lag12_random       0\n",
       "avg_time_discharging_lag12_random    0\n",
       "avg_time_charging_lag13_random       0\n",
       "avg_time_discharging_lag13_random    0\n",
       "avg_time_charging_lag14_random       0\n",
       "avg_time_discharging_lag14_random    0\n",
       "dtype: int64"
      ]
     },
     "execution_count": 58,
     "metadata": {},
     "output_type": "execute_result"
    }
   ],
   "source": [
    "df_train2.isna().sum()"
   ]
  },
  {
   "cell_type": "code",
   "execution_count": 59,
   "id": "0727b627",
   "metadata": {},
   "outputs": [
    {
     "data": {
      "text/plain": [
       "<matplotlib.legend.Legend at 0x1b0792d53d0>"
      ]
     },
     "execution_count": 59,
     "metadata": {},
     "output_type": "execute_result"
    },
    {
     "data": {
      "image/png": "[encoded data removed]",
      "text/plain": [
       "<Figure size 432x288 with 1 Axes>"
      ]
     },
     "metadata": {
      "needs_background": "light"
     },
     "output_type": "display_data"
    }
   ],
   "source": [
    "fig = plt.figure()\n",
    "ax = fig.add_subplot(111)\n",
    "train_df['avg_time_charging_lag14'].plot(kind='kde', ax=ax)\n",
    "df_train2.avg_time_charging_lag14_random.plot(kind='kde', ax=ax, color='yellow')\n",
    "lines, labels = ax.get_legend_handles_labels()\n",
    "ax.legend(lines, labels, loc='best')"
   ]
  },
  {
   "cell_type": "code",
   "execution_count": 60,
   "id": "e0d581a6",
   "metadata": {},
   "outputs": [
    {
     "data": {
      "text/plain": [
       "<matplotlib.legend.Legend at 0x1b079311f40>"
      ]
     },
     "execution_count": 60,
     "metadata": {},
     "output_type": "execute_result"
    },
    {
     "data": {
      "image/png": "[encoded data removed]",
      "text/plain": [
       "<Figure size 432x288 with 1 Axes>"
      ]
     },
     "metadata": {
      "needs_background": "light"
     },
     "output_type": "display_data"
    }
   ],
   "source": [
    "fig = plt.figure()\n",
    "ax = fig.add_subplot(111)\n",
    "train_df['avg_time_charging_lag14'].plot(kind='kde', ax=ax)\n",
    "#df_train2.avg_time_charging_lag14_random.plot(kind='kde', ax=ax, color='yellow')\n",
    "lines, labels = ax.get_legend_handles_labels()\n",
    "ax.legend(lines, labels, loc='best')"
   ]
  },
  {
   "cell_type": "code",
   "execution_count": 61,
   "id": "9fb5c73e",
   "metadata": {},
   "outputs": [
    {
     "name": "stderr",
     "output_type": "stream",
     "text": [
      "C:\\Users\\ADMIN\\anaconda3\\lib\\site-packages\\seaborn\\_decorators.py:36: FutureWarning: Pass the following variable as a keyword arg: x. From version 0.12, the only valid positional argument will be `data`, and passing other arguments without an explicit keyword will result in an error or misinterpretation.\n",
      "  warnings.warn(\n"
     ]
    },
    {
     "data": {
      "text/plain": [
       "<AxesSubplot:xlabel='avg_time_charging_lag14'>"
      ]
     },
     "execution_count": 61,
     "metadata": {},
     "output_type": "execute_result"
    },
    {
     "data": {
      "image/png": "[encoded data removed]",
      "text/plain": [
       "<Figure size 432x288 with 1 Axes>"
      ]
     },
     "metadata": {
      "needs_background": "light"
     },
     "output_type": "display_data"
    }
   ],
   "source": [
    "sns.boxplot('avg_time_charging_lag14',data=train_df)"
   ]
  },
  {
   "cell_type": "code",
   "execution_count": 62,
   "id": "9ee446bd",
   "metadata": {},
   "outputs": [
    {
     "name": "stderr",
     "output_type": "stream",
     "text": [
      "C:\\Users\\ADMIN\\anaconda3\\lib\\site-packages\\seaborn\\_decorators.py:36: FutureWarning: Pass the following variable as a keyword arg: x. From version 0.12, the only valid positional argument will be `data`, and passing other arguments without an explicit keyword will result in an error or misinterpretation.\n",
      "  warnings.warn(\n"
     ]
    },
    {
     "data": {
      "text/plain": [
       "<AxesSubplot:xlabel='avg_time_charging_lag14_random'>"
      ]
     },
     "execution_count": 62,
     "metadata": {},
     "output_type": "execute_result"
    },
    {
     "data": {
      "image/png": "[encoded data removed]",
      "text/plain": [
       "<Figure size 432x288 with 1 Axes>"
      ]
     },
     "metadata": {
      "needs_background": "light"
     },
     "output_type": "display_data"
    }
   ],
   "source": [
    "sns.boxplot('avg_time_charging_lag14_random',data=df_train2)"
   ]
  },
  {
   "cell_type": "code",
   "execution_count": 63,
   "id": "225249fa",
   "metadata": {},
   "outputs": [
    {
     "data": {
      "text/html": [
       "<div>\n",
       "<style scoped>\n",
       "    .dataframe tbody tr th:only-of-type {\n",
       "        vertical-align: middle;\n",
       "    }\n",
       "\n",
       "    .dataframe tbody tr th {\n",
       "        vertical-align: top;\n",
       "    }\n",
       "\n",
       "    .dataframe thead th {\n",
       "        text-align: right;\n",
       "    }\n",
       "</style>\n",
       "<table border=\"1\" class=\"dataframe\">\n",
       "  <thead>\n",
       "    <tr style=\"text-align: right;\">\n",
       "      <th></th>\n",
       "      <th>deviceid</th>\n",
       "      <th>avg_time_charging_lag1</th>\n",
       "      <th>avg_time_charging_lag2</th>\n",
       "      <th>avg_time_charging_lag3</th>\n",
       "      <th>charging_rate_lag3</th>\n",
       "      <th>avg_time_discharging_lag1</th>\n",
       "      <th>avg_time_discharging_lag2</th>\n",
       "      <th>avg_time_discharging_lag3</th>\n",
       "      <th>discharging_rate_lag3</th>\n",
       "      <th>fail_7</th>\n",
       "      <th>...</th>\n",
       "      <th>avg_time_discharging_lag11_median</th>\n",
       "      <th>avg_time_discharging_lag6_median</th>\n",
       "      <th>discharging_rate_lag6_median</th>\n",
       "      <th>discharging_rate_lag8_median</th>\n",
       "      <th>avg_time_charging_lag12_random</th>\n",
       "      <th>avg_time_discharging_lag12_random</th>\n",
       "      <th>avg_time_charging_lag13_random</th>\n",
       "      <th>avg_time_discharging_lag13_random</th>\n",
       "      <th>avg_time_charging_lag14_random</th>\n",
       "      <th>avg_time_discharging_lag14_random</th>\n",
       "    </tr>\n",
       "  </thead>\n",
       "  <tbody>\n",
       "    <tr>\n",
       "      <th>0</th>\n",
       "      <td>28647</td>\n",
       "      <td>5.12</td>\n",
       "      <td>41.11</td>\n",
       "      <td>6.56</td>\n",
       "      <td>0.086667</td>\n",
       "      <td>4.37</td>\n",
       "      <td>91.70</td>\n",
       "      <td>15.70</td>\n",
       "      <td>-1.163333</td>\n",
       "      <td>0</td>\n",
       "      <td>...</td>\n",
       "      <td>6.07</td>\n",
       "      <td>79.33</td>\n",
       "      <td>0.816667</td>\n",
       "      <td>-0.173333</td>\n",
       "      <td>5.01</td>\n",
       "      <td>4.70</td>\n",
       "      <td>4.93</td>\n",
       "      <td>3.10</td>\n",
       "      <td>5.03</td>\n",
       "      <td>4.91</td>\n",
       "    </tr>\n",
       "    <tr>\n",
       "      <th>1</th>\n",
       "      <td>36175</td>\n",
       "      <td>36.60</td>\n",
       "      <td>5.16</td>\n",
       "      <td>6.23</td>\n",
       "      <td>0.136667</td>\n",
       "      <td>62.67</td>\n",
       "      <td>6.53</td>\n",
       "      <td>6.16</td>\n",
       "      <td>-0.066667</td>\n",
       "      <td>0</td>\n",
       "      <td>...</td>\n",
       "      <td>49.02</td>\n",
       "      <td>24.33</td>\n",
       "      <td>-3.063333</td>\n",
       "      <td>-0.103333</td>\n",
       "      <td>10.89</td>\n",
       "      <td>18.93</td>\n",
       "      <td>21.39</td>\n",
       "      <td>35.90</td>\n",
       "      <td>5.23</td>\n",
       "      <td>7.31</td>\n",
       "    </tr>\n",
       "    <tr>\n",
       "      <th>2</th>\n",
       "      <td>16107</td>\n",
       "      <td>5.51</td>\n",
       "      <td>5.04</td>\n",
       "      <td>4.52</td>\n",
       "      <td>-0.460000</td>\n",
       "      <td>5.13</td>\n",
       "      <td>5.65</td>\n",
       "      <td>4.14</td>\n",
       "      <td>-2.643333</td>\n",
       "      <td>0</td>\n",
       "      <td>...</td>\n",
       "      <td>6.23</td>\n",
       "      <td>5.73</td>\n",
       "      <td>0.000000</td>\n",
       "      <td>0.216667</td>\n",
       "      <td>5.13</td>\n",
       "      <td>4.37</td>\n",
       "      <td>4.73</td>\n",
       "      <td>3.50</td>\n",
       "      <td>26.79</td>\n",
       "      <td>41.29</td>\n",
       "    </tr>\n",
       "    <tr>\n",
       "      <th>3</th>\n",
       "      <td>27362</td>\n",
       "      <td>4.66</td>\n",
       "      <td>39.85</td>\n",
       "      <td>35.76</td>\n",
       "      <td>0.076667</td>\n",
       "      <td>3.93</td>\n",
       "      <td>76.37</td>\n",
       "      <td>60.86</td>\n",
       "      <td>-0.166667</td>\n",
       "      <td>0</td>\n",
       "      <td>...</td>\n",
       "      <td>4.15</td>\n",
       "      <td>52.99</td>\n",
       "      <td>-0.293333</td>\n",
       "      <td>-0.046667</td>\n",
       "      <td>4.71</td>\n",
       "      <td>3.82</td>\n",
       "      <td>13.27</td>\n",
       "      <td>18.62</td>\n",
       "      <td>4.97</td>\n",
       "      <td>4.16</td>\n",
       "    </tr>\n",
       "    <tr>\n",
       "      <th>4</th>\n",
       "      <td>19463</td>\n",
       "      <td>5.10</td>\n",
       "      <td>43.24</td>\n",
       "      <td>4.63</td>\n",
       "      <td>0.040000</td>\n",
       "      <td>4.69</td>\n",
       "      <td>71.44</td>\n",
       "      <td>3.80</td>\n",
       "      <td>0.066667</td>\n",
       "      <td>0</td>\n",
       "      <td>...</td>\n",
       "      <td>4.64</td>\n",
       "      <td>76.42</td>\n",
       "      <td>-0.006667</td>\n",
       "      <td>-1.790000</td>\n",
       "      <td>5.28</td>\n",
       "      <td>5.16</td>\n",
       "      <td>25.10</td>\n",
       "      <td>47.76</td>\n",
       "      <td>21.62</td>\n",
       "      <td>37.29</td>\n",
       "    </tr>\n",
       "    <tr>\n",
       "      <th>...</th>\n",
       "      <td>...</td>\n",
       "      <td>...</td>\n",
       "      <td>...</td>\n",
       "      <td>...</td>\n",
       "      <td>...</td>\n",
       "      <td>...</td>\n",
       "      <td>...</td>\n",
       "      <td>...</td>\n",
       "      <td>...</td>\n",
       "      <td>...</td>\n",
       "      <td>...</td>\n",
       "      <td>...</td>\n",
       "      <td>...</td>\n",
       "      <td>...</td>\n",
       "      <td>...</td>\n",
       "      <td>...</td>\n",
       "      <td>...</td>\n",
       "      <td>...</td>\n",
       "      <td>...</td>\n",
       "      <td>...</td>\n",
       "      <td>...</td>\n",
       "    </tr>\n",
       "    <tr>\n",
       "      <th>40495</th>\n",
       "      <td>16284</td>\n",
       "      <td>4.97</td>\n",
       "      <td>5.81</td>\n",
       "      <td>5.01</td>\n",
       "      <td>-0.083333</td>\n",
       "      <td>7.13</td>\n",
       "      <td>5.41</td>\n",
       "      <td>5.60</td>\n",
       "      <td>-0.160000</td>\n",
       "      <td>1</td>\n",
       "      <td>...</td>\n",
       "      <td>5.91</td>\n",
       "      <td>20.12</td>\n",
       "      <td>-0.026667</td>\n",
       "      <td>0.060000</td>\n",
       "      <td>33.39</td>\n",
       "      <td>74.08</td>\n",
       "      <td>34.80</td>\n",
       "      <td>53.14</td>\n",
       "      <td>4.58</td>\n",
       "      <td>4.01</td>\n",
       "    </tr>\n",
       "    <tr>\n",
       "      <th>40496</th>\n",
       "      <td>49732</td>\n",
       "      <td>4.81</td>\n",
       "      <td>4.53</td>\n",
       "      <td>31.68</td>\n",
       "      <td>0.016667</td>\n",
       "      <td>4.71</td>\n",
       "      <td>3.99</td>\n",
       "      <td>49.68</td>\n",
       "      <td>0.533333</td>\n",
       "      <td>1</td>\n",
       "      <td>...</td>\n",
       "      <td>5.20</td>\n",
       "      <td>39.07</td>\n",
       "      <td>-0.540000</td>\n",
       "      <td>0.450000</td>\n",
       "      <td>27.65</td>\n",
       "      <td>42.56</td>\n",
       "      <td>26.34</td>\n",
       "      <td>36.82</td>\n",
       "      <td>33.77</td>\n",
       "      <td>65.97</td>\n",
       "    </tr>\n",
       "    <tr>\n",
       "      <th>40497</th>\n",
       "      <td>43158</td>\n",
       "      <td>4.73</td>\n",
       "      <td>4.77</td>\n",
       "      <td>5.71</td>\n",
       "      <td>-0.020000</td>\n",
       "      <td>3.83</td>\n",
       "      <td>3.48</td>\n",
       "      <td>4.51</td>\n",
       "      <td>0.006667</td>\n",
       "      <td>1</td>\n",
       "      <td>...</td>\n",
       "      <td>5.61</td>\n",
       "      <td>72.40</td>\n",
       "      <td>-0.006667</td>\n",
       "      <td>-3.506667</td>\n",
       "      <td>4.39</td>\n",
       "      <td>4.15</td>\n",
       "      <td>4.49</td>\n",
       "      <td>4.18</td>\n",
       "      <td>23.74</td>\n",
       "      <td>37.50</td>\n",
       "    </tr>\n",
       "    <tr>\n",
       "      <th>40498</th>\n",
       "      <td>5860</td>\n",
       "      <td>4.93</td>\n",
       "      <td>5.01</td>\n",
       "      <td>4.85</td>\n",
       "      <td>-0.103333</td>\n",
       "      <td>3.35</td>\n",
       "      <td>4.30</td>\n",
       "      <td>4.12</td>\n",
       "      <td>0.036667</td>\n",
       "      <td>0</td>\n",
       "      <td>...</td>\n",
       "      <td>3.49</td>\n",
       "      <td>4.13</td>\n",
       "      <td>0.203333</td>\n",
       "      <td>0.040000</td>\n",
       "      <td>5.19</td>\n",
       "      <td>5.06</td>\n",
       "      <td>18.13</td>\n",
       "      <td>28.20</td>\n",
       "      <td>48.68</td>\n",
       "      <td>89.30</td>\n",
       "    </tr>\n",
       "    <tr>\n",
       "      <th>40499</th>\n",
       "      <td>20795</td>\n",
       "      <td>30.83</td>\n",
       "      <td>5.18</td>\n",
       "      <td>33.17</td>\n",
       "      <td>0.033333</td>\n",
       "      <td>43.72</td>\n",
       "      <td>5.59</td>\n",
       "      <td>61.54</td>\n",
       "      <td>-0.026667</td>\n",
       "      <td>1</td>\n",
       "      <td>...</td>\n",
       "      <td>4.05</td>\n",
       "      <td>58.46</td>\n",
       "      <td>-0.283333</td>\n",
       "      <td>-0.216667</td>\n",
       "      <td>52.31</td>\n",
       "      <td>97.32</td>\n",
       "      <td>20.55</td>\n",
       "      <td>32.40</td>\n",
       "      <td>4.92</td>\n",
       "      <td>3.39</td>\n",
       "    </tr>\n",
       "  </tbody>\n",
       "</table>\n",
       "<p>40500 rows × 54 columns</p>\n",
       "</div>"
      ],
      "text/plain": [
       "       deviceid  avg_time_charging_lag1  avg_time_charging_lag2  \\\n",
       "0         28647                    5.12                   41.11   \n",
       "1         36175                   36.60                    5.16   \n",
       "2         16107                    5.51                    5.04   \n",
       "3         27362                    4.66                   39.85   \n",
       "4         19463                    5.10                   43.24   \n",
       "...         ...                     ...                     ...   \n",
       "40495     16284                    4.97                    5.81   \n",
       "40496     49732                    4.81                    4.53   \n",
       "40497     43158                    4.73                    4.77   \n",
       "40498      5860                    4.93                    5.01   \n",
       "40499     20795                   30.83                    5.18   \n",
       "\n",
       "       avg_time_charging_lag3  charging_rate_lag3  avg_time_discharging_lag1  \\\n",
       "0                        6.56            0.086667                       4.37   \n",
       "1                        6.23            0.136667                      62.67   \n",
       "2                        4.52           -0.460000                       5.13   \n",
       "3                       35.76            0.076667                       3.93   \n",
       "4                        4.63            0.040000                       4.69   \n",
       "...                       ...                 ...                        ...   \n",
       "40495                    5.01           -0.083333                       7.13   \n",
       "40496                   31.68            0.016667                       4.71   \n",
       "40497                    5.71           -0.020000                       3.83   \n",
       "40498                    4.85           -0.103333                       3.35   \n",
       "40499                   33.17            0.033333                      43.72   \n",
       "\n",
       "       avg_time_discharging_lag2  avg_time_discharging_lag3  \\\n",
       "0                          91.70                      15.70   \n",
       "1                           6.53                       6.16   \n",
       "2                           5.65                       4.14   \n",
       "3                          76.37                      60.86   \n",
       "4                          71.44                       3.80   \n",
       "...                          ...                        ...   \n",
       "40495                       5.41                       5.60   \n",
       "40496                       3.99                      49.68   \n",
       "40497                       3.48                       4.51   \n",
       "40498                       4.30                       4.12   \n",
       "40499                       5.59                      61.54   \n",
       "\n",
       "       discharging_rate_lag3  fail_7  ...  avg_time_discharging_lag11_median  \\\n",
       "0                  -1.163333       0  ...                               6.07   \n",
       "1                  -0.066667       0  ...                              49.02   \n",
       "2                  -2.643333       0  ...                               6.23   \n",
       "3                  -0.166667       0  ...                               4.15   \n",
       "4                   0.066667       0  ...                               4.64   \n",
       "...                      ...     ...  ...                                ...   \n",
       "40495              -0.160000       1  ...                               5.91   \n",
       "40496               0.533333       1  ...                               5.20   \n",
       "40497               0.006667       1  ...                               5.61   \n",
       "40498               0.036667       0  ...                               3.49   \n",
       "40499              -0.026667       1  ...                               4.05   \n",
       "\n",
       "       avg_time_discharging_lag6_median  discharging_rate_lag6_median  \\\n",
       "0                                 79.33                      0.816667   \n",
       "1                                 24.33                     -3.063333   \n",
       "2                                  5.73                      0.000000   \n",
       "3                                 52.99                     -0.293333   \n",
       "4                                 76.42                     -0.006667   \n",
       "...                                 ...                           ...   \n",
       "40495                             20.12                     -0.026667   \n",
       "40496                             39.07                     -0.540000   \n",
       "40497                             72.40                     -0.006667   \n",
       "40498                              4.13                      0.203333   \n",
       "40499                             58.46                     -0.283333   \n",
       "\n",
       "       discharging_rate_lag8_median  avg_time_charging_lag12_random  \\\n",
       "0                         -0.173333                            5.01   \n",
       "1                         -0.103333                           10.89   \n",
       "2                          0.216667                            5.13   \n",
       "3                         -0.046667                            4.71   \n",
       "4                         -1.790000                            5.28   \n",
       "...                             ...                             ...   \n",
       "40495                      0.060000                           33.39   \n",
       "40496                      0.450000                           27.65   \n",
       "40497                     -3.506667                            4.39   \n",
       "40498                      0.040000                            5.19   \n",
       "40499                     -0.216667                           52.31   \n",
       "\n",
       "       avg_time_discharging_lag12_random  avg_time_charging_lag13_random  \\\n",
       "0                                   4.70                            4.93   \n",
       "1                                  18.93                           21.39   \n",
       "2                                   4.37                            4.73   \n",
       "3                                   3.82                           13.27   \n",
       "4                                   5.16                           25.10   \n",
       "...                                  ...                             ...   \n",
       "40495                              74.08                           34.80   \n",
       "40496                              42.56                           26.34   \n",
       "40497                               4.15                            4.49   \n",
       "40498                               5.06                           18.13   \n",
       "40499                              97.32                           20.55   \n",
       "\n",
       "       avg_time_discharging_lag13_random  avg_time_charging_lag14_random  \\\n",
       "0                                   3.10                            5.03   \n",
       "1                                  35.90                            5.23   \n",
       "2                                   3.50                           26.79   \n",
       "3                                  18.62                            4.97   \n",
       "4                                  47.76                           21.62   \n",
       "...                                  ...                             ...   \n",
       "40495                              53.14                            4.58   \n",
       "40496                              36.82                           33.77   \n",
       "40497                               4.18                           23.74   \n",
       "40498                              28.20                           48.68   \n",
       "40499                              32.40                            4.92   \n",
       "\n",
       "       avg_time_discharging_lag14_random  \n",
       "0                                   4.91  \n",
       "1                                   7.31  \n",
       "2                                  41.29  \n",
       "3                                   4.16  \n",
       "4                                  37.29  \n",
       "...                                  ...  \n",
       "40495                               4.01  \n",
       "40496                              65.97  \n",
       "40497                              37.50  \n",
       "40498                              89.30  \n",
       "40499                               3.39  \n",
       "\n",
       "[40500 rows x 54 columns]"
      ]
     },
     "execution_count": 63,
     "metadata": {},
     "output_type": "execute_result"
    }
   ],
   "source": [
    "df_train2"
   ]
  },
  {
   "cell_type": "code",
   "execution_count": 64,
   "id": "61c904de",
   "metadata": {},
   "outputs": [
    {
     "data": {
      "text/plain": [
       "deviceid                             0\n",
       "avg_time_charging_lag1               0\n",
       "avg_time_charging_lag2               0\n",
       "avg_time_charging_lag3               0\n",
       "charging_rate_lag3                   0\n",
       "avg_time_discharging_lag1            0\n",
       "avg_time_discharging_lag2            0\n",
       "avg_time_discharging_lag3            0\n",
       "discharging_rate_lag3                0\n",
       "fail_7                               0\n",
       "charge_cycle_time_below_12           0\n",
       "avg_time_charging_lag4               0\n",
       "avg_time_discharging_lag4            0\n",
       "discharging_rate_lag4                0\n",
       "discharging_rate_lag5                0\n",
       "charging_rate_lag4                   0\n",
       "charging_rate_lag5                   0\n",
       "chargecycles                         0\n",
       "dischargecycles                      0\n",
       "total_off_time                       0\n",
       "number_times_restart                 0\n",
       "avg_volt_change_charging             0\n",
       "avg_volt_change_discharging          0\n",
       "avg_time_charging                    0\n",
       "avg_time_discharging                 0\n",
       "max_voltage_day                      0\n",
       "piececount                           0\n",
       "cycle_time                           0\n",
       "LastRecord                           0\n",
       "Date Deployed                        0\n",
       "avg_time_charging_lag7_median        0\n",
       "charging_rate_lag7_median            0\n",
       "avg_time_discharging_lag7_median     0\n",
       "discharging_rate_lag7_median         0\n",
       "avg_time_charging_lag5_median        0\n",
       "avg_time_discharging_lag5_median     0\n",
       "avg_time_charging_lag6_median        0\n",
       "avg_time_charging_lag8_median        0\n",
       "avg_time_discharging_lag8_median     0\n",
       "avg_time_charging_lag9_median        0\n",
       "avg_time_discharging_lag9_median     0\n",
       "avg_time_charging_lag10_median       0\n",
       "avg_time_discharging_lag10_median    0\n",
       "avg_time_charging_lag11_median       0\n",
       "avg_time_discharging_lag11_median    0\n",
       "avg_time_discharging_lag6_median     0\n",
       "discharging_rate_lag6_median         0\n",
       "discharging_rate_lag8_median         0\n",
       "avg_time_charging_lag12_random       0\n",
       "avg_time_discharging_lag12_random    0\n",
       "avg_time_charging_lag13_random       0\n",
       "avg_time_discharging_lag13_random    0\n",
       "avg_time_charging_lag14_random       0\n",
       "avg_time_discharging_lag14_random    0\n",
       "dtype: int64"
      ]
     },
     "execution_count": 64,
     "metadata": {},
     "output_type": "execute_result"
    }
   ],
   "source": [
    "df_train2.isna().sum()"
   ]
  },
  {
   "cell_type": "code",
   "execution_count": 65,
   "id": "7358e405",
   "metadata": {},
   "outputs": [],
   "source": [
    "df_train2.to_csv('cleaned_dataset_version2.csv')"
   ]
  },
  {
   "cell_type": "code",
   "execution_count": 66,
   "id": "f05fa640",
   "metadata": {},
   "outputs": [
    {
     "name": "stderr",
     "output_type": "stream",
     "text": [
      "C:\\Users\\ADMIN\\anaconda3\\lib\\site-packages\\seaborn\\_decorators.py:36: FutureWarning: Pass the following variable as a keyword arg: x. From version 0.12, the only valid positional argument will be `data`, and passing other arguments without an explicit keyword will result in an error or misinterpretation.\n",
      "  warnings.warn(\n"
     ]
    },
    {
     "data": {
      "text/plain": [
       "<AxesSubplot:xlabel='number_times_restart'>"
      ]
     },
     "execution_count": 66,
     "metadata": {},
     "output_type": "execute_result"
    },
    {
     "data": {
      "image/png": "[encoded data removed]",
      "text/plain": [
       "<Figure size 432x288 with 1 Axes>"
      ]
     },
     "metadata": {
      "needs_background": "light"
     },
     "output_type": "display_data"
    }
   ],
   "source": [
    "sns.boxplot('number_times_restart',data=df_train2)"
   ]
  },
  {
   "cell_type": "code",
   "execution_count": 67,
   "id": "1980826a",
   "metadata": {},
   "outputs": [],
   "source": [
    "filt_0 = (df_train2[\"fail_7\"] == 0)\n",
    "filt_1 = (df_train2[\"fail_7\"] == 1)"
   ]
  },
  {
   "cell_type": "code",
   "execution_count": 68,
   "id": "89fa4c87",
   "metadata": {},
   "outputs": [
    {
     "data": {
      "text/plain": [
       "1.444444444"
      ]
     },
     "execution_count": 68,
     "metadata": {},
     "output_type": "execute_result"
    }
   ],
   "source": [
    "df_train2[filt_0]['number_times_restart'].median()"
   ]
  },
  {
   "cell_type": "code",
   "execution_count": 69,
   "id": "f6243856",
   "metadata": {},
   "outputs": [
    {
     "name": "stderr",
     "output_type": "stream",
     "text": [
      "C:\\Users\\ADMIN\\anaconda3\\lib\\site-packages\\seaborn\\_decorators.py:36: FutureWarning: Pass the following variable as a keyword arg: x. From version 0.12, the only valid positional argument will be `data`, and passing other arguments without an explicit keyword will result in an error or misinterpretation.\n",
      "  warnings.warn(\n"
     ]
    },
    {
     "data": {
      "text/plain": [
       "<AxesSubplot:xlabel='number_times_restart'>"
      ]
     },
     "execution_count": 69,
     "metadata": {},
     "output_type": "execute_result"
    },
    {
     "data": {
      "image/png": "[encoded data removed]",
      "text/plain": [
       "<Figure size 432x288 with 1 Axes>"
      ]
     },
     "metadata": {
      "needs_background": "light"
     },
     "output_type": "display_data"
    }
   ],
   "source": [
    "sns.boxplot('number_times_restart',data=df_train2[filt_0])"
   ]
  },
  {
   "cell_type": "code",
   "execution_count": 70,
   "id": "df8de61f",
   "metadata": {},
   "outputs": [
    {
     "name": "stderr",
     "output_type": "stream",
     "text": [
      "C:\\Users\\ADMIN\\anaconda3\\lib\\site-packages\\seaborn\\_decorators.py:36: FutureWarning: Pass the following variable as a keyword arg: x. From version 0.12, the only valid positional argument will be `data`, and passing other arguments without an explicit keyword will result in an error or misinterpretation.\n",
      "  warnings.warn(\n"
     ]
    },
    {
     "data": {
      "text/plain": [
       "<AxesSubplot:xlabel='number_times_restart'>"
      ]
     },
     "execution_count": 70,
     "metadata": {},
     "output_type": "execute_result"
    },
    {
     "data": {
      "image/png": "[encoded data removed]",
      "text/plain": [
       "<Figure size 432x288 with 1 Axes>"
      ]
     },
     "metadata": {
      "needs_background": "light"
     },
     "output_type": "display_data"
    }
   ],
   "source": [
    "sns.boxplot('number_times_restart',data=df_train2[filt_1])"
   ]
  },
  {
   "cell_type": "code",
   "execution_count": 71,
   "id": "177d219d",
   "metadata": {},
   "outputs": [
    {
     "data": {
      "text/html": [
       "<div>\n",
       "<style scoped>\n",
       "    .dataframe tbody tr th:only-of-type {\n",
       "        vertical-align: middle;\n",
       "    }\n",
       "\n",
       "    .dataframe tbody tr th {\n",
       "        vertical-align: top;\n",
       "    }\n",
       "\n",
       "    .dataframe thead th {\n",
       "        text-align: right;\n",
       "    }\n",
       "</style>\n",
       "<table border=\"1\" class=\"dataframe\">\n",
       "  <thead>\n",
       "    <tr style=\"text-align: right;\">\n",
       "      <th></th>\n",
       "      <th>piececount</th>\n",
       "      <th>fail_7</th>\n",
       "    </tr>\n",
       "  </thead>\n",
       "  <tbody>\n",
       "    <tr>\n",
       "      <th>0</th>\n",
       "      <td>14.200000</td>\n",
       "      <td>0</td>\n",
       "    </tr>\n",
       "    <tr>\n",
       "      <th>1</th>\n",
       "      <td>19.777778</td>\n",
       "      <td>0</td>\n",
       "    </tr>\n",
       "    <tr>\n",
       "      <th>2</th>\n",
       "      <td>19.200000</td>\n",
       "      <td>0</td>\n",
       "    </tr>\n",
       "    <tr>\n",
       "      <th>3</th>\n",
       "      <td>23.625000</td>\n",
       "      <td>0</td>\n",
       "    </tr>\n",
       "    <tr>\n",
       "      <th>4</th>\n",
       "      <td>12.666667</td>\n",
       "      <td>0</td>\n",
       "    </tr>\n",
       "    <tr>\n",
       "      <th>...</th>\n",
       "      <td>...</td>\n",
       "      <td>...</td>\n",
       "    </tr>\n",
       "    <tr>\n",
       "      <th>40490</th>\n",
       "      <td>21.400000</td>\n",
       "      <td>0</td>\n",
       "    </tr>\n",
       "    <tr>\n",
       "      <th>40491</th>\n",
       "      <td>32.000000</td>\n",
       "      <td>0</td>\n",
       "    </tr>\n",
       "    <tr>\n",
       "      <th>40492</th>\n",
       "      <td>12.000000</td>\n",
       "      <td>0</td>\n",
       "    </tr>\n",
       "    <tr>\n",
       "      <th>40494</th>\n",
       "      <td>7.222222</td>\n",
       "      <td>0</td>\n",
       "    </tr>\n",
       "    <tr>\n",
       "      <th>40498</th>\n",
       "      <td>17.714286</td>\n",
       "      <td>0</td>\n",
       "    </tr>\n",
       "  </tbody>\n",
       "</table>\n",
       "<p>31099 rows × 2 columns</p>\n",
       "</div>"
      ],
      "text/plain": [
       "       piececount  fail_7\n",
       "0       14.200000       0\n",
       "1       19.777778       0\n",
       "2       19.200000       0\n",
       "3       23.625000       0\n",
       "4       12.666667       0\n",
       "...           ...     ...\n",
       "40490   21.400000       0\n",
       "40491   32.000000       0\n",
       "40492   12.000000       0\n",
       "40494    7.222222       0\n",
       "40498   17.714286       0\n",
       "\n",
       "[31099 rows x 2 columns]"
      ]
     },
     "execution_count": 71,
     "metadata": {},
     "output_type": "execute_result"
    }
   ],
   "source": [
    "df_train2[filt_0][['piececount','fail_7']]"
   ]
  },
  {
   "cell_type": "code",
   "execution_count": 72,
   "id": "080783db",
   "metadata": {},
   "outputs": [
    {
     "name": "stderr",
     "output_type": "stream",
     "text": [
      "C:\\Users\\ADMIN\\anaconda3\\lib\\site-packages\\seaborn\\_decorators.py:36: FutureWarning: Pass the following variable as a keyword arg: x. From version 0.12, the only valid positional argument will be `data`, and passing other arguments without an explicit keyword will result in an error or misinterpretation.\n",
      "  warnings.warn(\n"
     ]
    },
    {
     "data": {
      "text/plain": [
       "<AxesSubplot:xlabel='piececount'>"
      ]
     },
     "execution_count": 72,
     "metadata": {},
     "output_type": "execute_result"
    },
    {
     "data": {
      "image/png": "[encoded data removed]",
      "text/plain": [
       "<Figure size 432x288 with 1 Axes>"
      ]
     },
     "metadata": {
      "needs_background": "light"
     },
     "output_type": "display_data"
    }
   ],
   "source": [
    "sns.boxplot('piececount',data=df_train2[filt_0])"
   ]
  },
  {
   "cell_type": "code",
   "execution_count": 73,
   "id": "64864731",
   "metadata": {},
   "outputs": [
    {
     "name": "stderr",
     "output_type": "stream",
     "text": [
      "C:\\Users\\ADMIN\\anaconda3\\lib\\site-packages\\seaborn\\_decorators.py:36: FutureWarning: Pass the following variable as a keyword arg: x. From version 0.12, the only valid positional argument will be `data`, and passing other arguments without an explicit keyword will result in an error or misinterpretation.\n",
      "  warnings.warn(\n"
     ]
    },
    {
     "data": {
      "text/plain": [
       "<AxesSubplot:xlabel='piececount'>"
      ]
     },
     "execution_count": 73,
     "metadata": {},
     "output_type": "execute_result"
    },
    {
     "data": {
      "image/png": "[encoded data removed]",
      "text/plain": [
       "<Figure size 432x288 with 1 Axes>"
      ]
     },
     "metadata": {
      "needs_background": "light"
     },
     "output_type": "display_data"
    }
   ],
   "source": [
    "sns.boxplot('piececount',data=df_train2[filt_1])"
   ]
  },
  {
   "cell_type": "code",
   "execution_count": 74,
   "id": "a119da2d",
   "metadata": {},
   "outputs": [
    {
     "data": {
      "text/plain": [
       "count    9401.000000\n",
       "mean       20.755059\n",
       "std        17.147733\n",
       "min         1.000000\n",
       "25%        11.500000\n",
       "50%        16.714286\n",
       "75%        24.272727\n",
       "max       418.916667\n",
       "Name: piececount, dtype: float64"
      ]
     },
     "execution_count": 74,
     "metadata": {},
     "output_type": "execute_result"
    }
   ],
   "source": [
    "df_train2[filt_1]['piececount'].describe()"
   ]
  },
  {
   "cell_type": "code",
   "execution_count": 75,
   "id": "5db2e1a2",
   "metadata": {},
   "outputs": [
    {
     "data": {
      "text/plain": [
       "count    31099.000000\n",
       "mean        20.456958\n",
       "std         16.248646\n",
       "min          1.000000\n",
       "25%         11.272727\n",
       "50%         16.454545\n",
       "75%         24.300000\n",
       "max        369.000000\n",
       "Name: piececount, dtype: float64"
      ]
     },
     "execution_count": 75,
     "metadata": {},
     "output_type": "execute_result"
    }
   ],
   "source": [
    "df_train2[filt_0]['piececount'].describe()"
   ]
  }
 ],
 "metadata": {
  "kernelspec": {
   "display_name": "Python 3 (ipykernel)",
   "language": "python",
   "name": "python3"
  },
  "language_info": {
   "codemirror_mode": {
    "name": "ipython",
    "version": 3
   },
   "file_extension": ".py",
   "mimetype": "text/x-python",
   "name": "python",
   "nbconvert_exporter": "python",
   "pygments_lexer": "ipython3",
   "version": "3.9.7"
  }
 },
 "nbformat": 4,
 "nbformat_minor": 5
}
