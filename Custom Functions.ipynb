{
 "cells": [
  {
   "cell_type": "code",
   "execution_count": 1,
   "id": "033a0590",
   "metadata": {},
   "outputs": [],
   "source": [
    "import pandas as pd"
   ]
  },
  {
   "cell_type": "code",
   "execution_count": 2,
   "id": "b81f8843",
   "metadata": {},
   "outputs": [],
   "source": [
    "df1 =  pd.read_csv(\"test_for_submissions.csv\")"
   ]
  },
  {
   "cell_type": "code",
   "execution_count": 3,
   "id": "90c2ba9a",
   "metadata": {},
   "outputs": [],
   "source": [
    "lists_via_MMM_imputation = [\"avg_time_charging_lag7\", \n",
    "\"charging_rate_lag7\",\n",
    "\"charging_rate_lag6\",\n",
    "\"avg_time_discharging_lag7\",\n",
    "\"discharging_rate_lag7\",\n",
    "\"avg_time_charging_lag5\",\n",
    "\"avg_time_discharging_lag5\",\n",
    "\"avg_time_charging_lag6\",\n",
    "\"avg_time_charging_lag8\",\n",
    "\"avg_time_discharging_lag8\",       \n",
    "\"avg_time_charging_lag9\",          \n",
    "\"avg_time_discharging_lag9\",       \n",
    "\"avg_time_charging_lag10\",         \n",
    "\"avg_time_discharging_lag10\",      \n",
    "\"avg_time_charging_lag11\",        \n",
    "\"avg_time_discharging_lag11\",\n",
    "\"avg_time_discharging_lag6\",\n",
    "\"discharging_rate_lag6\",\n",
    "\"discharging_rate_lag8\"]"
   ]
  },
  {
   "cell_type": "markdown",
   "id": "17108f13",
   "metadata": {},
   "source": [
    "##### Performing Mean, Median, Mode Imputation"
   ]
  },
  {
   "cell_type": "code",
   "execution_count": 4,
   "id": "78a07171",
   "metadata": {},
   "outputs": [],
   "source": [
    "df2 = df1.copy()"
   ]
  },
  {
   "cell_type": "code",
   "execution_count": 5,
   "id": "df5cb227",
   "metadata": {},
   "outputs": [],
   "source": [
    "def impute_nan(df,variable,median):\n",
    "    df[variable+\"_median\"]=df[variable].fillna(median)"
   ]
  },
  {
   "cell_type": "code",
   "execution_count": 6,
   "id": "6f263e7f",
   "metadata": {},
   "outputs": [],
   "source": [
    "# find the median of the feature and insert it into a new dataframe\n",
    "def impute_nan(df1,df2,variable):\n",
    "    median = df1[variable].median()\n",
    "    df2[variable+\"_median\"]=df2[variable].fillna(median)\n",
    "    return df2"
   ]
  },
  {
   "cell_type": "code",
   "execution_count": 7,
   "id": "10433f5e",
   "metadata": {},
   "outputs": [],
   "source": [
    "for i in lists_via_MMM_imputation:\n",
    "    impute_nan(df1,df2,i)"
   ]
  },
  {
   "cell_type": "markdown",
   "id": "816c2a1b",
   "metadata": {},
   "source": [
    "##### Performing Imputation via Random Sample method"
   ]
  },
  {
   "cell_type": "code",
   "execution_count": 8,
   "id": "f6be71d3",
   "metadata": {},
   "outputs": [],
   "source": [
    "#fill the NaN via random sample method , these are the features\n",
    "impute_nan_via_Random_Sample =  [\"avg_time_charging_lag12\",\n",
    "'avg_time_discharging_lag12',           \n",
    "\"avg_time_charging_lag13\",           \n",
    "\"avg_time_discharging_lag13\",          \n",
    "\"avg_time_charging_lag14\",         \n",
    "\"avg_time_discharging_lag14\"]"
   ]
  },
  {
   "cell_type": "code",
   "execution_count": 9,
   "id": "eb402e76",
   "metadata": {},
   "outputs": [],
   "source": [
    "def impute_nan_2(df,variable):\n",
    "    #df[variable+\"_median\"]=df[variable].fillna(median)\n",
    "    df[variable+\"_random\"]=df[variable]\n",
    "    ##It will have the random sample to fill the na\n",
    "    random_sample=df[variable].dropna().sample(df[variable].isnull().sum(),random_state=0)\n",
    "    ##pandas need to have same index in order to merge the dataset\n",
    "    random_sample.index=df[df[variable].isnull()].index\n",
    "    df.loc[df[variable].isnull(),variable+'_random']=random_sample"
   ]
  },
  {
   "cell_type": "code",
   "execution_count": 10,
   "id": "dc3a63e8",
   "metadata": {},
   "outputs": [],
   "source": [
    "for i in impute_nan_via_Random_Sample:\n",
    "    impute_nan_2(df2,i)"
   ]
  },
  {
   "cell_type": "code",
   "execution_count": 11,
   "id": "7e6e1416",
   "metadata": {},
   "outputs": [],
   "source": [
    "df2 = df2.drop(columns = [\"avg_time_charging_lag12\",\n",
    "'avg_time_discharging_lag12',           \n",
    "\"avg_time_charging_lag13\",           \n",
    "\"avg_time_discharging_lag13\",          \n",
    "\"avg_time_charging_lag14\",         \n",
    "\"avg_time_discharging_lag14\",\"avg_time_charging_lag7\", \n",
    "\"charging_rate_lag7\", \n",
    "\"avg_time_discharging_lag7\",\n",
    "\"discharging_rate_lag7\",\n",
    "\"avg_time_charging_lag5\",\n",
    "\"avg_time_discharging_lag5\",\n",
    "\"avg_time_charging_lag6\",\n",
    "\"avg_time_charging_lag8\",\n",
    "\"avg_time_discharging_lag8\",       \n",
    "\"avg_time_charging_lag9\",          \n",
    "\"avg_time_discharging_lag9\",       \n",
    "\"avg_time_charging_lag10\",         \n",
    "\"avg_time_discharging_lag10\",      \n",
    "\"avg_time_charging_lag11\",        \n",
    "\"avg_time_discharging_lag11\",\"avg_time_discharging_lag6\",\n",
    "\"discharging_rate_lag6\",\n",
    "\"discharging_rate_lag8\",\n",
    "\"charging_rate_lag6\"])"
   ]
  },
  {
   "cell_type": "code",
   "execution_count": 12,
   "id": "9f8da5b1",
   "metadata": {},
   "outputs": [
    {
     "data": {
      "text/plain": [
       "deviceid                             0\n",
       "avg_time_charging_lag1               0\n",
       "avg_time_charging_lag2               0\n",
       "avg_time_charging_lag3               0\n",
       "charging_rate_lag3                   0\n",
       "avg_time_discharging_lag1            0\n",
       "avg_time_discharging_lag2            0\n",
       "avg_time_discharging_lag3            0\n",
       "discharging_rate_lag3                0\n",
       "charge_cycle_time_below_12           0\n",
       "avg_time_charging_lag4               0\n",
       "avg_time_discharging_lag4            0\n",
       "discharging_rate_lag4                0\n",
       "discharging_rate_lag5                0\n",
       "charging_rate_lag4                   0\n",
       "charging_rate_lag5                   0\n",
       "chargecycles                         0\n",
       "dischargecycles                      0\n",
       "total_off_time                       0\n",
       "number_times_restart                 0\n",
       "avg_volt_change_charging             0\n",
       "avg_volt_change_discharging          0\n",
       "avg_time_charging                    0\n",
       "avg_time_discharging                 0\n",
       "max_voltage_day                      0\n",
       "piececount                           0\n",
       "cycle_time                           0\n",
       "LastRecord                           0\n",
       "Date Deployed                        0\n",
       "avg_time_charging_lag7_median        0\n",
       "charging_rate_lag7_median            0\n",
       "charging_rate_lag6_median            0\n",
       "avg_time_discharging_lag7_median     0\n",
       "discharging_rate_lag7_median         0\n",
       "avg_time_charging_lag5_median        0\n",
       "avg_time_discharging_lag5_median     0\n",
       "avg_time_charging_lag6_median        0\n",
       "avg_time_charging_lag8_median        0\n",
       "avg_time_discharging_lag8_median     0\n",
       "avg_time_charging_lag9_median        0\n",
       "avg_time_discharging_lag9_median     0\n",
       "avg_time_charging_lag10_median       0\n",
       "avg_time_discharging_lag10_median    0\n",
       "avg_time_charging_lag11_median       0\n",
       "avg_time_discharging_lag11_median    0\n",
       "avg_time_discharging_lag6_median     0\n",
       "discharging_rate_lag6_median         0\n",
       "discharging_rate_lag8_median         0\n",
       "avg_time_charging_lag12_random       0\n",
       "avg_time_discharging_lag12_random    0\n",
       "avg_time_charging_lag13_random       0\n",
       "avg_time_discharging_lag13_random    0\n",
       "avg_time_charging_lag14_random       0\n",
       "avg_time_discharging_lag14_random    0\n",
       "dtype: int64"
      ]
     },
     "execution_count": 12,
     "metadata": {},
     "output_type": "execute_result"
    }
   ],
   "source": [
    "df2.isna().sum()"
   ]
  },
  {
   "cell_type": "code",
   "execution_count": 13,
   "id": "2ed32aa3",
   "metadata": {},
   "outputs": [
    {
     "data": {
      "text/plain": [
       "(4500, 54)"
      ]
     },
     "execution_count": 13,
     "metadata": {},
     "output_type": "execute_result"
    }
   ],
   "source": [
    "df2.shape"
   ]
  },
  {
   "cell_type": "code",
   "execution_count": 40,
   "id": "4b2c62e4",
   "metadata": {},
   "outputs": [],
   "source": [
    "#### Writing Custom Functions to aggregate\n",
    "def aggregate(df):\n",
    "    df_aggregate = df.copy()\n",
    "    df_aggregate['avg_charging_rate_for_all_lags'] = df[['charging_rate_lag3','charging_rate_lag6_median',\n",
    "'charging_rate_lag4',\n",
    "'charging_rate_lag5',\n",
    "'charging_rate_lag7_median']].mean(axis=1)\n",
    "    \n",
    "    df_aggregate['avg_discharge_time_for_all_lags'] = df[['avg_time_discharging_lag1',\n",
    "'avg_time_discharging_lag2',\n",
    "'avg_time_discharging_lag3',\n",
    "'avg_time_discharging_lag4',\n",
    "'avg_time_discharging',\n",
    "'avg_time_discharging_lag7_median',\n",
    "'avg_time_discharging_lag5_median',\n",
    "'avg_time_discharging_lag6_median',\n",
    "'avg_time_discharging_lag8_median',\n",
    "'avg_time_discharging_lag9_median',\n",
    "'avg_time_discharging_lag10_median',\n",
    "'avg_time_discharging_lag11_median',\n",
    "'avg_time_discharging_lag12_random',\n",
    "'avg_time_discharging_lag13_random',\n",
    "'avg_time_discharging_lag14_random']].mean(axis=1)\n",
    "    \n",
    "    df_aggregate['avg_discharging_rate_for_all_lags'] = df[[\n",
    "'discharging_rate_lag3',\n",
    "'discharging_rate_lag4',\n",
    "'discharging_rate_lag5',\n",
    "'discharging_rate_lag7_median','discharging_rate_lag6_median','discharging_rate_lag8_median']].mean(axis=1)\n",
    "    \n",
    "    df_aggregate['avg_charge_time_for_all_lags'] = df[['avg_time_charging_lag1',\n",
    "'avg_time_charging_lag2',\n",
    "'avg_time_charging_lag3',\n",
    "'avg_time_charging_lag4',\n",
    "'avg_time_charging',\n",
    "'avg_time_charging_lag7_median',\n",
    "'avg_time_charging_lag5_median',\n",
    "'avg_time_charging_lag6_median',\n",
    "'avg_time_charging_lag8_median',\n",
    "'avg_time_charging_lag9_median',\n",
    "'avg_time_charging_lag10_median',\n",
    "'avg_time_charging_lag11_median',\n",
    "'avg_time_charging_lag12_random',\n",
    "'avg_time_charging_lag13_random',\n",
    "'avg_time_charging_lag14_random']].mean(axis=1)\n",
    "    \n",
    "    df_aggregate = df_aggregate.drop(['avg_time_discharging_lag1',\n",
    "'avg_time_discharging_lag2',\n",
    "'avg_time_discharging_lag3',\n",
    "'avg_time_discharging_lag4',\n",
    "'avg_time_discharging',\n",
    "'avg_time_discharging_lag7_median',\n",
    "'avg_time_discharging_lag5_median',\n",
    "'avg_time_discharging_lag6_median',\n",
    "'avg_time_discharging_lag8_median',\n",
    "'avg_time_discharging_lag9_median',\n",
    "'avg_time_discharging_lag10_median',\n",
    "'avg_time_discharging_lag11_median',\n",
    "'avg_time_discharging_lag12_random',\n",
    "'avg_time_discharging_lag13_random',\n",
    "'avg_time_discharging_lag14_random','charging_rate_lag3','charging_rate_lag6_median',\n",
    "'charging_rate_lag4',\n",
    "'charging_rate_lag5',\n",
    "'charging_rate_lag7_median','avg_time_charging_lag1',\n",
    "'avg_time_charging_lag2',\n",
    "'avg_time_charging_lag3',\n",
    "'avg_time_charging_lag4',\n",
    "'avg_time_charging',\n",
    "'avg_time_charging_lag7_median',\n",
    "'avg_time_charging_lag5_median',\n",
    "'avg_time_charging_lag6_median',\n",
    "'avg_time_charging_lag8_median',\n",
    "'avg_time_charging_lag9_median',\n",
    "'avg_time_charging_lag10_median',\n",
    "'avg_time_charging_lag11_median',\n",
    "'avg_time_charging_lag12_random',\n",
    "'avg_time_charging_lag13_random',\n",
    "'avg_time_charging_lag14_random','discharging_rate_lag3',\n",
    "'discharging_rate_lag4',\n",
    "'discharging_rate_lag5',\n",
    "'discharging_rate_lag7_median','discharging_rate_lag6_median','discharging_rate_lag8_median'], axis=1)\n",
    "    return df_aggregate"
   ]
  },
  {
   "cell_type": "code",
   "execution_count": 41,
   "id": "a69a89c9",
   "metadata": {},
   "outputs": [],
   "source": [
    "df3 = aggregate(df2)"
   ]
  },
  {
   "cell_type": "code",
   "execution_count": 42,
   "id": "5ef54e51",
   "metadata": {},
   "outputs": [
    {
     "data": {
      "text/plain": [
       "Index(['deviceid', 'charge_cycle_time_below_12', 'chargecycles',\n",
       "       'dischargecycles', 'total_off_time', 'number_times_restart',\n",
       "       'avg_volt_change_charging', 'avg_volt_change_discharging',\n",
       "       'max_voltage_day', 'piececount', 'cycle_time', 'LastRecord',\n",
       "       'Date Deployed', 'avg_charging_rate_for_all_lags',\n",
       "       'avg_discharge_time_for_all_lags', 'avg_discharging_rate_for_all_lags',\n",
       "       'avg_charge_time_for_all_lags'],\n",
       "      dtype='object')"
      ]
     },
     "execution_count": 42,
     "metadata": {},
     "output_type": "execute_result"
    }
   ],
   "source": [
    "df3.columns"
   ]
  },
  {
   "cell_type": "code",
   "execution_count": 44,
   "id": "8ea48424",
   "metadata": {},
   "outputs": [
    {
     "name": "stdout",
     "output_type": "stream",
     "text": [
      "<class 'pandas.core.frame.DataFrame'>\n",
      "RangeIndex: 4500 entries, 0 to 4499\n",
      "Data columns (total 17 columns):\n",
      " #   Column                             Non-Null Count  Dtype  \n",
      "---  ------                             --------------  -----  \n",
      " 0   deviceid                           4500 non-null   int64  \n",
      " 1   charge_cycle_time_below_12         4500 non-null   bool   \n",
      " 2   chargecycles                       4500 non-null   float64\n",
      " 3   dischargecycles                    4500 non-null   float64\n",
      " 4   total_off_time                     4500 non-null   float64\n",
      " 5   number_times_restart               4500 non-null   float64\n",
      " 6   avg_volt_change_charging           4500 non-null   float64\n",
      " 7   avg_volt_change_discharging        4500 non-null   float64\n",
      " 8   max_voltage_day                    4500 non-null   float64\n",
      " 9   piececount                         4500 non-null   float64\n",
      " 10  cycle_time                         4500 non-null   float64\n",
      " 11  LastRecord                         4500 non-null   object \n",
      " 12  Date Deployed                      4500 non-null   object \n",
      " 13  avg_charging_rate_for_all_lags     4500 non-null   float64\n",
      " 14  avg_discharge_time_for_all_lags    4500 non-null   float64\n",
      " 15  avg_discharging_rate_for_all_lags  4500 non-null   float64\n",
      " 16  avg_charge_time_for_all_lags       4500 non-null   float64\n",
      "dtypes: bool(1), float64(13), int64(1), object(2)\n",
      "memory usage: 567.0+ KB\n"
     ]
    }
   ],
   "source": [
    "df3.info()"
   ]
  },
  {
   "cell_type": "code",
   "execution_count": 45,
   "id": "c7beb878",
   "metadata": {},
   "outputs": [
    {
     "data": {
      "text/plain": [
       "0       571\n",
       "1       566\n",
       "2       539\n",
       "3       536\n",
       "4       530\n",
       "       ... \n",
       "4495    532\n",
       "4496    566\n",
       "4497    577\n",
       "4498    535\n",
       "4499    543\n",
       "Name: days, Length: 4500, dtype: int16"
      ]
     },
     "execution_count": 45,
     "metadata": {},
     "output_type": "execute_result"
    }
   ],
   "source": [
    "#### Fixing the Date\n",
    "# Covert to Datetime\n",
    "# Calculate days between LastRecord ~ DateDeployed\n",
    "df3['LastRecord'] = pd.to_datetime(df3['LastRecord'])\n",
    "df3['Date Deployed'] = pd.to_datetime(df3['Date Deployed'])\n",
    "df3['days'] = df3['LastRecord'] - df3['Date Deployed']\n",
    "df3['days'] = df3['days'].dt.days.astype('int16')\n",
    "df3['days']"
   ]
  },
  {
   "cell_type": "code",
   "execution_count": 50,
   "id": "a9bf1fba",
   "metadata": {},
   "outputs": [],
   "source": [
    "df3.drop(['LastRecord','Date Deployed'], axis=1, inplace=True)"
   ]
  },
  {
   "cell_type": "code",
   "execution_count": 52,
   "id": "0e17d194",
   "metadata": {},
   "outputs": [
    {
     "data": {
      "text/plain": [
       "(4500, 16)"
      ]
     },
     "execution_count": 52,
     "metadata": {},
     "output_type": "execute_result"
    }
   ],
   "source": [
    "df3.shape"
   ]
  },
  {
   "cell_type": "code",
   "execution_count": 58,
   "id": "3e2f6c75",
   "metadata": {},
   "outputs": [
    {
     "name": "stdout",
     "output_type": "stream",
     "text": [
      "<class 'pandas.core.frame.DataFrame'>\n",
      "RangeIndex: 4500 entries, 0 to 4499\n",
      "Data columns (total 16 columns):\n",
      " #   Column                             Non-Null Count  Dtype  \n",
      "---  ------                             --------------  -----  \n",
      " 0   deviceid                           4500 non-null   int64  \n",
      " 1   charge_cycle_time_below_12         4500 non-null   bool   \n",
      " 2   chargecycles                       4500 non-null   float64\n",
      " 3   dischargecycles                    4500 non-null   float64\n",
      " 4   total_off_time                     4500 non-null   float64\n",
      " 5   number_times_restart               4500 non-null   float64\n",
      " 6   avg_volt_change_charging           4500 non-null   float64\n",
      " 7   avg_volt_change_discharging        4500 non-null   float64\n",
      " 8   max_voltage_day                    4500 non-null   float64\n",
      " 9   piececount                         4500 non-null   float64\n",
      " 10  cycle_time                         4500 non-null   float64\n",
      " 11  avg_charging_rate_for_all_lags     4500 non-null   float64\n",
      " 12  avg_discharge_time_for_all_lags    4500 non-null   float64\n",
      " 13  avg_discharging_rate_for_all_lags  4500 non-null   float64\n",
      " 14  avg_charge_time_for_all_lags       4500 non-null   float64\n",
      " 15  days                               4500 non-null   int16  \n",
      "dtypes: bool(1), float64(13), int16(1), int64(1)\n",
      "memory usage: 505.5 KB\n"
     ]
    }
   ],
   "source": [
    "df3.info()"
   ]
  },
  {
   "cell_type": "code",
   "execution_count": 59,
   "id": "9cfb05b1",
   "metadata": {},
   "outputs": [],
   "source": [
    "df3.rename(columns={'days':'Days'}, inplace=True)"
   ]
  },
  {
   "cell_type": "code",
   "execution_count": 60,
   "id": "3e4dc3a0",
   "metadata": {},
   "outputs": [
    {
     "name": "stdout",
     "output_type": "stream",
     "text": [
      "<class 'pandas.core.frame.DataFrame'>\n",
      "RangeIndex: 4500 entries, 0 to 4499\n",
      "Data columns (total 16 columns):\n",
      " #   Column                             Non-Null Count  Dtype  \n",
      "---  ------                             --------------  -----  \n",
      " 0   deviceid                           4500 non-null   int64  \n",
      " 1   charge_cycle_time_below_12         4500 non-null   bool   \n",
      " 2   chargecycles                       4500 non-null   float64\n",
      " 3   dischargecycles                    4500 non-null   float64\n",
      " 4   total_off_time                     4500 non-null   float64\n",
      " 5   number_times_restart               4500 non-null   float64\n",
      " 6   avg_volt_change_charging           4500 non-null   float64\n",
      " 7   avg_volt_change_discharging        4500 non-null   float64\n",
      " 8   max_voltage_day                    4500 non-null   float64\n",
      " 9   piececount                         4500 non-null   float64\n",
      " 10  cycle_time                         4500 non-null   float64\n",
      " 11  avg_charging_rate_for_all_lags     4500 non-null   float64\n",
      " 12  avg_discharge_time_for_all_lags    4500 non-null   float64\n",
      " 13  avg_discharging_rate_for_all_lags  4500 non-null   float64\n",
      " 14  avg_charge_time_for_all_lags       4500 non-null   float64\n",
      " 15  Days                               4500 non-null   int16  \n",
      "dtypes: bool(1), float64(13), int16(1), int64(1)\n",
      "memory usage: 505.5 KB\n"
     ]
    }
   ],
   "source": [
    "df3.info()"
   ]
  },
  {
   "cell_type": "code",
   "execution_count": 61,
   "id": "d720f604",
   "metadata": {},
   "outputs": [],
   "source": [
    "df3.to_csv('test_for_submission_cleaned.csv')"
   ]
  },
  {
   "cell_type": "code",
   "execution_count": 65,
   "id": "b4c4bb12",
   "metadata": {},
   "outputs": [
    {
     "data": {
      "text/plain": [
       "deviceid                             0\n",
       "charge_cycle_time_below_12           0\n",
       "chargecycles                         0\n",
       "dischargecycles                      0\n",
       "total_off_time                       0\n",
       "number_times_restart                 0\n",
       "avg_volt_change_charging             0\n",
       "avg_volt_change_discharging          0\n",
       "max_voltage_day                      0\n",
       "piececount                           0\n",
       "cycle_time                           0\n",
       "avg_charging_rate_for_all_lags       0\n",
       "avg_discharge_time_for_all_lags      0\n",
       "avg_discharging_rate_for_all_lags    0\n",
       "avg_charge_time_for_all_lags         0\n",
       "Days                                 0\n",
       "dtype: int64"
      ]
     },
     "execution_count": 65,
     "metadata": {},
     "output_type": "execute_result"
    }
   ],
   "source": [
    "df3.isna().sum()"
   ]
  }
 ],
 "metadata": {
  "kernelspec": {
   "display_name": "Python 3 (ipykernel)",
   "language": "python",
   "name": "python3"
  },
  "language_info": {
   "codemirror_mode": {
    "name": "ipython",
    "version": 3
   },
   "file_extension": ".py",
   "mimetype": "text/x-python",
   "name": "python",
   "nbconvert_exporter": "python",
   "pygments_lexer": "ipython3",
   "version": "3.9.7"
  }
 },
 "nbformat": 4,
 "nbformat_minor": 5
}
