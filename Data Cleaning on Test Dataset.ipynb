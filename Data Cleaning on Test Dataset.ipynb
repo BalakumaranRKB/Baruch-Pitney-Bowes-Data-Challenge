{
 "cells": [
  {
   "cell_type": "markdown",
   "metadata": {},
   "source": [
    "# Pitney Bowes Data Challenge_Team 2 \n",
    "## Noyonika, Balakumaran , Eun Hee"
   ]
  },
  {
   "cell_type": "markdown",
   "metadata": {},
   "source": [
    "##### Import Data and Check"
   ]
  },
  {
   "cell_type": "code",
   "execution_count": 1,
   "metadata": {},
   "outputs": [],
   "source": [
    "import pandas as pd"
   ]
  },
  {
   "cell_type": "code",
   "execution_count": 2,
   "metadata": {},
   "outputs": [
    {
     "data": {
      "text/plain": [
       "deviceid                          0\n",
       "avg_time_charging_lag1            0\n",
       "avg_time_charging_lag2            0\n",
       "avg_time_charging_lag3            0\n",
       "avg_time_charging_lag7           66\n",
       "charging_rate_lag3                0\n",
       "charging_rate_lag7               12\n",
       "avg_time_discharging_lag1         0\n",
       "avg_time_discharging_lag2         0\n",
       "avg_time_discharging_lag3         0\n",
       "avg_time_discharging_lag7        66\n",
       "discharging_rate_lag3             0\n",
       "discharging_rate_lag7            12\n",
       "fail_7                            0\n",
       "charge_cycle_time_below_12        0\n",
       "avg_time_charging_lag4            0\n",
       "avg_time_discharging_lag4         0\n",
       "avg_time_charging_lag5            7\n",
       "avg_time_discharging_lag5         7\n",
       "avg_time_charging_lag6           28\n",
       "avg_time_discharging_lag6        28\n",
       "avg_time_charging_lag8          162\n",
       "avg_time_discharging_lag8       162\n",
       "avg_time_charging_lag9          374\n",
       "avg_time_discharging_lag9       374\n",
       "avg_time_charging_lag10         797\n",
       "avg_time_discharging_lag10      797\n",
       "avg_time_charging_lag11        1586\n",
       "avg_time_discharging_lag11     1586\n",
       "avg_time_charging_lag12        2757\n",
       "avg_time_discharging_lag12     2757\n",
       "avg_time_charging_lag13        4382\n",
       "avg_time_discharging_lag13     4382\n",
       "avg_time_charging_lag14        6668\n",
       "avg_time_discharging_lag14     6668\n",
       "discharging_rate_lag4             0\n",
       "discharging_rate_lag5             0\n",
       "discharging_rate_lag6             2\n",
       "discharging_rate_lag8            31\n",
       "charging_rate_lag4                0\n",
       "charging_rate_lag5                0\n",
       "charging_rate_lag6                2\n",
       "chargecycles                      0\n",
       "dischargecycles                   0\n",
       "total_off_time                    0\n",
       "number_times_restart              0\n",
       "avg_volt_change_charging          0\n",
       "avg_volt_change_discharging       0\n",
       "avg_time_charging                 0\n",
       "avg_time_discharging              0\n",
       "max_voltage_day                   0\n",
       "piececount                        0\n",
       "cycle_time                        0\n",
       "LastRecord                        0\n",
       "Date Deployed                     0\n",
       "dtype: int64"
      ]
     },
     "execution_count": 2,
     "metadata": {},
     "output_type": "execute_result"
    }
   ],
   "source": [
    "df1 =  pd.read_csv(\"train updated 04132022.csv\")\n",
    "# Check missing values\n",
    "df1.isna().sum()"
   ]
  },
  {
   "cell_type": "markdown",
   "metadata": {},
   "source": [
    "##### Performing Mean, Median, Mode Imputation"
   ]
  },
  {
   "cell_type": "code",
   "execution_count": 3,
   "metadata": {},
   "outputs": [],
   "source": [
    "lists_via_MMM_imputation = [\"avg_time_charging_lag7\", \n",
    "\"charging_rate_lag7\",\n",
    "\"charging_rate_lag6\",\n",
    "\"avg_time_discharging_lag7\",\n",
    "\"discharging_rate_lag7\",\n",
    "\"avg_time_charging_lag5\",\n",
    "\"avg_time_discharging_lag5\",\n",
    "\"avg_time_charging_lag6\",\n",
    "\"avg_time_charging_lag8\",\n",
    "\"avg_time_discharging_lag8\",       \n",
    "\"avg_time_charging_lag9\",          \n",
    "\"avg_time_discharging_lag9\",       \n",
    "\"avg_time_charging_lag10\",         \n",
    "\"avg_time_discharging_lag10\",      \n",
    "\"avg_time_charging_lag11\",        \n",
    "\"avg_time_discharging_lag11\",\n",
    "\"avg_time_discharging_lag6\",\n",
    "\"discharging_rate_lag6\",\n",
    "\"discharging_rate_lag8\"]"
   ]
  },
  {
   "cell_type": "code",
   "execution_count": 4,
   "metadata": {},
   "outputs": [],
   "source": [
    "df2 = df1.copy()"
   ]
  },
  {
   "cell_type": "code",
   "execution_count": 5,
   "metadata": {},
   "outputs": [],
   "source": [
    "def impute_nan(df,variable,median):\n",
    "    df[variable+\"_median\"]=df[variable].fillna(median)"
   ]
  },
  {
   "cell_type": "code",
   "execution_count": 6,
   "metadata": {},
   "outputs": [],
   "source": [
    "# Find the median of the feature and insert it into a new dataframe\n",
    "def impute_nan(df1,df2,variable):\n",
    "    median = df1[variable].median()\n",
    "    df2[variable+\"_median\"]=df2[variable].fillna(median)\n",
    "    return df2"
   ]
  },
  {
   "cell_type": "code",
   "execution_count": 7,
   "metadata": {},
   "outputs": [],
   "source": [
    "for i in lists_via_MMM_imputation:\n",
    "    impute_nan(df1,df2,i)"
   ]
  },
  {
   "cell_type": "markdown",
   "metadata": {},
   "source": [
    "##### Performing Imputation via Random Sample method"
   ]
  },
  {
   "cell_type": "code",
   "execution_count": 8,
   "metadata": {},
   "outputs": [],
   "source": [
    "# Fill the NaN via random sample method , these are the features\n",
    "impute_nan_via_Random_Sample =  [\"avg_time_charging_lag12\",\n",
    "'avg_time_discharging_lag12',           \n",
    "\"avg_time_charging_lag13\",           \n",
    "\"avg_time_discharging_lag13\",          \n",
    "\"avg_time_charging_lag14\",         \n",
    "\"avg_time_discharging_lag14\"]"
   ]
  },
  {
   "cell_type": "code",
   "execution_count": 9,
   "metadata": {},
   "outputs": [],
   "source": [
    "# It will have the random sample to fill the na\n",
    "def impute_nan_2(df,variable):\n",
    "    df[variable+\"_random\"]=df[variable]\n",
    "    random_sample=df[variable].dropna().sample(df[variable].isnull().sum(),random_state=0)\n",
    "    # pandas need to have same index in order to merge the dataset\n",
    "    random_sample.index=df[df[variable].isnull()].index\n",
    "    df.loc[df[variable].isnull(),variable+'_random']=random_sample"
   ]
  },
  {
   "cell_type": "code",
   "execution_count": 10,
   "metadata": {},
   "outputs": [],
   "source": [
    "for i in impute_nan_via_Random_Sample:\n",
    "    impute_nan_2(df2,i)"
   ]
  },
  {
   "cell_type": "code",
   "execution_count": 11,
   "metadata": {},
   "outputs": [],
   "source": [
    "df2 = df2.drop(columns = [\"avg_time_charging_lag12\",\n",
    "'avg_time_discharging_lag12',           \n",
    "\"avg_time_charging_lag13\",           \n",
    "\"avg_time_discharging_lag13\",          \n",
    "\"avg_time_charging_lag14\",         \n",
    "\"avg_time_discharging_lag14\",\"avg_time_charging_lag7\", \n",
    "\"charging_rate_lag7\", \n",
    "\"avg_time_discharging_lag7\",\n",
    "\"discharging_rate_lag7\",\n",
    "\"avg_time_charging_lag5\",\n",
    "\"avg_time_discharging_lag5\",\n",
    "\"avg_time_charging_lag6\",\n",
    "\"avg_time_charging_lag8\",\n",
    "\"avg_time_discharging_lag8\",       \n",
    "\"avg_time_charging_lag9\",          \n",
    "\"avg_time_discharging_lag9\",       \n",
    "\"avg_time_charging_lag10\",         \n",
    "\"avg_time_discharging_lag10\",      \n",
    "\"avg_time_charging_lag11\",        \n",
    "\"avg_time_discharging_lag11\",\"avg_time_discharging_lag6\",\n",
    "\"discharging_rate_lag6\",\n",
    "\"discharging_rate_lag8\",\n",
    "\"charging_rate_lag6\"])"
   ]
  },
  {
   "cell_type": "code",
   "execution_count": 12,
   "metadata": {},
   "outputs": [
    {
     "data": {
      "text/plain": [
       "deviceid                             0\n",
       "avg_time_charging_lag1               0\n",
       "avg_time_charging_lag2               0\n",
       "avg_time_charging_lag3               0\n",
       "charging_rate_lag3                   0\n",
       "avg_time_discharging_lag1            0\n",
       "avg_time_discharging_lag2            0\n",
       "avg_time_discharging_lag3            0\n",
       "discharging_rate_lag3                0\n",
       "fail_7                               0\n",
       "charge_cycle_time_below_12           0\n",
       "avg_time_charging_lag4               0\n",
       "avg_time_discharging_lag4            0\n",
       "discharging_rate_lag4                0\n",
       "discharging_rate_lag5                0\n",
       "charging_rate_lag4                   0\n",
       "charging_rate_lag5                   0\n",
       "chargecycles                         0\n",
       "dischargecycles                      0\n",
       "total_off_time                       0\n",
       "number_times_restart                 0\n",
       "avg_volt_change_charging             0\n",
       "avg_volt_change_discharging          0\n",
       "avg_time_charging                    0\n",
       "avg_time_discharging                 0\n",
       "max_voltage_day                      0\n",
       "piececount                           0\n",
       "cycle_time                           0\n",
       "LastRecord                           0\n",
       "Date Deployed                        0\n",
       "avg_time_charging_lag7_median        0\n",
       "charging_rate_lag7_median            0\n",
       "charging_rate_lag6_median            0\n",
       "avg_time_discharging_lag7_median     0\n",
       "discharging_rate_lag7_median         0\n",
       "avg_time_charging_lag5_median        0\n",
       "avg_time_discharging_lag5_median     0\n",
       "avg_time_charging_lag6_median        0\n",
       "avg_time_charging_lag8_median        0\n",
       "avg_time_discharging_lag8_median     0\n",
       "avg_time_charging_lag9_median        0\n",
       "avg_time_discharging_lag9_median     0\n",
       "avg_time_charging_lag10_median       0\n",
       "avg_time_discharging_lag10_median    0\n",
       "avg_time_charging_lag11_median       0\n",
       "avg_time_discharging_lag11_median    0\n",
       "avg_time_discharging_lag6_median     0\n",
       "discharging_rate_lag6_median         0\n",
       "discharging_rate_lag8_median         0\n",
       "avg_time_charging_lag12_random       0\n",
       "avg_time_discharging_lag12_random    0\n",
       "avg_time_charging_lag13_random       0\n",
       "avg_time_discharging_lag13_random    0\n",
       "avg_time_charging_lag14_random       0\n",
       "avg_time_discharging_lag14_random    0\n",
       "dtype: int64"
      ]
     },
     "execution_count": 12,
     "metadata": {},
     "output_type": "execute_result"
    }
   ],
   "source": [
    "# Check if there is remian missing values\n",
    "df2.isna().sum()"
   ]
  },
  {
   "cell_type": "code",
   "execution_count": 13,
   "metadata": {},
   "outputs": [
    {
     "data": {
      "text/plain": [
       "(40500, 55)"
      ]
     },
     "execution_count": 13,
     "metadata": {},
     "output_type": "execute_result"
    }
   ],
   "source": [
    "df2.shape"
   ]
  },
  {
   "cell_type": "markdown",
   "metadata": {},
   "source": [
    "##### Aggregation for lags"
   ]
  },
  {
   "cell_type": "code",
   "execution_count": 14,
   "metadata": {},
   "outputs": [],
   "source": [
    "# Writing Custom Functions to aggregate\n",
    "def aggregate(df):\n",
    "    df_aggregate = df.copy()\n",
    "    df_aggregate['avg_charging_rate_for_all_lags'] = df[['charging_rate_lag3','charging_rate_lag6_median',\n",
    "'charging_rate_lag4',\n",
    "'charging_rate_lag5',\n",
    "'charging_rate_lag7_median']].mean(axis=1)\n",
    "    \n",
    "    df_aggregate['avg_discharge_time_for_all_lags'] = df[['avg_time_discharging_lag1',\n",
    "'avg_time_discharging_lag2',\n",
    "'avg_time_discharging_lag3',\n",
    "'avg_time_discharging_lag4',\n",
    "'avg_time_discharging',\n",
    "'avg_time_discharging_lag7_median',\n",
    "'avg_time_discharging_lag5_median',\n",
    "'avg_time_discharging_lag6_median',\n",
    "'avg_time_discharging_lag8_median',\n",
    "'avg_time_discharging_lag9_median',\n",
    "'avg_time_discharging_lag10_median',\n",
    "'avg_time_discharging_lag11_median',\n",
    "'avg_time_discharging_lag12_random',\n",
    "'avg_time_discharging_lag13_random',\n",
    "'avg_time_discharging_lag14_random']].mean(axis=1)\n",
    "    \n",
    "    df_aggregate['avg_discharging_rate_for_all_lags'] = df[[\n",
    "'discharging_rate_lag3',\n",
    "'discharging_rate_lag4',\n",
    "'discharging_rate_lag5',\n",
    "'discharging_rate_lag7_median','discharging_rate_lag6_median','discharging_rate_lag8_median']].mean(axis=1)\n",
    "    \n",
    "    df_aggregate['avg_charge_time_for_all_lags'] = df[['avg_time_charging_lag1',\n",
    "'avg_time_charging_lag2',\n",
    "'avg_time_charging_lag3',\n",
    "'avg_time_charging_lag4',\n",
    "'avg_time_charging',\n",
    "'avg_time_charging_lag7_median',\n",
    "'avg_time_charging_lag5_median',\n",
    "'avg_time_charging_lag6_median',\n",
    "'avg_time_charging_lag8_median',\n",
    "'avg_time_charging_lag9_median',\n",
    "'avg_time_charging_lag10_median',\n",
    "'avg_time_charging_lag11_median',\n",
    "'avg_time_charging_lag12_random',\n",
    "'avg_time_charging_lag13_random',\n",
    "'avg_time_charging_lag14_random']].mean(axis=1)\n",
    "    \n",
    "    df_aggregate = df_aggregate.drop(['avg_time_discharging_lag1',\n",
    "'avg_time_discharging_lag2',\n",
    "'avg_time_discharging_lag3',\n",
    "'avg_time_discharging_lag4',\n",
    "'avg_time_discharging',\n",
    "'avg_time_discharging_lag7_median',\n",
    "'avg_time_discharging_lag5_median',\n",
    "'avg_time_discharging_lag6_median',\n",
    "'avg_time_discharging_lag8_median',\n",
    "'avg_time_discharging_lag9_median',\n",
    "'avg_time_discharging_lag10_median',\n",
    "'avg_time_discharging_lag11_median',\n",
    "'avg_time_discharging_lag12_random',\n",
    "'avg_time_discharging_lag13_random',\n",
    "'avg_time_discharging_lag14_random','charging_rate_lag3','charging_rate_lag6_median',\n",
    "'charging_rate_lag4',\n",
    "'charging_rate_lag5',\n",
    "'charging_rate_lag7_median','avg_time_charging_lag1',\n",
    "'avg_time_charging_lag2',\n",
    "'avg_time_charging_lag3',\n",
    "'avg_time_charging_lag4',\n",
    "'avg_time_charging',\n",
    "'avg_time_charging_lag7_median',\n",
    "'avg_time_charging_lag5_median',\n",
    "'avg_time_charging_lag6_median',\n",
    "'avg_time_charging_lag8_median',\n",
    "'avg_time_charging_lag9_median',\n",
    "'avg_time_charging_lag10_median',\n",
    "'avg_time_charging_lag11_median',\n",
    "'avg_time_charging_lag12_random',\n",
    "'avg_time_charging_lag13_random',\n",
    "'avg_time_charging_lag14_random','discharging_rate_lag3',\n",
    "'discharging_rate_lag4',\n",
    "'discharging_rate_lag5',\n",
    "'discharging_rate_lag7_median','discharging_rate_lag6_median','discharging_rate_lag8_median'], axis=1)\n",
    "    return df_aggregate"
   ]
  },
  {
   "cell_type": "code",
   "execution_count": 15,
   "metadata": {},
   "outputs": [
    {
     "data": {
      "text/plain": [
       "<matplotlib.legend.Legend at 0x7f8b828aaca0>"
      ]
     },
     "execution_count": 15,
     "metadata": {},
     "output_type": "execute_result"
    },
    {
     "data": {
      "image/png": "[encoded data removed]",
      "text/plain": [
       "<Figure size 432x288 with 1 Axes>"
      ]
     },
     "metadata": {
      "needs_background": "light"
     },
     "output_type": "display_data"
    }
   ],
   "source": [
    "# Check Kernal Density\n",
    "\n",
    "import matplotlib.pyplot as plt\n",
    "%matplotlib inline\n",
    "fig = plt.figure()\n",
    "ax = fig.add_subplot(111)\n",
    "df1['avg_time_charging_lag14'].plot(kind='kde', ax=ax)\n",
    "df2.avg_time_charging_lag14_random.plot(kind='kde', ax=ax, color='yellow')\n",
    "lines, labels = ax.get_legend_handles_labels()\n",
    "ax.legend(lines, labels, loc='best')"
   ]
  },
  {
   "cell_type": "code",
   "execution_count": 16,
   "metadata": {},
   "outputs": [],
   "source": [
    "df3 = aggregate(df2)"
   ]
  },
  {
   "cell_type": "code",
   "execution_count": 17,
   "metadata": {},
   "outputs": [
    {
     "data": {
      "text/plain": [
       "Index(['deviceid', 'fail_7', 'charge_cycle_time_below_12', 'chargecycles',\n",
       "       'dischargecycles', 'total_off_time', 'number_times_restart',\n",
       "       'avg_volt_change_charging', 'avg_volt_change_discharging',\n",
       "       'max_voltage_day', 'piececount', 'cycle_time', 'LastRecord',\n",
       "       'Date Deployed', 'avg_charging_rate_for_all_lags',\n",
       "       'avg_discharge_time_for_all_lags', 'avg_discharging_rate_for_all_lags',\n",
       "       'avg_charge_time_for_all_lags'],\n",
       "      dtype='object')"
      ]
     },
     "execution_count": 17,
     "metadata": {},
     "output_type": "execute_result"
    }
   ],
   "source": [
    "# Columns after imputation and aggregation\n",
    "df3.columns"
   ]
  },
  {
   "cell_type": "code",
   "execution_count": 18,
   "metadata": {},
   "outputs": [
    {
     "name": "stdout",
     "output_type": "stream",
     "text": [
      "<class 'pandas.core.frame.DataFrame'>\n",
      "RangeIndex: 40500 entries, 0 to 40499\n",
      "Data columns (total 18 columns):\n",
      " #   Column                             Non-Null Count  Dtype  \n",
      "---  ------                             --------------  -----  \n",
      " 0   deviceid                           40500 non-null  int64  \n",
      " 1   fail_7                             40500 non-null  int64  \n",
      " 2   charge_cycle_time_below_12         40500 non-null  bool   \n",
      " 3   chargecycles                       40500 non-null  float64\n",
      " 4   dischargecycles                    40500 non-null  float64\n",
      " 5   total_off_time                     40500 non-null  float64\n",
      " 6   number_times_restart               40500 non-null  float64\n",
      " 7   avg_volt_change_charging           40500 non-null  float64\n",
      " 8   avg_volt_change_discharging        40500 non-null  float64\n",
      " 9   max_voltage_day                    40500 non-null  float64\n",
      " 10  piececount                         40500 non-null  float64\n",
      " 11  cycle_time                         40500 non-null  float64\n",
      " 12  LastRecord                         40500 non-null  object \n",
      " 13  Date Deployed                      40500 non-null  object \n",
      " 14  avg_charging_rate_for_all_lags     40500 non-null  float64\n",
      " 15  avg_discharge_time_for_all_lags    40500 non-null  float64\n",
      " 16  avg_discharging_rate_for_all_lags  40500 non-null  float64\n",
      " 17  avg_charge_time_for_all_lags       40500 non-null  float64\n",
      "dtypes: bool(1), float64(13), int64(2), object(2)\n",
      "memory usage: 5.3+ MB\n"
     ]
    }
   ],
   "source": [
    "df3.info()"
   ]
  },
  {
   "cell_type": "code",
   "execution_count": 19,
   "metadata": {},
   "outputs": [
    {
     "data": {
      "text/plain": [
       "0        543\n",
       "1        522\n",
       "2        518\n",
       "3        548\n",
       "4        566\n",
       "        ... \n",
       "40495    574\n",
       "40496    561\n",
       "40497    531\n",
       "40498    547\n",
       "40499    563\n",
       "Name: Days, Length: 40500, dtype: int16"
      ]
     },
     "execution_count": 19,
     "metadata": {},
     "output_type": "execute_result"
    }
   ],
   "source": [
    "# Fixing the Date\n",
    "# Covert to Datetime\n",
    "df3['LastRecord'] = pd.to_datetime(df3['LastRecord'])\n",
    "df3['Date Deployed'] = pd.to_datetime(df3['Date Deployed'])\n",
    "# Calculate days between LastRecord ~ DateDeployed\n",
    "df3['Days'] = df3['LastRecord'] - df3['Date Deployed']\n",
    "df3['Days'] = df3['Days'].dt.days.astype('int16')\n",
    "df3['Days']"
   ]
  },
  {
   "cell_type": "code",
   "execution_count": 20,
   "metadata": {},
   "outputs": [],
   "source": [
    "df3.drop(['LastRecord','Date Deployed'], axis=1, inplace=True)"
   ]
  },
  {
   "cell_type": "code",
   "execution_count": 23,
   "metadata": {},
   "outputs": [
    {
     "data": {
      "text/plain": [
       "0        0\n",
       "1        0\n",
       "2        0\n",
       "3        0\n",
       "4        1\n",
       "        ..\n",
       "40495    1\n",
       "40496    1\n",
       "40497    1\n",
       "40498    1\n",
       "40499    1\n",
       "Name: charge_cycle_time_below_12, Length: 40500, dtype: int8"
      ]
     },
     "execution_count": 23,
     "metadata": {},
     "output_type": "execute_result"
    }
   ],
   "source": [
    "# Convert Boolean to int\n",
    "df3['charge_cycle_time_below_12']=df3['charge_cycle_time_below_12'].astype('category').cat.codes\n",
    "df3['charge_cycle_time_below_12']"
   ]
  },
  {
   "cell_type": "code",
   "execution_count": 24,
   "metadata": {},
   "outputs": [
    {
     "data": {
      "text/plain": [
       "(40500, 17)"
      ]
     },
     "execution_count": 24,
     "metadata": {},
     "output_type": "execute_result"
    }
   ],
   "source": [
    "# Final dataframe\n",
    "df3.shape"
   ]
  },
  {
   "cell_type": "code",
   "execution_count": 25,
   "metadata": {},
   "outputs": [
    {
     "name": "stdout",
     "output_type": "stream",
     "text": [
      "<class 'pandas.core.frame.DataFrame'>\n",
      "RangeIndex: 40500 entries, 0 to 40499\n",
      "Data columns (total 17 columns):\n",
      " #   Column                             Non-Null Count  Dtype  \n",
      "---  ------                             --------------  -----  \n",
      " 0   deviceid                           40500 non-null  int64  \n",
      " 1   fail_7                             40500 non-null  int64  \n",
      " 2   charge_cycle_time_below_12         40500 non-null  int8   \n",
      " 3   chargecycles                       40500 non-null  float64\n",
      " 4   dischargecycles                    40500 non-null  float64\n",
      " 5   total_off_time                     40500 non-null  float64\n",
      " 6   number_times_restart               40500 non-null  float64\n",
      " 7   avg_volt_change_charging           40500 non-null  float64\n",
      " 8   avg_volt_change_discharging        40500 non-null  float64\n",
      " 9   max_voltage_day                    40500 non-null  float64\n",
      " 10  piececount                         40500 non-null  float64\n",
      " 11  cycle_time                         40500 non-null  float64\n",
      " 12  avg_charging_rate_for_all_lags     40500 non-null  float64\n",
      " 13  avg_discharge_time_for_all_lags    40500 non-null  float64\n",
      " 14  avg_discharging_rate_for_all_lags  40500 non-null  float64\n",
      " 15  avg_charge_time_for_all_lags       40500 non-null  float64\n",
      " 16  Days                               40500 non-null  int16  \n",
      "dtypes: float64(13), int16(1), int64(2), int8(1)\n",
      "memory usage: 4.8 MB\n"
     ]
    }
   ],
   "source": [
    "df3.info()"
   ]
  },
  {
   "cell_type": "code",
   "execution_count": 26,
   "metadata": {},
   "outputs": [
    {
     "data": {
      "text/plain": [
       "deviceid                             0\n",
       "fail_7                               0\n",
       "charge_cycle_time_below_12           0\n",
       "chargecycles                         0\n",
       "dischargecycles                      0\n",
       "total_off_time                       0\n",
       "number_times_restart                 0\n",
       "avg_volt_change_charging             0\n",
       "avg_volt_change_discharging          0\n",
       "max_voltage_day                      0\n",
       "piececount                           0\n",
       "cycle_time                           0\n",
       "avg_charging_rate_for_all_lags       0\n",
       "avg_discharge_time_for_all_lags      0\n",
       "avg_discharging_rate_for_all_lags    0\n",
       "avg_charge_time_for_all_lags         0\n",
       "Days                                 0\n",
       "dtype: int64"
      ]
     },
     "execution_count": 26,
     "metadata": {},
     "output_type": "execute_result"
    }
   ],
   "source": [
    "df3.isna().sum()"
   ]
  },
  {
   "cell_type": "code",
   "execution_count": 28,
   "metadata": {},
   "outputs": [],
   "source": [
    "df3.to_csv('train_data_cleaned.csv')"
   ]
  },
  {
   "cell_type": "code",
   "execution_count": null,
   "metadata": {},
   "outputs": [],
   "source": []
  }
 ],
 "metadata": {
  "kernelspec": {
   "display_name": "Python 3",
   "language": "python",
   "name": "python3"
  },
  "language_info": {
   "codemirror_mode": {
    "name": "ipython",
    "version": 3
   },
   "file_extension": ".py",
   "mimetype": "text/x-python",
   "name": "python",
   "nbconvert_exporter": "python",
   "pygments_lexer": "ipython3",
   "version": "3.8.3"
  }
 },
 "nbformat": 4,
 "nbformat_minor": 5
}
