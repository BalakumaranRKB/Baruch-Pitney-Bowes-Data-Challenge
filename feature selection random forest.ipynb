{
 "cells": [
  {
   "cell_type": "code",
   "execution_count": 6,
   "id": "22f9f313",
   "metadata": {},
   "outputs": [],
   "source": [
    "import pandas as pd\n",
    "from sklearn.ensemble import RandomForestClassifier\n",
    "from sklearn.feature_selection import SelectFromModel\n",
    "from sklearn.model_selection import train_test_split"
   ]
  },
  {
   "cell_type": "code",
   "execution_count": 7,
   "id": "83520b3b",
   "metadata": {},
   "outputs": [
    {
     "data": {
      "text/html": [
       "<div>\n",
       "<style scoped>\n",
       "    .dataframe tbody tr th:only-of-type {\n",
       "        vertical-align: middle;\n",
       "    }\n",
       "\n",
       "    .dataframe tbody tr th {\n",
       "        vertical-align: top;\n",
       "    }\n",
       "\n",
       "    .dataframe thead th {\n",
       "        text-align: right;\n",
       "    }\n",
       "</style>\n",
       "<table border=\"1\" class=\"dataframe\">\n",
       "  <thead>\n",
       "    <tr style=\"text-align: right;\">\n",
       "      <th></th>\n",
       "      <th>avg_time_charging_lag1</th>\n",
       "      <th>avg_time_charging_lag2</th>\n",
       "      <th>avg_time_charging_lag3</th>\n",
       "      <th>charging_rate_lag3</th>\n",
       "      <th>avg_time_discharging_lag1</th>\n",
       "      <th>avg_time_discharging_lag2</th>\n",
       "      <th>avg_time_discharging_lag3</th>\n",
       "      <th>discharging_rate_lag3</th>\n",
       "      <th>charge_cycle_time_below_12</th>\n",
       "      <th>avg_time_charging_lag4</th>\n",
       "      <th>...</th>\n",
       "      <th>discharging_rate_lag6_median</th>\n",
       "      <th>discharging_rate_lag8_median</th>\n",
       "      <th>avg_time_charging_lag12_random</th>\n",
       "      <th>avg_time_discharging_lag12_random</th>\n",
       "      <th>avg_time_charging_lag13_random</th>\n",
       "      <th>avg_time_discharging_lag13_random</th>\n",
       "      <th>avg_time_charging_lag14_random</th>\n",
       "      <th>avg_time_discharging_lag14_random</th>\n",
       "      <th>Days</th>\n",
       "      <th>fail_7</th>\n",
       "    </tr>\n",
       "  </thead>\n",
       "  <tbody>\n",
       "    <tr>\n",
       "      <th>0</th>\n",
       "      <td>0.044546</td>\n",
       "      <td>0.409384</td>\n",
       "      <td>0.080534</td>\n",
       "      <td>0.890524</td>\n",
       "      <td>0.037009</td>\n",
       "      <td>0.828327</td>\n",
       "      <td>0.136601</td>\n",
       "      <td>0.365791</td>\n",
       "      <td>False</td>\n",
       "      <td>0.024585</td>\n",
       "      <td>...</td>\n",
       "      <td>0.622073</td>\n",
       "      <td>0.747085</td>\n",
       "      <td>0.024805</td>\n",
       "      <td>0.041633</td>\n",
       "      <td>0.024729</td>\n",
       "      <td>0.028677</td>\n",
       "      <td>0.028984</td>\n",
       "      <td>0.042778</td>\n",
       "      <td>0.686567</td>\n",
       "      <td>0</td>\n",
       "    </tr>\n",
       "    <tr>\n",
       "      <th>1</th>\n",
       "      <td>0.432996</td>\n",
       "      <td>0.041909</td>\n",
       "      <td>0.076458</td>\n",
       "      <td>0.891102</td>\n",
       "      <td>0.597424</td>\n",
       "      <td>0.053068</td>\n",
       "      <td>0.047526</td>\n",
       "      <td>0.384668</td>\n",
       "      <td>False</td>\n",
       "      <td>0.129345</td>\n",
       "      <td>...</td>\n",
       "      <td>0.543742</td>\n",
       "      <td>0.748188</td>\n",
       "      <td>0.093281</td>\n",
       "      <td>0.168223</td>\n",
       "      <td>0.176043</td>\n",
       "      <td>0.340139</td>\n",
       "      <td>0.030757</td>\n",
       "      <td>0.065392</td>\n",
       "      <td>0.582090</td>\n",
       "      <td>0</td>\n",
       "    </tr>\n",
       "    <tr>\n",
       "      <th>2</th>\n",
       "      <td>0.049358</td>\n",
       "      <td>0.040683</td>\n",
       "      <td>0.055336</td>\n",
       "      <td>0.884205</td>\n",
       "      <td>0.044314</td>\n",
       "      <td>0.045057</td>\n",
       "      <td>0.028665</td>\n",
       "      <td>0.340314</td>\n",
       "      <td>False</td>\n",
       "      <td>0.267046</td>\n",
       "      <td>...</td>\n",
       "      <td>0.605585</td>\n",
       "      <td>0.753230</td>\n",
       "      <td>0.026202</td>\n",
       "      <td>0.038698</td>\n",
       "      <td>0.022890</td>\n",
       "      <td>0.032476</td>\n",
       "      <td>0.221858</td>\n",
       "      <td>0.385565</td>\n",
       "      <td>0.562189</td>\n",
       "      <td>0</td>\n",
       "    </tr>\n",
       "    <tr>\n",
       "      <th>3</th>\n",
       "      <td>0.038870</td>\n",
       "      <td>0.396504</td>\n",
       "      <td>0.441206</td>\n",
       "      <td>0.890409</td>\n",
       "      <td>0.032779</td>\n",
       "      <td>0.688786</td>\n",
       "      <td>0.558263</td>\n",
       "      <td>0.382947</td>\n",
       "      <td>False</td>\n",
       "      <td>0.021194</td>\n",
       "      <td>...</td>\n",
       "      <td>0.599664</td>\n",
       "      <td>0.749081</td>\n",
       "      <td>0.021311</td>\n",
       "      <td>0.033805</td>\n",
       "      <td>0.101397</td>\n",
       "      <td>0.176052</td>\n",
       "      <td>0.028452</td>\n",
       "      <td>0.035711</td>\n",
       "      <td>0.711443</td>\n",
       "      <td>0</td>\n",
       "    </tr>\n",
       "    <tr>\n",
       "      <th>4</th>\n",
       "      <td>0.044299</td>\n",
       "      <td>0.431156</td>\n",
       "      <td>0.056695</td>\n",
       "      <td>0.889985</td>\n",
       "      <td>0.040085</td>\n",
       "      <td>0.643910</td>\n",
       "      <td>0.025490</td>\n",
       "      <td>0.386964</td>\n",
       "      <td>True</td>\n",
       "      <td>0.452949</td>\n",
       "      <td>...</td>\n",
       "      <td>0.605451</td>\n",
       "      <td>0.721609</td>\n",
       "      <td>0.027949</td>\n",
       "      <td>0.045725</td>\n",
       "      <td>0.210149</td>\n",
       "      <td>0.452759</td>\n",
       "      <td>0.176033</td>\n",
       "      <td>0.347875</td>\n",
       "      <td>0.800995</td>\n",
       "      <td>0</td>\n",
       "    </tr>\n",
       "  </tbody>\n",
       "</table>\n",
       "<p>5 rows × 52 columns</p>\n",
       "</div>"
      ],
      "text/plain": [
       "   avg_time_charging_lag1  avg_time_charging_lag2  avg_time_charging_lag3  \\\n",
       "0                0.044546                0.409384                0.080534   \n",
       "1                0.432996                0.041909                0.076458   \n",
       "2                0.049358                0.040683                0.055336   \n",
       "3                0.038870                0.396504                0.441206   \n",
       "4                0.044299                0.431156                0.056695   \n",
       "\n",
       "   charging_rate_lag3  avg_time_discharging_lag1  avg_time_discharging_lag2  \\\n",
       "0            0.890524                   0.037009                   0.828327   \n",
       "1            0.891102                   0.597424                   0.053068   \n",
       "2            0.884205                   0.044314                   0.045057   \n",
       "3            0.890409                   0.032779                   0.688786   \n",
       "4            0.889985                   0.040085                   0.643910   \n",
       "\n",
       "   avg_time_discharging_lag3  discharging_rate_lag3  \\\n",
       "0                   0.136601               0.365791   \n",
       "1                   0.047526               0.384668   \n",
       "2                   0.028665               0.340314   \n",
       "3                   0.558263               0.382947   \n",
       "4                   0.025490               0.386964   \n",
       "\n",
       "   charge_cycle_time_below_12  avg_time_charging_lag4  ...  \\\n",
       "0                       False                0.024585  ...   \n",
       "1                       False                0.129345  ...   \n",
       "2                       False                0.267046  ...   \n",
       "3                       False                0.021194  ...   \n",
       "4                        True                0.452949  ...   \n",
       "\n",
       "   discharging_rate_lag6_median  discharging_rate_lag8_median  \\\n",
       "0                      0.622073                      0.747085   \n",
       "1                      0.543742                      0.748188   \n",
       "2                      0.605585                      0.753230   \n",
       "3                      0.599664                      0.749081   \n",
       "4                      0.605451                      0.721609   \n",
       "\n",
       "   avg_time_charging_lag12_random  avg_time_discharging_lag12_random  \\\n",
       "0                        0.024805                           0.041633   \n",
       "1                        0.093281                           0.168223   \n",
       "2                        0.026202                           0.038698   \n",
       "3                        0.021311                           0.033805   \n",
       "4                        0.027949                           0.045725   \n",
       "\n",
       "   avg_time_charging_lag13_random  avg_time_discharging_lag13_random  \\\n",
       "0                        0.024729                           0.028677   \n",
       "1                        0.176043                           0.340139   \n",
       "2                        0.022890                           0.032476   \n",
       "3                        0.101397                           0.176052   \n",
       "4                        0.210149                           0.452759   \n",
       "\n",
       "   avg_time_charging_lag14_random  avg_time_discharging_lag14_random  \\\n",
       "0                        0.028984                           0.042778   \n",
       "1                        0.030757                           0.065392   \n",
       "2                        0.221858                           0.385565   \n",
       "3                        0.028452                           0.035711   \n",
       "4                        0.176033                           0.347875   \n",
       "\n",
       "       Days  fail_7  \n",
       "0  0.686567       0  \n",
       "1  0.582090       0  \n",
       "2  0.562189       0  \n",
       "3  0.711443       0  \n",
       "4  0.800995       0  \n",
       "\n",
       "[5 rows x 52 columns]"
      ]
     },
     "execution_count": 7,
     "metadata": {},
     "output_type": "execute_result"
    }
   ],
   "source": [
    "data= pd.read_csv(\"SMOTE_dataset.csv\", index_col = 0)\n",
    "data.head()"
   ]
  },
  {
   "cell_type": "code",
   "execution_count": 9,
   "id": "676caf49",
   "metadata": {},
   "outputs": [],
   "source": [
    "target = data[\"fail_7\"]\n",
    "features = data.drop(columns = [\"fail_7\"])\n",
    "X_train, X_test, y_train, y_test = train_test_split(features, target, test_size=0.3)"
   ]
  },
  {
   "cell_type": "code",
   "execution_count": 10,
   "id": "69b70284",
   "metadata": {},
   "outputs": [
    {
     "data": {
      "text/plain": [
       "SelectFromModel(estimator=RandomForestClassifier())"
      ]
     },
     "execution_count": 10,
     "metadata": {},
     "output_type": "execute_result"
    }
   ],
   "source": [
    "sel = SelectFromModel(RandomForestClassifier(n_estimators = 100))\n",
    "sel.fit(X_train, y_train)"
   ]
  },
  {
   "cell_type": "code",
   "execution_count": 11,
   "id": "8495d8c3",
   "metadata": {},
   "outputs": [
    {
     "data": {
      "text/plain": [
       "array([False, False, False,  True, False, False, False,  True,  True,\n",
       "       False, False, False, False, False, False, False, False,  True,\n",
       "        True,  True,  True, False, False, False, False, False, False,\n",
       "       False, False, False, False, False, False, False, False, False,\n",
       "       False, False, False, False, False, False, False, False, False,\n",
       "       False, False, False, False, False,  True])"
      ]
     },
     "execution_count": 11,
     "metadata": {},
     "output_type": "execute_result"
    }
   ],
   "source": [
    "sel.get_support()"
   ]
  },
  {
   "cell_type": "code",
   "execution_count": 12,
   "id": "ea404f93",
   "metadata": {},
   "outputs": [
    {
     "data": {
      "text/plain": [
       "8"
      ]
     },
     "execution_count": 12,
     "metadata": {},
     "output_type": "execute_result"
    }
   ],
   "source": [
    "selected_feat= X_train.columns[(sel.get_support())]\n",
    "len(selected_feat)"
   ]
  },
  {
   "cell_type": "code",
   "execution_count": 13,
   "id": "23a91c42",
   "metadata": {},
   "outputs": [
    {
     "name": "stdout",
     "output_type": "stream",
     "text": [
      "Index(['charging_rate_lag3', 'discharging_rate_lag3',\n",
      "       'charge_cycle_time_below_12', 'total_off_time', 'number_times_restart',\n",
      "       'avg_volt_change_charging', 'avg_volt_change_discharging', 'Days'],\n",
      "      dtype='object')\n"
     ]
    }
   ],
   "source": [
    "print(selected_feat)"
   ]
  },
  {
   "cell_type": "code",
   "execution_count": 22,
   "id": "9270ac84",
   "metadata": {},
   "outputs": [
    {
     "data": {
      "text/plain": [
       "<AxesSubplot:>"
      ]
     },
     "execution_count": 22,
     "metadata": {},
     "output_type": "execute_result"
    },
    {
     "data": {
      "image/png": "[encoded data removed]",
      "text/plain": [
       "<Figure size 432x288 with 1 Axes>"
      ]
     },
     "metadata": {
      "needs_background": "light"
     },
     "output_type": "display_data"
    }
   ],
   "source": [
    "pd.Series(sel.estimator_.feature_importances_.ravel()).hist()"
   ]
  },
  {
   "cell_type": "code",
   "execution_count": null,
   "id": "c06e6173",
   "metadata": {},
   "outputs": [],
   "source": []
  }
 ],
 "metadata": {
  "kernelspec": {
   "display_name": "Python 3",
   "language": "python",
   "name": "python3"
  },
  "language_info": {
   "codemirror_mode": {
    "name": "ipython",
    "version": 3
   },
   "file_extension": ".py",
   "mimetype": "text/x-python",
   "name": "python",
   "nbconvert_exporter": "python",
   "pygments_lexer": "ipython3",
   "version": "3.8.8"
  }
 },
 "nbformat": 4,
 "nbformat_minor": 5
}
